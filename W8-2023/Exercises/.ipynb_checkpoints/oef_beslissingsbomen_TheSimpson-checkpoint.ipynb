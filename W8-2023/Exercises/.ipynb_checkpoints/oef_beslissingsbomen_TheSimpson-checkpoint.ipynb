{
 "cells": [
  {
   "cell_type": "code",
   "execution_count": 58,
   "metadata": {
    "ExecuteTime": {
     "end_time": "2023-06-10T22:37:48.455215800Z",
     "start_time": "2023-06-10T22:37:48.416543Z"
    },
    "collapsed": true
   },
   "outputs": [],
   "source": [
    "import os\n",
    "import numpy as np\n",
    "import pandas as pd\n",
    "import math\n",
    "import statistics as stat\n",
    "import matplotlib.pyplot as plt\n",
    "from statsmodels.graphics.tsaplots import plot_acf\n",
    "from statsmodels.tsa.seasonal import seasonal_decompose\n",
    "from scipy import stats\n",
    "from id3 import Id3Estimator, export_text\n",
    "import warnings\n",
    "\n",
    "pd.set_option('display.max_columns', None)\n",
    "pd.set_option('display.max_row', None)\n",
    "warnings.simplefilter(action='ignore', category=(FutureWarning, DeprecationWarning))\n",
    "os.chdir(r\"C:\\Users\\stefb\\Documents\\git_repos\\data_science\\Sources\")\n",
    "missing_values = ['n/a', 'na', 'nan', 'N/A', 'NA', 'NaN', 'NAN', '--', 'Missing', 'missing', 'MISSING', 'Unknown',\n",
    "                  'Weet ik niet', 'None', 'ONBEKEND', '\"ontbrekend\"', '\"onbekend\"', 'onbekend']"
   ]
  },
  {
   "cell_type": "markdown",
   "metadata": {},
   "source": [
    "# Vraag 1: The Simpsons (Basic)\n",
    "1. Lees het bestand van de simpsons"
   ]
  },
  {
   "cell_type": "code",
   "execution_count": 59,
   "metadata": {
    "ExecuteTime": {
     "end_time": "2023-06-10T22:37:48.531232400Z",
     "start_time": "2023-06-10T22:37:48.427855500Z"
    }
   },
   "outputs": [
    {
     "data": {
      "text/plain": [
       "<bound method DataFrame.info of   haarlengte gewicht leeftijd geslacht\n",
       "0         <3    >160    30-40        M\n",
       "1         >5   <=160    30-40        V\n",
       "2         <3   <=160      <30        M\n",
       "3         >5   <=160      <30        V\n",
       "4        3-5   <=160      <30        V\n",
       "5         <3    >160      >40        M\n",
       "6         >5   <=160      >40        V\n",
       "7         >5    >160    30-40        M\n",
       "8         >5    >160      >40        M>"
      ]
     },
     "execution_count": 59,
     "metadata": {},
     "output_type": "execute_result"
    }
   ],
   "source": [
    "df = pd.read_csv('simpsons.csv',delimiter=',')\n",
    "df.info"
   ]
  },
  {
   "cell_type": "markdown",
   "metadata": {},
   "source": [
    "2. Bereken zelf de entropie van deze tabel. Schrijf ook de formule op\n"
   ]
  },
  {
   "cell_type": "code",
   "execution_count": 60,
   "metadata": {
    "ExecuteTime": {
     "end_time": "2023-06-10T22:37:48.552214800Z",
     "start_time": "2023-06-10T22:37:48.442854100Z"
    }
   },
   "outputs": [
    {
     "data": {
      "text/plain": [
       "0.9910760598382222"
      ]
     },
     "execution_count": 60,
     "metadata": {},
     "output_type": "execute_result"
    }
   ],
   "source": [
    "-(5/9)*math.log2(5/9)-(4/9)*math.log2(4/9)"
   ]
  },
  {
   "cell_type": "markdown",
   "metadata": {},
   "source": [
    "**de te berekenen kolom is altijd de laatste**\n",
    "_n = totaal rijen_\n",
    "_p = aantal rijen met specifieke waarde_"
   ]
  },
  {
   "cell_type": "markdown",
   "metadata": {},
   "source": [
    "3. Bereken de gain voor iedere kolom. Kan je ook de gain van de laatste kolom berekenen? Welke waarde vind je dan? Schrijf ook telkens de formule op"
   ]
  },
  {
   "cell_type": "code",
   "execution_count": 61,
   "metadata": {
    "ExecuteTime": {
     "end_time": "2023-06-10T22:37:48.552214800Z",
     "start_time": "2023-06-10T22:37:48.460214900Z"
    }
   },
   "outputs": [],
   "source": [
    "def entropy(column: pd.Series, base=None):\n",
    "    # Determine the fractions for all column values\n",
    "    fractions = column.value_counts(normalize=True, sort=False)\n",
    "    base = 2 if base is None else base\n",
    "    return -(fractions * np.log(fractions) / np.log(base)).sum()\n",
    "\n",
    "def information_gain(df: pd.DataFrame, s: str, target: str):\n",
    "    # calculate entropy of parent table\n",
    "    entropy_parent = entropy(df[target])\n",
    "    child_entropies = []\n",
    "    child_weights = []\n",
    "    # compute entropies of child tables\n",
    "    for (label, p) in df[s].value_counts().items():\n",
    "        child_df = df[df[s] == label]\n",
    "        child_entropies.append(entropy(child_df[target]))\n",
    "        child_weights.append(int(p))\n",
    "    # calculate the difference between parent entropy and weighted child entropies\n",
    "    return entropy_parent - np.average(child_entropies, weights=child_weights)\n",
    "\n",
    "def infGainAll(df,target):\n",
    "    for label in df.columns:\n",
    "        print('{}: {}'.format(label, information_gain(df, label, target)))"
   ]
  },
  {
   "cell_type": "code",
   "execution_count": 62,
   "metadata": {
    "ExecuteTime": {
     "end_time": "2023-06-10T22:37:48.552214800Z",
     "start_time": "2023-06-10T22:37:48.484216200Z"
    }
   },
   "outputs": [
    {
     "name": "stdout",
     "output_type": "stream",
     "text": [
      "haarlengte: 0.45165906291896163\n",
      "gewicht: 0.5900048960119098\n",
      "leeftijd: 0.07278022578373256\n",
      "geslacht: 0.9910760598382221\n"
     ]
    }
   ],
   "source": [
    "infGainAll(df,target='geslacht')"
   ]
  },
  {
   "cell_type": "markdown",
   "metadata": {},
   "source": [
    "4. Bepaal de subtabel waarbij het gewicht altijd <=160 is.\n",
    "5. Wat is de entropie van deze subtabel?\n",
    "6. Bepaal de gain voor iedere kolom van deze subtabel. Welke kolom kies je dus voor de volgende stap?"
   ]
  },
  {
   "cell_type": "code",
   "execution_count": 63,
   "metadata": {
    "ExecuteTime": {
     "end_time": "2023-06-10T22:37:48.553216600Z",
     "start_time": "2023-06-10T22:37:48.493214200Z"
    }
   },
   "outputs": [
    {
     "name": "stdout",
     "output_type": "stream",
     "text": [
      "  haarlengte gewicht leeftijd geslacht\n",
      "1         >5   <=160    30-40        V\n",
      "2         <3   <=160      <30        M\n",
      "3         >5   <=160      <30        V\n",
      "4        3-5   <=160      <30        V\n",
      "6         >5   <=160      >40        V\n"
     ]
    },
    {
     "data": {
      "text/plain": [
       "0.7219280948873623"
      ]
     },
     "execution_count": 63,
     "metadata": {},
     "output_type": "execute_result"
    }
   ],
   "source": [
    "df2 = df\n",
    "df2.drop(df2[df2['gewicht']== '>160'].index,inplace=True)\n",
    "df2.reset_index()\n",
    "print(df2)\n",
    "-(1/5)*math.log2(1/5)-(4/5)*math.log2(4/5)"
   ]
  },
  {
   "cell_type": "code",
   "execution_count": 68,
   "metadata": {
    "ExecuteTime": {
     "end_time": "2023-06-10T22:39:07.386310700Z",
     "start_time": "2023-06-10T22:39:07.318311300Z"
    }
   },
   "outputs": [
    {
     "name": "stdout",
     "output_type": "stream",
     "text": [
      "haarlengte: 0.7219280948873623\n",
      "gewicht: 0.0\n",
      "leeftijd: 0.17095059445466854\n",
      "geslacht: 0.7219280948873623\n"
     ]
    }
   ],
   "source": [
    "infGainAll(df2,'geslacht')"
   ]
  },
  {
   "cell_type": "markdown",
   "metadata": {},
   "source": [
    "7. Maak de boomstructuur in Python met de gegeven ID3 functies\n",
    "\n",
    "# TODO"
   ]
  },
  {
   "cell_type": "code",
   "execution_count": 65,
   "metadata": {
    "ExecuteTime": {
     "end_time": "2023-06-10T22:37:48.553216600Z",
     "start_time": "2023-06-10T22:37:48.523218900Z"
    }
   },
   "outputs": [
    {
     "name": "stdout",
     "output_type": "stream",
     "text": [
      "\n",
      "gewicht <=160\n",
      "|   haarlengte 3-5: V (1) \n",
      "|   haarlengte <3: M (1) \n",
      "|   haarlengte >5: V (3) \n",
      "gewicht >160: M (4) \n",
      "\n"
     ]
    }
   ],
   "source": [
    "simpsons = pd.read_csv(\"simpsons.csv\")\n",
    "model = Id3Estimator()\n",
    "# X = features, y = target\n",
    "X = simpsons.drop(['geslacht'], axis=1).values.tolist()\n",
    "y = simpsons['geslacht'].values.tolist()\n",
    "model.fit(X,y)\n",
    "print(export_text(model.tree_, feature_names=simpsons.drop([ 'geslacht'], axis=1).columns))"
   ]
  },
  {
   "cell_type": "markdown",
   "metadata": {},
   "source": [
    "8. Hoe zou de volgende simpson geklasseerd worden? haarlengte: 8, gewicht: 290, leeftijd: 38"
   ]
  },
  {
   "cell_type": "code",
   "execution_count": 66,
   "metadata": {
    "ExecuteTime": {
     "end_time": "2023-06-10T22:37:48.553216600Z",
     "start_time": "2023-06-10T22:37:48.537216200Z"
    }
   },
   "outputs": [
    {
     "data": {
      "text/plain": [
       "array(['M'], dtype='<U1')"
      ]
     },
     "execution_count": 66,
     "metadata": {},
     "output_type": "execute_result"
    }
   ],
   "source": [
    "Z = np.array([['>5', '>160', '30-40']])\n",
    "model.predict(Z)"
   ]
  },
  {
   "cell_type": "markdown",
   "metadata": {},
   "source": [
    "9. Maak de boomstructuur in Python met ID3Estimator. Kom je dezelfde boomstructuur uit?"
   ]
  },
  {
   "cell_type": "code",
   "execution_count": 67,
   "metadata": {
    "ExecuteTime": {
     "end_time": "2023-06-10T22:37:48.739216200Z",
     "start_time": "2023-06-10T22:37:48.556223100Z"
    }
   },
   "outputs": [
    {
     "data": {
      "image/png": "[encoded data removed]",
      "text/plain": [
       "<Figure size 640x480 with 1 Axes>"
      ]
     },
     "metadata": {},
     "output_type": "display_data"
    }
   ],
   "source": [
    "from id3 import export_graphviz\n",
    "export_graphviz(model.tree_, 'beslissingsboom.dot', feature_names=simpsons.drop([ 'geslacht'], axis=1).columns)\n",
    "!dot -Tpng beslissingsboom.dot -o beslissingsboom.png\n",
    "\n",
    "img = plt.imread('beslissingsboom.png')\n",
    "plt.figure()\n",
    "plt.imshow(img)\n",
    "plt.show()"
   ]
  }
 ],
 "metadata": {
  "kernelspec": {
   "display_name": "Python 3 (ipykernel)",
   "language": "python",
   "name": "python3"
  },
  "language_info": {
   "codemirror_mode": {
    "name": "ipython",
    "version": 3
   },
   "file_extension": ".py",
   "mimetype": "text/x-python",
   "name": "python",
   "nbconvert_exporter": "python",
   "pygments_lexer": "ipython3",
   "version": "3.11.2"
  }
 },
 "nbformat": 4,
 "nbformat_minor": 1
}
