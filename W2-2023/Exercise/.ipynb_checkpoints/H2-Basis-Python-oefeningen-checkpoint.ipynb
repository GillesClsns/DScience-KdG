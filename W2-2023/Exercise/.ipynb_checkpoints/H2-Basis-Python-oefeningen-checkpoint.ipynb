{
 "cells": [
  {
   "cell_type": "markdown",
   "metadata": {},
   "source": [
    "# Oefeningen basis Python"
   ]
  },
  {
   "cell_type": "markdown",
   "metadata": {},
   "source": [
    "Importeer de volgende bibliotheken: math, numpy en pandas"
   ]
  },
  {
   "cell_type": "code",
   "execution_count": 408,
   "metadata": {},
   "outputs": [],
   "source": [
    "import numpy as np\n",
    "import pandas as pd"
   ]
  },
  {
   "cell_type": "markdown",
   "metadata": {},
   "source": [
    "## Lijsten en tabellen"
   ]
  },
  {
   "cell_type": "markdown",
   "metadata": {},
   "source": [
    "Maak een list met volgende waarden: 1, 2, 3, 4, 5 en stop deze in de variabele \"id\""
   ]
  },
  {
   "cell_type": "code",
   "execution_count": 409,
   "metadata": {
    "collapsed": true
   },
   "outputs": [
    {
     "name": "stdout",
     "output_type": "stream",
     "text": [
      "[1, 2, 3, 4, 5] <class 'list'>\n"
     ]
    }
   ],
   "source": [
    "id = list(range(1, 6))\n",
    "print(id, type(id))"
   ]
  },
  {
   "cell_type": "markdown",
   "metadata": {},
   "source": [
    "Maak een numpy array met volgende waarden: 15, 18, 11, 17, 20 en stop deze in de variabele \"leeftijd\""
   ]
  },
  {
   "cell_type": "code",
   "execution_count": 410,
   "metadata": {},
   "outputs": [
    {
     "name": "stdout",
     "output_type": "stream",
     "text": [
      "[15 16 17 18 19] <class 'numpy.ndarray'>\n"
     ]
    }
   ],
   "source": [
    "leeftijd = np.array(range(15, 20))\n",
    "print(leeftijd, type(leeftijd))"
   ]
  },
  {
   "cell_type": "markdown",
   "metadata": {},
   "source": [
    "Zet de waarden van \"leeftijd\" om naar een pandas Series en zet het resultaat terug in de variabele \"leeftijd\".  Verifieer dat het type klopt."
   ]
  },
  {
   "cell_type": "code",
   "execution_count": 411,
   "metadata": {},
   "outputs": [
    {
     "name": "stdout",
     "output_type": "stream",
     "text": [
      "0    15\n",
      "1    16\n",
      "2    17\n",
      "3    18\n",
      "4    19\n",
      "dtype: int32 <class 'pandas.core.series.Series'>\n"
     ]
    }
   ],
   "source": [
    "leeftijd = pd.Series(leeftijd)\n",
    "print(leeftijd, type(leeftijd))"
   ]
  },
  {
   "cell_type": "markdown",
   "metadata": {},
   "source": [
    "Maak een list met volgende waarden: 54.2, 68.1, 41.7, 59.5, 65.4 en stop deze in de variabele \"gewicht\""
   ]
  },
  {
   "cell_type": "code",
   "execution_count": 412,
   "metadata": {},
   "outputs": [
    {
     "name": "stdout",
     "output_type": "stream",
     "text": [
      "[54.2, 68.1, 41.7, 59.5, 65.4] <class 'list'>\n"
     ]
    }
   ],
   "source": [
    "gewicht = [54.2, 68.1, 41.7, 59.5, 65.4]\n",
    "print(gewicht, type(gewicht))"
   ]
  },
  {
   "cell_type": "markdown",
   "metadata": {},
   "source": [
    "Maak een numpy array met volgende waarden: 36.5, 37.1, 36.4, 37.2, 36.9 en stop deze in de variabele \"temp\""
   ]
  },
  {
   "cell_type": "code",
   "execution_count": 413,
   "metadata": {},
   "outputs": [
    {
     "name": "stdout",
     "output_type": "stream",
     "text": [
      "[36.5 37.1 36.4 37.2 36.9] <class 'numpy.ndarray'>\n"
     ]
    }
   ],
   "source": [
    "temp = np.array([36.5, 37.1, 36.4, 37.2, 36.9])\n",
    "print(temp, type(temp))"
   ]
  },
  {
   "cell_type": "markdown",
   "metadata": {},
   "source": [
    "Zet de array \"temp\" om naar een list en bewaar het resultaat terug in \"temp\".  Verfifieer dat het type nu wel degelijk een list is."
   ]
  },
  {
   "cell_type": "code",
   "execution_count": 414,
   "metadata": {},
   "outputs": [
    {
     "name": "stdout",
     "output_type": "stream",
     "text": [
      "[36.5, 37.1, 36.4, 37.2, 36.9] <class 'list'>\n"
     ]
    }
   ],
   "source": [
    "temp = temp.tolist()\n",
    "print(temp, type(temp))"
   ]
  },
  {
   "cell_type": "markdown",
   "metadata": {},
   "source": [
    "Maak een tabel (data frame) waarin de vorige lijsten de kolommen vormen en stop deze in de variabele \"gegevens\".  Gebruik voor de namen van de kolommen de namen van de variabelen (\"id\", \"leeftijd\", \"gewicht\" en \"temp\")."
   ]
  },
  {
   "cell_type": "code",
   "execution_count": 415,
   "metadata": {},
   "outputs": [
    {
     "name": "stdout",
     "output_type": "stream",
     "text": [
      "   id  leeftijd  gewicht  temp\n",
      "0   1        15     54.2  36.5\n",
      "1   2        16     68.1  37.1\n",
      "2   3        17     41.7  36.4\n",
      "3   4        18     59.5  37.2\n",
      "4   5        19     65.4  36.9\n"
     ]
    }
   ],
   "source": [
    "gegevens = pd.DataFrame({'id': id, 'leeftijd': leeftijd, 'gewicht': gewicht, 'temp': temp})\n",
    "print(gegevens)"
   ]
  },
  {
   "cell_type": "markdown",
   "metadata": {},
   "source": [
    "Toon de kolomnamen van de tabel"
   ]
  },
  {
   "cell_type": "code",
   "execution_count": 416,
   "metadata": {},
   "outputs": [
    {
     "name": "stdout",
     "output_type": "stream",
     "text": [
      "Index(['id', 'leeftijd', 'gewicht', 'temp'], dtype='object')\n"
     ]
    }
   ],
   "source": [
    "print(gegevens.keys())"
   ]
  },
  {
   "cell_type": "markdown",
   "metadata": {},
   "source": [
    "Toon het aantal kolommen"
   ]
  },
  {
   "cell_type": "code",
   "execution_count": 417,
   "metadata": {},
   "outputs": [
    {
     "name": "stdout",
     "output_type": "stream",
     "text": [
      "4\n"
     ]
    }
   ],
   "source": [
    "print(gegevens.shape[1])  #print(len(gegevens.columns))"
   ]
  },
  {
   "cell_type": "markdown",
   "metadata": {},
   "source": [
    "Toon de kolom met naam 'temp'"
   ]
  },
  {
   "cell_type": "code",
   "execution_count": 418,
   "metadata": {},
   "outputs": [
    {
     "name": "stdout",
     "output_type": "stream",
     "text": [
      "0    36.5\n",
      "1    37.1\n",
      "2    36.4\n",
      "3    37.2\n",
      "4    36.9\n",
      "Name: temp, dtype: float64\n"
     ]
    }
   ],
   "source": [
    "print(gegevens['temp'])  # print(gegevens.temp)"
   ]
  },
  {
   "cell_type": "markdown",
   "metadata": {},
   "source": [
    "Toon de 2e kolom uit de tabel zonder de naam te gebruiken"
   ]
  },
  {
   "cell_type": "code",
   "execution_count": 419,
   "metadata": {},
   "outputs": [
    {
     "name": "stdout",
     "output_type": "stream",
     "text": [
      "0    15\n",
      "1    16\n",
      "2    17\n",
      "3    18\n",
      "4    19\n",
      "Name: leeftijd, dtype: int32\n"
     ]
    }
   ],
   "source": [
    "print(gegevens.iloc[:, 1])"
   ]
  },
  {
   "cell_type": "markdown",
   "metadata": {},
   "source": [
    "Verwijder de derde rij uit de tabel"
   ]
  },
  {
   "cell_type": "code",
   "execution_count": 420,
   "metadata": {},
   "outputs": [],
   "source": [
    "gegevens.drop(2, inplace=True)"
   ]
  },
  {
   "cell_type": "markdown",
   "metadata": {},
   "source": [
    "Toon de 3e rij uit de tabel"
   ]
  },
  {
   "cell_type": "code",
   "execution_count": 421,
   "metadata": {},
   "outputs": [
    {
     "data": {
      "text/plain": [
       "id           4.0\n",
       "leeftijd    18.0\n",
       "gewicht     59.5\n",
       "temp        37.2\n",
       "Name: 3, dtype: float64"
      ]
     },
     "execution_count": 421,
     "metadata": {},
     "output_type": "execute_result"
    }
   ],
   "source": [
    "gegevens.iloc[2]"
   ]
  },
  {
   "cell_type": "markdown",
   "metadata": {},
   "source": [
    "Toon de 2e en de 4e rij uit de tabel"
   ]
  },
  {
   "cell_type": "code",
   "execution_count": 422,
   "metadata": {},
   "outputs": [
    {
     "name": "stdout",
     "output_type": "stream",
     "text": [
      "   id  leeftijd  gewicht  temp\n",
      "1   2        16     68.1  37.1\n",
      "4   5        19     65.4  36.9 \n",
      "    id  leeftijd  gewicht  temp\n",
      "0   1        15     54.2  36.5\n",
      "1   2        16     68.1  37.1\n",
      "3   4        18     59.5  37.2\n",
      "4   5        19     65.4  36.9\n"
     ]
    }
   ],
   "source": [
    "print(gegevens.iloc[[1, 3]], \"\\n\", gegevens)"
   ]
  },
  {
   "cell_type": "markdown",
   "metadata": {},
   "source": [
    "Toon de 2e tot en met 4e rij uit de tabel"
   ]
  },
  {
   "cell_type": "code",
   "execution_count": 423,
   "metadata": {},
   "outputs": [
    {
     "name": "stdout",
     "output_type": "stream",
     "text": [
      "   id  leeftijd  gewicht  temp\n",
      "1   2        16     68.1  37.1\n",
      "3   4        18     59.5  37.2\n",
      "4   5        19     65.4  36.9 \n",
      "    id  leeftijd  gewicht  temp\n",
      "0   1        15     54.2  36.5\n",
      "1   2        16     68.1  37.1\n",
      "3   4        18     59.5  37.2\n",
      "4   5        19     65.4  36.9\n"
     ]
    }
   ],
   "source": [
    "print(gegevens.iloc[1:5], \"\\n\", gegevens)"
   ]
  },
  {
   "cell_type": "markdown",
   "metadata": {},
   "source": [
    "Bereken de minimum en maximum leeftijd.  Je kan dit doen door de methoden \"min()\" en \"max()\" op te roepen op de kolom."
   ]
  },
  {
   "cell_type": "code",
   "execution_count": 424,
   "metadata": {},
   "outputs": [
    {
     "name": "stdout",
     "output_type": "stream",
     "text": [
      "Minimum leeftijd:  15\n",
      "Maximum leeftijd:  19\n"
     ]
    }
   ],
   "source": [
    "print(\"Minimum leeftijd: \", gegevens.leeftijd.min())\n",
    "print(\"Maximum leeftijd: \", gegevens.leeftijd.max())"
   ]
  },
  {
   "cell_type": "markdown",
   "metadata": {},
   "source": [
    "Bereken de som van alle gewichten en deel die door het aantal gewichten (bereken dus het gemiddelde gewicht).  Je kan hiervoor de methode \"sum()\" oproepen op de kolom.  De lengte van de kolom vind je met de functie \"len()\".\n",
    "Bemerk dat sum() een methode is die je op een object oproept (de kolom) en len() een functie is die niet aan een object gekoppeld is (vergelijkbaar met een static method in java).  Dit laat zien dat Python een hybride taal is waarin je tegelijk OO en procedureel kan programmeren.\n",
    "Toon het resultaat met 3 cijfers na de komma.  Hier zie je een hint hoe je dat kan doen:\n",
    "```python\n",
    "print(\"pi is{:10.2f}\".format(math.pi))\n",
    "```"
   ]
  },
  {
   "cell_type": "code",
   "execution_count": 425,
   "metadata": {},
   "outputs": [
    {
     "name": "stdout",
     "output_type": "stream",
     "text": [
      "Solution: 61.800\n"
     ]
    }
   ],
   "source": [
    "sum = gegevens.gewicht.sum()\n",
    "quantiy = len(gegevens.gewicht)\n",
    "x = sum / quantiy\n",
    "print(\"Solution: {:.3f}\".format(x))"
   ]
  },
  {
   "cell_type": "markdown",
   "metadata": {},
   "source": [
    "Bereken alle gewichten in gram (vermenigvuldig ze dus met 1000) maar verander de tabel niet.  Geef het resultaat weer als een Python list.\n",
    "Zie je wat er met de laatste waarde gebeurt?  Hoe komt dit?"
   ]
  },
  {
   "cell_type": "code",
   "execution_count": 426,
   "metadata": {},
   "outputs": [
    {
     "name": "stdout",
     "output_type": "stream",
     "text": [
      "[[1000.0, 15000.0, 54200.0, 36500.0], [2000.0, 16000.0, 68100.0, 37100.0], [4000.0, 18000.0, 59500.0, 37200.0], [5000.0, 19000.0, 65400.00000000001, 36900.0]] <class 'list'>\n"
     ]
    }
   ],
   "source": [
    "result = (gegevens * 1000).values.tolist()\n",
    "print(result, type(result))"
   ]
  },
  {
   "cell_type": "markdown",
   "metadata": {},
   "source": [
    "Zet alle temperaturen om naar Fahrenheit, rondt deze af op 1 cijfer na de komma en zet deze waarden in de tabel in een nieuwe kolom met de naam \"temp_far\".\n",
    "Hint: een kolom uit een data frame is een Series en heeft een methode \"round()\""
   ]
  },
  {
   "cell_type": "code",
   "execution_count": 427,
   "metadata": {},
   "outputs": [
    {
     "name": "stdout",
     "output_type": "stream",
     "text": [
      "   id  leeftijd  gewicht  temp  temp_far\n",
      "0   1        15     54.2  36.5     97.70\n",
      "1   2        16     68.1  37.1     98.78\n",
      "3   4        18     59.5  37.2     98.96\n",
      "4   5        19     65.4  36.9     98.42\n"
     ]
    }
   ],
   "source": [
    "gegevens['temp_far'] = (gegevens.temp * 1.8) + 32\n",
    "print(gegevens)"
   ]
  },
  {
   "cell_type": "markdown",
   "metadata": {},
   "source": [
    "Volgende code bewaart de tabel in een bestand \"gegevens.csv\".  Voer deze gewoon uit en kijk waar het bestand bewaard werd:"
   ]
  },
  {
   "cell_type": "code",
   "execution_count": 428,
   "metadata": {},
   "outputs": [],
   "source": [
    "gegevens.to_csv(\"./data/gegevens.csv\", sep=\";\", decimal=\",\", index=False)"
   ]
  },
  {
   "cell_type": "markdown",
   "metadata": {},
   "source": [
    "Open de tabel in excel of open office. Als je het bestand juist bewaard hebt, zou dit moeten lukken.  Je kan het bestand eventueel ook uploaden naar google drive en openen met google spreadheets.\n",
    "Voeg er een kolom aan toe met de naam \"extra\".  Zet volgende gegevens in de kolom: \"hallo\", \"dit\", \"is\", \"een\", \"testje\"\n",
    "Bewaar het bestand als csv."
   ]
  },
  {
   "cell_type": "markdown",
   "metadata": {},
   "source": [
    "Lees de aangepaste tabel nu terug in met volgende code en kijk na of de nieuwe kolom goed werd ingelezen:"
   ]
  },
  {
   "cell_type": "code",
   "execution_count": 429,
   "metadata": {},
   "outputs": [
    {
     "name": "stdout",
     "output_type": "stream",
     "text": [
      "   id  leeftijd  gewicht  temp  temp_far\n",
      "0   1        15     54.2  36.5     97.70\n",
      "1   2        16     68.1  37.1     98.78\n",
      "2   4        18     59.5  37.2     98.96\n",
      "3   5        19     65.4  36.9     98.42\n"
     ]
    }
   ],
   "source": [
    "gegevens = pd.read_csv(\"./data/gegevens.csv\", sep=\";\", decimal=\",\", header=0)\n",
    "print(gegevens)"
   ]
  },
  {
   "cell_type": "markdown",
   "metadata": {},
   "source": [
    "Verwijder de kolom “id”."
   ]
  },
  {
   "cell_type": "code",
   "execution_count": 430,
   "metadata": {},
   "outputs": [],
   "source": [
    "gegevens.drop(columns='id', inplace=True)"
   ]
  },
  {
   "cell_type": "markdown",
   "metadata": {},
   "source": [
    "Voeg een rij toe met [ 30, 74.1, 36.5, 97.7 ] als waarden (zoek eens op hoe je dat kan doen)"
   ]
  },
  {
   "cell_type": "code",
   "execution_count": 431,
   "metadata": {},
   "outputs": [
    {
     "name": "stdout",
     "output_type": "stream",
     "text": [
      "   leeftijd  gewicht  temp  temp_far\n",
      "0      15.0     54.2  36.5     97.70\n",
      "1      16.0     68.1  37.1     98.78\n",
      "2      18.0     59.5  37.2     98.96\n",
      "3      19.0     65.4  36.9     98.42\n",
      "4      30.0     74.1  36.5     97.70\n"
     ]
    }
   ],
   "source": [
    "new_row = [30, 74.1, 36.5, 97.7]\n",
    "gegevens.loc[len(gegevens)] = new_row\n",
    "print(gegevens)"
   ]
  },
  {
   "cell_type": "markdown",
   "metadata": {},
   "source": [
    "Voeg een kolom “lengte” toe met gegevens: 160, 175, 162, 169, 179"
   ]
  },
  {
   "cell_type": "code",
   "execution_count": 432,
   "metadata": {},
   "outputs": [
    {
     "name": "stdout",
     "output_type": "stream",
     "text": [
      "   leeftijd  gewicht  temp  temp_far  lengte\n",
      "0      15.0     54.2  36.5     97.70     160\n",
      "1      16.0     68.1  37.1     98.78     175\n",
      "2      18.0     59.5  37.2     98.96     162\n",
      "3      19.0     65.4  36.9     98.42     169\n",
      "4      30.0     74.1  36.5     97.70     179\n"
     ]
    }
   ],
   "source": [
    "new_column = [160, 175, 162, 169, 179]\n",
    "gegevens['lengte'] = new_column\n",
    "print(gegevens)"
   ]
  },
  {
   "cell_type": "markdown",
   "metadata": {},
   "source": [
    "Bereken de BMI van iedere persoon in de tabel en rond deze af op 1 cijfer na de komma.\n",
    "De BMI is gelijk aan het gewicht gedeeld door de lengte in het kwadraat.  De lengte moet in meter uitgedrukt zijn en het gewicht in kilogram.\n",
    "Het resultaat moet een list zijn."
   ]
  },
  {
   "cell_type": "code",
   "execution_count": 433,
   "metadata": {},
   "outputs": [
    {
     "name": "stdout",
     "output_type": "stream",
     "text": [
      "[21.17, 22.24, 22.67, 22.9, 23.13] <class 'list'>\n"
     ]
    }
   ],
   "source": [
    "bmi = gegevens.gewicht / (gegevens.lengte / 100) ** 2\n",
    "bmi = bmi.round(2).tolist()\n",
    "print(bmi, type(bmi))"
   ]
  },
  {
   "cell_type": "markdown",
   "metadata": {},
   "source": [
    "Voeg deze BMI als kolom toe aan de tabel."
   ]
  },
  {
   "cell_type": "code",
   "execution_count": 434,
   "metadata": {},
   "outputs": [
    {
     "name": "stdout",
     "output_type": "stream",
     "text": [
      "   leeftijd  gewicht  temp  temp_far  lengte    bmi\n",
      "0      15.0     54.2  36.5     97.70     160  21.17\n",
      "1      16.0     68.1  37.1     98.78     175  22.24\n",
      "2      18.0     59.5  37.2     98.96     162  22.67\n",
      "3      19.0     65.4  36.9     98.42     169  22.90\n",
      "4      30.0     74.1  36.5     97.70     179  23.13\n"
     ]
    }
   ],
   "source": [
    "gegevens['bmi'] = bmi\n",
    "print(gegevens)"
   ]
  },
  {
   "cell_type": "markdown",
   "metadata": {},
   "source": [
    "Toon alle gewichten die kleiner of gelijk zijn aan 60 uit de kolom gewicht als een list."
   ]
  },
  {
   "cell_type": "code",
   "execution_count": 435,
   "metadata": {},
   "outputs": [
    {
     "name": "stdout",
     "output_type": "stream",
     "text": [
      "[54.2, 59.5]\n"
     ]
    }
   ],
   "source": [
    "print((gegevens.gewicht[gegevens.gewicht <= 60]).tolist())"
   ]
  },
  {
   "cell_type": "markdown",
   "metadata": {},
   "source": [
    "Vervang in de kolom leeftijd alle leeftijden groter of gelijk aan 18 door 19.\n",
    "Krijg je een warning?  Je kan dit oplossen door gegevens.loc[] te gebruiken."
   ]
  },
  {
   "cell_type": "code",
   "execution_count": 436,
   "metadata": {},
   "outputs": [
    {
     "name": "stdout",
     "output_type": "stream",
     "text": [
      "0    15.0\n",
      "1    16.0\n",
      "2    19.0\n",
      "3    19.0\n",
      "4    19.0\n",
      "Name: leeftijd, dtype: float64\n"
     ]
    }
   ],
   "source": [
    "gegevens.loc[gegevens.leeftijd >= 18, 'leeftijd'] = 19\n",
    "print(gegevens.leeftijd)"
   ]
  },
  {
   "cell_type": "markdown",
   "metadata": {},
   "source": [
    "Vind alle temperaturen van de personen die ouder zijn dan 16 jaar.  Geef het resultaat weer als een numpy array."
   ]
  },
  {
   "cell_type": "code",
   "execution_count": 437,
   "metadata": {},
   "outputs": [
    {
     "name": "stdout",
     "output_type": "stream",
     "text": [
      "[37.2 36.9 36.5]\n"
     ]
    }
   ],
   "source": [
    "print(np.array(gegevens.temp[gegevens.leeftijd > 16]))"
   ]
  },
  {
   "cell_type": "markdown",
   "metadata": {},
   "source": [
    "## Sport data"
   ]
  },
  {
   "cell_type": "markdown",
   "metadata": {},
   "source": [
    "Lees het bestand \"sportData.csv\" in met volgende code.\n",
    "Toon alle kolommen van de tabel, samen met hun type."
   ]
  },
  {
   "cell_type": "code",
   "execution_count": 438,
   "metadata": {},
   "outputs": [],
   "source": [
    "sport = pd.read_csv(\"./data/sportData.csv\", sep=\";\", decimal=\",\", header=0)\n"
   ]
  },
  {
   "cell_type": "markdown",
   "metadata": {},
   "source": [
    "Hoeveel data-rijen zijn er in dit bestand?"
   ]
  },
  {
   "cell_type": "code",
   "execution_count": 439,
   "metadata": {},
   "outputs": [
    {
     "name": "stdout",
     "output_type": "stream",
     "text": [
      "75\n"
     ]
    }
   ],
   "source": [
    "print(len(sport.values))"
   ]
  },
  {
   "cell_type": "markdown",
   "metadata": {},
   "source": [
    "Bepaal alle mogelijke waarden die in de kolom \"sport\" voorkomen."
   ]
  },
  {
   "cell_type": "code",
   "execution_count": 440,
   "metadata": {},
   "outputs": [
    {
     "name": "stdout",
     "output_type": "stream",
     "text": [
      "['geen' 'basketbal' 'voetbal' 'klimmen' 'turnen' 'anders' 'zwemmen' 'judo'\n",
      " 'fitness' nan]\n"
     ]
    }
   ],
   "source": [
    "print(sport.sport.unique())"
   ]
  },
  {
   "cell_type": "markdown",
   "metadata": {},
   "source": [
    "Wat is het maximum van kolom \"leeftijd\"?"
   ]
  },
  {
   "cell_type": "code",
   "execution_count": 441,
   "metadata": {},
   "outputs": [
    {
     "name": "stdout",
     "output_type": "stream",
     "text": [
      "14\n"
     ]
    }
   ],
   "source": [
    "print(sport.leeftijd.max())"
   ]
  },
  {
   "cell_type": "markdown",
   "metadata": {},
   "source": [
    "Wat is de som van alle waarden van kolom \"keer per week\" die groter zijn dan 1?"
   ]
  },
  {
   "cell_type": "code",
   "execution_count": 442,
   "metadata": {},
   "outputs": [
    {
     "name": "stdout",
     "output_type": "stream",
     "text": [
      "Som:  97\n"
     ]
    }
   ],
   "source": [
    "print(\"Som: \", sport['keer per week'][sport['keer per week'] > 1].sum())"
   ]
  },
  {
   "cell_type": "markdown",
   "metadata": {},
   "source": [
    "Geef een lijst van alle sporten die beoefend worden door mensen die meer dan 3 keer per week sporten.  Geef het resultaat als een Series."
   ]
  },
  {
   "cell_type": "code",
   "execution_count": 443,
   "metadata": {},
   "outputs": [
    {
     "name": "stdout",
     "output_type": "stream",
     "text": [
      "0      voetbal\n",
      "1       turnen\n",
      "2       anders\n",
      "3      zwemmen\n",
      "4      klimmen\n",
      "5    basketbal\n",
      "6         judo\n",
      "7      fitness\n",
      "dtype: object <class 'pandas.core.series.Series'>\n"
     ]
    }
   ],
   "source": [
    "x = sport['uren per week']\n",
    "y = pd.Series(x > 3)\n",
    "var = pd.Series(sport.sport[y].unique())\n",
    "print(var, type(var))"
   ]
  },
  {
   "cell_type": "markdown",
   "metadata": {},
   "source": [
    "## Programmeren"
   ]
  },
  {
   "cell_type": "markdown",
   "metadata": {},
   "source": [
    "Hier staan een aantal programmeeropdrachten om gewoon te raken aan de syntax en mogelijkheden van Python. Het is bedoeld voor de studenten die ook geïnteresseerd zijn in het programmeren zelf."
   ]
  },
  {
   "cell_type": "markdown",
   "metadata": {},
   "source": [
    "### Dobbelsteen\n",
    "Schrijf een programma dat 6000 keer met de dobbelsteen rolt en telt hoeveel keer iedere waarde voorkomt.  Probeer geen lussen te moeten schrijven.  Je kan dit doen door te starten met een numpy array van 6000 willekeurige getallen tussen 1 en 6.\n",
    "\n",
    "Voorbeeld van de werking (dit kan afwijken omdat het willekeurige getallen zijn, maar alle getallen zouden rond de 1000 moeten liggen):\n",
    "\n",
    "```{text}\n",
    "Aantal enen: 1007\n",
    "Aantal tweeën: 994\n",
    "Aantal drieën: 1006\n",
    "Aantal vieren: 995\n",
    "Aantal vijven: 998\n",
    "Aantal zessen: 1000\n",
    "```"
   ]
  },
  {
   "cell_type": "code",
   "execution_count": 444,
   "metadata": {},
   "outputs": [
    {
     "name": "stdout",
     "output_type": "stream",
     "text": [
      "Aantal 1'en: 998\n",
      "Aantal 2'en: 956\n",
      "Aantal 3'en: 970\n",
      "Aantal 4'en: 1020\n",
      "Aantal 5'en: 1004\n",
      "Aantal 6'en: 1052\n"
     ]
    }
   ],
   "source": [
    "values = np.random.randint(low=1, high=7, size=6000)\n",
    "counts = np.bincount(values)\n",
    "\n",
    "for i in range(1, len(counts)):\n",
    "    print(f\"Aantal {i}'en:\", counts[i])"
   ]
  },
  {
   "cell_type": "markdown",
   "metadata": {},
   "source": [
    "### Kerstboom\n",
    "\n",
    "Schrijf een programma om een kerstboom af te drukken met behulp van ‘*’ tekens. De breedte van de boom wordt als een oneven geheel getal (13..29)  ingegeven. Indien niet voldaan is aan deze voorwaarde wordt de breedte op 13 ingesteld.\n",
    "\n",
    "Eerst moet je het midden van de boom bepalen aan de hand van de breedte.\n",
    "Vervolgens druk je de boom regel per regel af.\n",
    "Opmerking: de stam bestaat altijd uit 4 regels met een breedte van 3.\n",
    "Gebruik een for-lus om de boom af te drukken.\n",
    "\n",
    "Je kan het getal inlezen met volgende code:\n",
    "```{python}\n",
    "breedte = int(input(\"Geef de breedte de van kerstboom (oneven getal in bereik 13..29):\"))\n",
    "```\n",
    "Als je iets wil printen zonder newline op het einde (zoals System.out.print() in Java), dan kan dat als volgt:\n",
    "```{python}\n",
    "print(\"hello, \", end='')\n",
    "print(\"world!\")\n",
    "```\n",
    "Je kan een aantal keer hetzelfde karakter in een string zetten met:\n",
    "```{python}\n",
    "karakter = \"*\"\n",
    "aantal = 5\n",
    "print(karakter * aantal)\n",
    "```\n",
    "\n",
    "Voorbeeld van de werking:\n",
    "\n",
    "```{text}\n",
    "Geef de breedte de van kerstboom (oneven getal in bereik 13..29): 13\n",
    "\n",
    "      *\n",
    "     ***\n",
    "    *****\n",
    "   *******\n",
    "  *********\n",
    " ***********\n",
    "*************\n",
    "     ***\n",
    "     ***\n",
    "     ***\n",
    "     ***\n",
    "```"
   ]
  },
  {
   "cell_type": "code",
   "execution_count": 445,
   "metadata": {},
   "outputs": [
    {
     "name": "stdout",
     "output_type": "stream",
     "text": [
      "      *      \n",
      "     ***     \n",
      "    *****    \n",
      "   *******   \n",
      "  *********  \n",
      " *********** \n",
      "*************\n",
      "     ***     \n",
      "     ***     \n",
      "     ***     \n",
      "     ***     \n"
     ]
    }
   ],
   "source": [
    "breedte = int(input(\"Geef de breedte van de kerstboom (oneven getal in bereik 13..29):\"))\n",
    "breedte = max(13, min(29, breedte))\n",
    "midden = breedte // 2\n",
    "\n",
    "for i in range(midden + 1):\n",
    "    print(('*' * (2 * i + 1)).center(breedte))\n",
    "\n",
    "for _ in range(4):\n",
    "    print('***'.center(breedte))"
   ]
  },
  {
   "cell_type": "markdown",
   "metadata": {},
   "source": [
    "### Geheim schrift\n",
    "Schrijf een programma om berichten te coderen en te decoderen zoals Julius Caesar deed.\n",
    "Het programma vraagt eerst een bericht.  Dit bericht wordt naar hoofdletters omgezet.\n",
    "Daarna vraagt het programma aan de gebruiker of het bericht gecodeerd of gedecodeerd moet worden.\n",
    "Om te coderen, doorloopt het programma alle letters in het bericht en verschuift deze letter telkens een aantal plaatsen (zet deze verschuiving in een variabele).\n",
    "Met een verschuiving van 3 wordt bijvoorbeeld de letter 'A' een 'D'.  Indien je aan het einde van het alfabet komt begin je terug bij de 'A' (een 'Z' wordt in dit geval een 'C'). Bij het decoderen doe je uiteraard het tegenovergestelde.  Je kan dit heel snel doen door gebruik te maken van de ASCII code van ieder karakter (je mag ervan uitgaan dat alle karakters in de ASCII set passen).\n",
    "Als een karakter geen letter is, dan wordt die gewoon ongecodeerd (of ongedecodeerd) weergegeven.\n",
    "\n",
    "Voorbeeld van werking (de verschuiving staat hier op 6):\n",
    "```{text}\n",
    "Geef een bericht: The quick brown fox jumps over the lazy dog.\n",
    "Wil je dit encoderen? J\n",
    "Gecodeerd bericht:\n",
    "ZNK WAOIQ HXUCT LUD PASVY UBKX ZNK RGFE JUM.\n",
    "\n",
    "Geef een bericht: ZNK WAOIQ HXUCT LUD PASVY UBKX ZNK RGFE JUM.\n",
    "Wil je dit encoderen? N\n",
    "Gedecodeerd bericht:\n",
    "THE QUICK BROWN FOX JUMPS OVER THE LAZY DOG.\n",
    "```\n",
    "Hint: je kan de code heel compact maken als je gebruik maakt van de modulo (%) operator.\n",
    "Hint: je kan een karakter omzetten naar zijn ASCII code met \"ord(c)\" en omgekeerd kan je een ASCII code naar een karakter omzetten met \"chr(code)\""
   ]
  },
  {
   "cell_type": "code",
   "execution_count": 446,
   "metadata": {},
   "outputs": [
    {
     "name": "stdout",
     "output_type": "stream",
     "text": [
      "ZXMZKXMUV?ZMKXZ"
     ]
    }
   ],
   "source": [
    "verschuiving = 6\n",
    "bericht = input(\"Geef een bericht: \").upper()\n",
    "encoderen = input(\"Wil je dit encoderen? \").upper() == 'J'\n",
    "\n",
    "for c in bericht:\n",
    "    if c.isalpha():\n",
    "        c = chr((ord(c) - ord('A') + (verschuiving if encoderen else -verschuiving)) % 26 + ord('A'))\n",
    "    print(c, end='')"
   ]
  },
  {
   "cell_type": "markdown",
   "metadata": {},
   "source": [
    "### Vervangen\n",
    "Maak een functie \"vervang(lijst, te_zoeken, vervanging)\" die in een list op zoek gaat naar een waarde en die vervangt door een andere."
   ]
  },
  {
   "cell_type": "code",
   "execution_count": 447,
   "metadata": {},
   "outputs": [],
   "source": [
    "def vervang(lijst, te_zoeken, vervanging):\n",
    "    for i in range(0, len(lijst)):\n",
    "        if lijst[i] == te_zoeken:\n",
    "            lijst[i] = vervanging"
   ]
  },
  {
   "cell_type": "markdown",
   "metadata": {},
   "source": [
    "Test de functie uit door in de list [ 10, 20, 30, 30, 40, 30, 0 ] de waarde 30 te vervangen door 42.\n",
    "Probeer of je functie ook werkt op een numpy array en een pandas Series.  Dat zou moeten lukken."
   ]
  },
  {
   "cell_type": "code",
   "execution_count": 448,
   "metadata": {},
   "outputs": [
    {
     "name": "stdout",
     "output_type": "stream",
     "text": [
      "[10, 20, 42, 42, 40, 42, 0]\n",
      "[10 20 42 42 40 42  0]\n",
      "0    10\n",
      "1    20\n",
      "2    42\n",
      "3    42\n",
      "4    40\n",
      "5    42\n",
      "6     0\n",
      "dtype: int64\n"
     ]
    }
   ],
   "source": [
    "lijst = [10, 20, 30, 30, 40, 30, 0]\n",
    "vervang(lijst, 30, 42)\n",
    "print(lijst)\n",
    "lijst2 = np.array([10, 20, 30, 30, 40, 30, 0])\n",
    "vervang(lijst2, 30, 42)\n",
    "print(lijst2)\n",
    "lijst3 = pd.Series([10, 20, 30, 30, 40, 30, 0])\n",
    "vervang(lijst3, 30, 42)\n",
    "print(lijst3)"
   ]
  },
  {
   "cell_type": "markdown",
   "metadata": {},
   "source": [
    "### Wachtwoorden\n",
    "Een goed wachtwoord kiezen, is voor sommige gebruikers een ware opgave.  We willen een programma maken waarin de gebruiker een nieuw wachtwoord moet kiezen.  Dit moet (omdat we het graag ingewikkeld maken) minstens 8 karakters lang zijn, minstens 1 hoofdletter, 1 kleine letter, een cijfer en een leesteken bevatten.\n",
    "Maak een functie \"is_goed_wachtwoord\" die een wachtwoord als parameter meekrijgt en een boolean teruggeeft.  Die boolean is true als het gegeven wachtwoord voldoet aan alle eisen.  De functie geeft ook een foutmelding op het scherm als het wachtwoord niet goed is.\n",
    "Maak dan een programma dat een nieuw wachtwoord vraagt totdat alle eisen voldaan zijn.\n",
    "\n",
    "Voorbeeld van de werking:\n",
    "\n",
    "```{text}\n",
    "Geef een nieuw wachtwoord: ww\n",
    "Het moet minstens 8 karakters lang zijn\n",
    "Geef een nieuw wachtwoord: wachtwoord\n",
    "Het moet minstens 1 hoofdletter bevatten\n",
    "Geef een nieuw wachtwoord: WACHTWOORD\n",
    "Het moet minstens 1 kleine letter bevatten\n",
    "Geef een nieuw wachtwoord: Wachtwoord\n",
    "Het moet minstens 1 cijfer bevatten\n",
    "Geef een nieuw wachtwoord: Wachtw00rd\n",
    "Het moet minstens 1 leesteken bevatten\n",
    "Geef een nieuw wachtwoord: Wachtw00rd!\n",
    "Je nieuwe wachtwoord is goedgekeurd!\n",
    "```\n",
    "\n",
    "Hint: je kan heel eenvoudig itereren door de karakters van een string met:\n",
    "```{python}\n",
    "for c in string:\n",
    "    ...\n",
    "```"
   ]
  },
  {
   "cell_type": "code",
   "execution_count": 449,
   "metadata": {},
   "outputs": [
    {
     "name": "stdout",
     "output_type": "stream",
     "text": [
      "Het moet minstens 8 karakters lang zijn\n",
      "Het moet minstens 8 karakters lang zijn\n",
      "Het moet minstens 8 karakters lang zijn\n",
      "Het moet minstens 1 cijfer bevatten\n",
      "Het moet minstens 1 cijfer bevatten\n",
      "Het moet minstens 8 karakters lang zijn\n",
      "Je nieuwe wachtwoord is goedgekeurd!\n"
     ]
    }
   ],
   "source": [
    "def is_goed_wachtwoord(password):\n",
    "    if len(password) < 8:\n",
    "        print(\"Het moet minstens 8 karakters lang zijn\")\n",
    "        return False\n",
    "\n",
    "    if not any(c.isupper() for c in password):\n",
    "        print(\"Het moet minstens 1 hoofdletter bevatten\")\n",
    "        return False\n",
    "\n",
    "    if not any(c.islower() for c in password):\n",
    "        print(\"Het moet minstens 1 kleine letter bevatten\")\n",
    "        return False\n",
    "\n",
    "    if not any(c.isdigit() for c in password):\n",
    "        print(\"Het moet minstens 1 cijfer bevatten\")\n",
    "        return False\n",
    "\n",
    "    if not any(c in ['.', ',', ';', ':', '?', '!'] for c in password):\n",
    "        print(\"Het moet minstens 1 leesteken bevatten\")\n",
    "        return False\n",
    "\n",
    "    return True\n",
    "\n",
    "\n",
    "password = ''\n",
    "while not is_goed_wachtwoord(password):\n",
    "    password = input(\"Geef een nieuw wachtwoord: \")\n",
    "print(\"Je nieuwe wachtwoord is goedgekeurd!\")"
   ]
  }
 ],
 "metadata": {
  "kernelspec": {
   "display_name": "Python 3 (ipykernel)",
   "language": "python",
   "name": "python3"
  },
  "language_info": {
   "codemirror_mode": {
    "name": "ipython",
    "version": 3
   },
   "file_extension": ".py",
   "mimetype": "text/x-python",
   "name": "python",
   "nbconvert_exporter": "python",
   "pygments_lexer": "ipython3",
   "version": "3.11.2"
  }
 },
 "nbformat": 4,
 "nbformat_minor": 1
}
