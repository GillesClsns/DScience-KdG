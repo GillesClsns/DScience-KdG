{
 "cells": [
  {
   "cell_type": "markdown",
   "source": [
    "# Examen Data science 1\n",
    "## 2023 - P4 - inhaalexamen\n",
    "\n",
    "Naam: Gilles Claessens\n",
    "Klas: INF107A\n",
    "studentnummer: 0161096-76"
   ],
   "metadata": {
    "collapsed": false
   }
  },
  {
   "cell_type": "code",
   "execution_count": 3,
   "outputs": [],
   "source": [
    "import numpy as np\n",
    "import pandas as pd\n",
    "import math\n",
    "import statistics as stat\n",
    "import matplotlib.pyplot as plt\n",
    "from statsmodels.graphics.tsaplots import plot_acf\n",
    "from statsmodels.tsa.seasonal import seasonal_decompose\n",
    "from scipy import stats\n",
    "from id3 import Id3Estimator, export_text\n",
    "from sklearn.cluster import KMeans\n",
    "from sklearn import tree\n",
    "import scipy.spatial.distance as dist\n",
    "import warnings\n",
    "import statistics"
   ],
   "metadata": {
    "collapsed": false
   }
  },
  {
   "cell_type": "code",
   "execution_count": 4,
   "outputs": [],
   "source": [
    "from sklearn.linear_model import LinearRegression\n",
    "from sklearn.pipeline import make_pipeline\n",
    "from sklearn.preprocessing import PolynomialFeatures\n",
    "from sklearn.metrics import mean_squared_error, r2_score as r2score\n",
    "\n",
    "\n",
    "class GeneralRegression:\n",
    "    def __init__(self, degree=1, exp=False, log=False):\n",
    "        self.degree = degree\n",
    "        self.exp = exp\n",
    "        self.log = log\n",
    "        self.model = None\n",
    "        self.x_orig = None\n",
    "        self.y_orig = None\n",
    "        self.X = None\n",
    "        self.y = None\n",
    "\n",
    "    def fit(self, x: np.array, y: np.array):\n",
    "        self.x_orig = x\n",
    "        self.y_orig = y\n",
    "        self.X = x.reshape(-1, 1)\n",
    "\n",
    "        if self.exp:\n",
    "            self.y = np.log(y)\n",
    "\n",
    "        else:\n",
    "            self.y = y\n",
    "\n",
    "        if self.log:\n",
    "            self.X = np.log(self.X)\n",
    "\n",
    "        self.model = make_pipeline(PolynomialFeatures(degree=self.degree), LinearRegression())\n",
    "        self.model.fit(self.X, self.y)\n",
    "\n",
    "    def predict(self, x: np.array):\n",
    "        X = x.reshape(-1, 1)\n",
    "\n",
    "        if self.exp:\n",
    "            return np.exp(self.model.predict(X))\n",
    "\n",
    "        if self.log:\n",
    "            return self.model.predict(np.log(X))\n",
    "\n",
    "        return self.model.predict(X)\n",
    "\n",
    "    @property\n",
    "    def r2_score(self):\n",
    "        return r2score(self.y_orig, self.predict(self.x_orig))\n",
    "\n",
    "    @property\n",
    "    def se_(self):\n",
    "        if self.exp:\n",
    "            return mean_squared_error(self.predict(self.X), np.exp(self.y), squared=False)\n",
    "        if self.log:\n",
    "            return mean_squared_error(self.predict(self.X), np.log(self.y), squared=False)\n",
    "        return mean_squared_error(self.predict(self.X), self.y, squared=False)\n",
    "\n",
    "    @property\n",
    "    def coef_(self):\n",
    "        return self.model.steps[1][1].coef_\n",
    "\n",
    "    @property\n",
    "    def intercept_(self):\n",
    "        return self.model.steps[1][1].intercept_"
   ],
   "metadata": {
    "collapsed": false
   }
  },
  {
   "cell_type": "code",
   "execution_count": 5,
   "outputs": [],
   "source": [
    "# Samenhang\n",
    "def outlier_boundaries(x: pd.Series, factor=1.5):\n",
    "    Q1 = x.quantile(0.25)\n",
    "    Q3 = x.quantile(0.75)\n",
    "    I = Q3 - Q1\n",
    "    return [Q1 - factor * I, Q3 + factor * I]\n",
    "\n",
    "\n",
    "def aantal_klassen(series):\n",
    "    n = len(series)\n",
    "    print(\"Sturges (# klassen): \" + str(math.ceil(1 + math.log2(n))))  # Sturges\n",
    "    b = 3.5 * statistics.stdev(series) / (n ** (1 / 3))\n",
    "    print(\"Scott (klasse breedte): \" + str(math.ceil((series.max() - series.min()) / b)))  # Scott\n",
    "    print(\"Scott (# klassen): \" + str(math.ceil(math.sqrt(n))))\n",
    "    print(\"[√n]: \" + str(math.ceil(math.sqrt(n))))\n",
    "\n",
    "\n",
    "def makescatter(x, y):\n",
    "    plt.scatter(x, y)\n",
    "    plt.xlabel(x.name)\n",
    "    plt.ylabel(y.name)\n",
    "    plt.show()\n",
    "\n",
    "\n",
    "def scatterWhitReg(X, y, se=0):  # Model moet aanwezig zijn\n",
    "    fig, ax = plt.subplots()\n",
    "    _ = ax.scatter(X, y)\n",
    "    xx = np.arange(X.min(), X.max(), (X.max() - X.min()) / 100)\n",
    "    yy = model.predict(xx.reshape(-1, 1))\n",
    "    _ = ax.fill_between(xx, yy - se, yy + se, color=\"yellow\", alpha=0.2)\n",
    "    _ = ax.plot(xx, yy, color='red')\n",
    "    _ = ax.set_xlabel(X.name)\n",
    "    _ = ax.set_ylabel(y.name)\n",
    "    plt.show()\n",
    "\n",
    "\n",
    "def bestmodel(x, y):\n",
    "    modelD1 = GeneralRegression(degree=1)\n",
    "    modelD2 = GeneralRegression(degree=2)\n",
    "    modelD3 = GeneralRegression(degree=3)\n",
    "    modelL1 = GeneralRegression(degree=1, log=True)\n",
    "    modelE1 = GeneralRegression(degree=1, exp=True)\n",
    "\n",
    "    modelD1.fit(x.to_numpy(), y.to_numpy())\n",
    "    modelD2.fit(x.to_numpy(), y.to_numpy())\n",
    "    modelD3.fit(x.to_numpy(), y.to_numpy())\n",
    "    modelL1.fit(x.to_numpy(), y.to_numpy())\n",
    "    modelE1.fit(x.to_numpy(), y.to_numpy())\n",
    "    out = pd.Series(data=[modelD1.r2_score, modelD2.r2_score, modelD3.r2_score, modelL1.r2_score, modelE1.r2_score],\n",
    "                    index=[\"lineair:\", \"kwadratisch:\", \"kubisch:\", \"logaritmisch\", \"exponentieel\"])\n",
    "    return out.sort_values(ascending=False)\n",
    "\n",
    "\n",
    "def drop_outliers(df, row):  # df = drop_uitschieters(df,'row')\n",
    "    df['Z-Score'] = np.abs((df[row] - df[row].mean()) / df[row].std())\n",
    "    filtered_df = df[df['Z-Score'] <= 3]\n",
    "    filtered_df = filtered_df.drop('Z-Score', axis=1)\n",
    "    return filtered_df\n",
    "\n",
    "\n",
    "# Forecasting\n",
    "def autocorrDia(x):\n",
    "    plt.figure()\n",
    "    plot_acf(np.array(x).astype(float), lags=len(x) - 1)\n",
    "    plt.xlabel('offset')\n",
    "    plt.ylabel('correlatie')\n",
    "    plt.title(f'Auto-correlatie {x.name}')\n",
    "    plt.show()\n",
    "\n",
    "\n",
    "def smooth(y: np.array, m: int):\n",
    "    result = np.empty(0)\n",
    "    for i in range(y.size - m + 1):\n",
    "        result = np.append(result, [np.mean(y[i:i + m])])\n",
    "\n",
    "    return result\n",
    "\n",
    "\n",
    "def find_trend(y: np.array, m: int):\n",
    "    result = smooth(y, m)\n",
    "    nan = [np.nan] * int(m / 2)\n",
    "    if m % 2 == 0:\n",
    "        result = smooth(result, 2)\n",
    "        result = np.hstack([nan, result, nan])\n",
    "\n",
    "    return result\n",
    "\n",
    "\n",
    "def naive(y: np.array):\n",
    "    if y.size > 0:\n",
    "        return y[-1]\n",
    "    return np.NaN\n",
    "\n",
    "\n",
    "def plotforecast(original: np.array, voorspeldd: np.array):\n",
    "    plt.figure()\n",
    "    plt.plot(range(len(original)), original, \"o-\", label=\"gegeven\")\n",
    "    plt.plot(range(len(original), len(original) + len(voorspeldd)), voorspeldd, \"^-\", label=\"voorspeld\")\n",
    "    plt.show()\n",
    "\n",
    "\n",
    "def forecast_past(past, forecast_function):\n",
    "    result = []\n",
    "    for i in range(len(past)):\n",
    "        result += [forecast_function(past[:i].to_numpy())]\n",
    "    return result\n",
    "\n",
    "\n",
    "def mae(past, forecast_function):\n",
    "    forecasted = forecast_past(past, forecast_function)\n",
    "    errors = pd.Series(forecasted) - past\n",
    "    return errors.abs().mean()\n",
    "\n",
    "\n",
    "def rmse(past, forecast_function):\n",
    "    forecasted = forecast_past(past, forecast_function)\n",
    "    errors = pd.Series(forecasted) - past\n",
    "    return math.sqrt((errors ** 2).mean())\n",
    "\n",
    "\n",
    "def mape(past, forecast_function):\n",
    "    forecasted = forecast_past(past, forecast_function)\n",
    "    errors = pd.Series(forecasted) - past\n",
    "    return (errors / past).abs().mean()\n",
    "\n",
    "\n",
    "def betrw(X: np.array, y):\n",
    "    return pd.Series(data=[mae(X, y), rmse(X, y), mape(X, y)], index=['mae', 'rmse', 'mape'])\n",
    "\n",
    "\n",
    "def average(y: np.array):\n",
    "    if y.size < 1:\n",
    "        return np.NaN\n",
    "    return y.mean()\n",
    "\n",
    "\n",
    "def moving_average_forecasting(m):\n",
    "    def result(past):\n",
    "        n = len(past)\n",
    "        if n < m:\n",
    "            return math.nan\n",
    "        return pd.Series(past[-m:]).mean()\n",
    "\n",
    "    return result\n",
    "\n",
    "\n",
    "def bereken_gewichten(y: np.array, m: int):\n",
    "    # n is aantal elementen\n",
    "    n = y.size\n",
    "    # we hebben > 2 * m elementen nodig\n",
    "    if n < 2 * m:\n",
    "        return np.NaN\n",
    "    # selecteer de laatste elementen\n",
    "    M = y[-(m + 1):-1]\n",
    "    # maak een matrix M van coëfficiënten\n",
    "    for i in range(1, m):\n",
    "        M = np.vstack([M, y[-(m + i + 1):-(i + 1)]])\n",
    "\n",
    "    # selecteer de bekenden\n",
    "    v = np.flip(y[-m:])\n",
    "    # los het stelsel van m vergelijkingen op\n",
    "    return np.linalg.solve(M, v)\n",
    "\n",
    "\n",
    "def lineair_combination_forecasting(m):\n",
    "    def result(past):\n",
    "        n = len(past)\n",
    "        if n < 2 * m:\n",
    "            return math.nan\n",
    "        a = bereken_gewichten(past, m)\n",
    "        return (past[-m:] * a).sum()\n",
    "\n",
    "    return result\n",
    "\n",
    "\n",
    "def create_trend_model(y):\n",
    "    X = np.arange(0, y.size)\n",
    "    model = GeneralRegression()\n",
    "    model.fit(X, y)\n",
    "    # we geven een voorspellersfunctie terug\n",
    "    return lambda x: model.predict(np.array(x))\n",
    "    # return model\n",
    "\n",
    "\n",
    "def general_regression(x: pd.Series, y: pd.Series, degree=1, exp=False, log=False):\n",
    "    fun_y = inv_fun_y = lambda x: x\n",
    "    fun_x = lambda x: x\n",
    "    if (exp):\n",
    "        fun_y = np.exp\n",
    "        inv_fun_y = np.log\n",
    "    if (log):\n",
    "        fun_x = np.log\n",
    "    model = np.polyfit(fun_x(x), inv_fun_y(y), degree)\n",
    "    line = np.poly1d(model)\n",
    "    predict = lambda x: fun_y(line(fun_x(x)))\n",
    "    predicted = predict(x)\n",
    "    squared_residuals = (predicted - y) ** 2\n",
    "    variance_y = (y - y.mean()) ** 2\n",
    "    se = math.sqrt(squared_residuals.mean())\n",
    "    r2 = 1 - (squared_residuals.sum() / variance_y.sum())\n",
    "    result = [se, r2, predict] + [model[-i] for i in range(1, len(model) + 1)]\n",
    "    index = [\"se\", \"r2\", \"predict\"] + [chr(i + 96) for i in range(1, len(model) + 1)]\n",
    "    return pd.Series(result, index=index)\n",
    "\n",
    "\n",
    "# Clustering\n",
    "def afstand_euclidisch(tabel, i, j):\n",
    "    rij1 = tabel.iloc[i]\n",
    "    rij2 = tabel.iloc[j]\n",
    "    afstand = math.sqrt(((rij1 - rij2) ** 2).sum())\n",
    "    return round(afstand, 2)\n",
    "\n",
    "\n",
    "def afstand_manhattan(tabel, i, j):\n",
    "    rij1 = tabel.iloc[i]\n",
    "    rij2 = tabel.iloc[j]\n",
    "    afstand = ((rij1 - rij2).abs()).sum()\n",
    "    return afstand\n",
    "\n",
    "\n",
    "def all(df, funcanfstand):\n",
    "    lengte = df.shape[1]\n",
    "    aaltalrows = df.shape[0]\n",
    "    out = pd.DataFrame()\n",
    "    for x in range(aaltalrows - 1):\n",
    "        row = []\n",
    "        for y in range(aaltalrows - 1):\n",
    "            row += [funcanfstand(df, x, y)]\n",
    "        out[x] = row\n",
    "    return out\n",
    "\n",
    "\n",
    "# PCA\n",
    "# Beslissingsbomen\n",
    "def entropy(column: pd.Series, base=None):\n",
    "    # Determine the fractions for all column values\n",
    "    fractions = column.value_counts(normalize=True, sort=False)\n",
    "    base = 2 if base is None else base\n",
    "    return -(fractions * np.log(fractions) / np.log(base)).sum()\n",
    "\n",
    "\n",
    "def information_gain(df: pd.DataFrame, s: str, target: str):\n",
    "    # calculate entropy of parent table\n",
    "    entropy_parent = entropy(df[target])\n",
    "    child_entropies = []\n",
    "    child_weights = []\n",
    "    # compute entropies of child tables\n",
    "    for (label, p) in df[s].value_counts().items():\n",
    "        child_df = df[df[s] == label]\n",
    "        child_entropies.append(entropy(child_df[target]))\n",
    "        child_weights.append(int(p))\n",
    "    # calculate the difference between parent entropy and weighted child entropies\n",
    "    return entropy_parent - np.average(child_entropies, weights=child_weights)\n",
    "\n",
    "\n",
    "def infGainAll(df, target):\n",
    "    out = pd.Series()\n",
    "    for label in df.columns:\n",
    "        line = pd.Series([information_gain(df, label, target)], index=[label])\n",
    "        out = pd.concat([out, line])\n",
    "        # print('{}: {}'.format(label, ))\n",
    "    return out.sort_values(ascending=False)\n",
    "\n",
    "\n",
    "def best_split(df: pd.DataFrame, target: str):\n",
    "    # retrieve all non-target column labels (the features))\n",
    "    features = df.drop(axis=1, labels=target).columns\n",
    "    # calculate the information gains for these features\n",
    "    gains = [information_gain(df, feature, target) for feature in features]\n",
    "    # return column with highest information gain\n",
    "    return features[np.argmax(gains)], max(gains)\n"
   ],
   "metadata": {
    "collapsed": false
   }
  },
  {
   "cell_type": "markdown",
   "source": [
    "Hier staat code om het bestand in te lezen.  Pas eventueel het path aan.  De rest van de code zou zo moeten werken:"
   ],
   "metadata": {
    "collapsed": false
   }
  },
  {
   "cell_type": "code",
   "execution_count": 89,
   "outputs": [
    {
     "name": "stdout",
     "output_type": "stream",
     "text": [
      "<class 'pandas.core.frame.DataFrame'>\n",
      "RangeIndex: 60 entries, 0 to 59\n",
      "Data columns (total 13 columns):\n",
      " #   Column              Non-Null Count  Dtype   \n",
      "---  ------              --------------  -----   \n",
      " 0   werknemersId        60 non-null     int64   \n",
      " 1   waardering          60 non-null     int64   \n",
      " 2   opinie              60 non-null     category\n",
      " 3   aantal_gezinsleden  60 non-null     float64 \n",
      " 4   diepte              60 non-null     float64 \n",
      " 5   oplaadtijd          60 non-null     float64 \n",
      " 6   beltijd             60 non-null     float64 \n",
      " 7   concentratie        60 non-null     float64 \n",
      " 8   afstand             60 non-null     float64 \n",
      " 9   categorie           60 non-null     category\n",
      " 10  behaalde_graad      60 non-null     category\n",
      " 11  kledingmaat         60 non-null     category\n",
      " 12  aantal_gsms         60 non-null     float64 \n",
      "dtypes: category(4), float64(7), int64(2)\n",
      "memory usage: 5.3 KB\n"
     ]
    }
   ],
   "source": [
    "# voorgeschreven code\n",
    "examen = pd.read_csv('examen_2023_P4_inhaal.csv')\n",
    "examen.opinie = pd.Categorical(examen.opinie, categories=('zeer mee oneens', 'mee oneens', 'neutraal', 'mee eens', 'zeer mee eens'), ordered=True)\n",
    "examen.categorie = pd.Categorical(examen.categorie, categories=('cat1 (klein)', 'cat2 (middel)', 'cat3 (groot)'), ordered=True)\n",
    "examen.behaalde_graad = pd.Categorical(examen.behaalde_graad, categories=('gebuisd', 'voldoening', 'onderscheiding', 'grote onderscheiding', 'grootste onderscheiding'), ordered=True)\n",
    "examen.kledingmaat = pd.Categorical(examen.kledingmaat, categories=('XS', 'S', 'M', 'L', 'XL', 'XXL'), ordered=True)\n",
    "examen.info()"
   ],
   "metadata": {
    "collapsed": false
   }
  },
  {
   "cell_type": "markdown",
   "source": [
    "## Vraag 1"
   ],
   "metadata": {
    "collapsed": false
   }
  },
  {
   "cell_type": "markdown",
   "source": [
    "Antwoorden:\n",
    "a) Methode van Kendall\n",
    "b) -0.4229341994306363\n",
    "c) C (Zeer sterke lineaire correlatie)\n",
    "d) -0.9198975712194224\n",
    "e) Ja, er is namelijk een zeer hoge correlatie tussen de twee kolommen."
   ],
   "metadata": {
    "collapsed": false
   }
  },
  {
   "cell_type": "code",
   "execution_count": 86,
   "outputs": [
    {
     "data": {
      "text/plain": "-0.9198975712194224"
     },
     "execution_count": 86,
     "metadata": {},
     "output_type": "execute_result"
    }
   ],
   "source": [
    "# B\n",
    "examen.opinie.corr(examen.waardering,method='kendall')\n",
    "# D\n",
    "examen.beltijd.corr(examen.aantal_gezinsleden)"
   ],
   "metadata": {
    "collapsed": false
   }
  },
  {
   "cell_type": "markdown",
   "source": [
    "## Vraag 2"
   ],
   "metadata": {
    "collapsed": false
   }
  },
  {
   "cell_type": "markdown",
   "source": [
    "Antwoorden:\n",
    "a) y = -1.605540441631062 * x + 0.03208181800418398\n",
    "b) 3.52755\n",
    "c) 0.9552629612424209\n",
    "d) B\n",
    "e) 0.2958429799727267\n",
    "f) D"
   ],
   "metadata": {
    "collapsed": false
   }
  },
  {
   "cell_type": "code",
   "execution_count": 87,
   "outputs": [
    {
     "name": "stdout",
     "output_type": "stream",
     "text": [
      "y= -1.605540441631062*x + 0.03208181800418398\n",
      "0.9552629612424209\n",
      "0.2958429799727267\n"
     ]
    }
   ],
   "source": [
    "# A\n",
    "model = GeneralRegression(degree=1)\n",
    "model.fit(examen.beltijd.to_numpy(),examen.diepte.to_numpy())\n",
    "print(f'y= {model.intercept_}*x + {model.coef_[1]}')\n",
    "\n",
    "# B\n",
    "model.predict(np.array([160]))\n",
    "\n",
    "#C\n",
    "print(model.se_)\n",
    "\n",
    "#E\n",
    "model = GeneralRegression(degree=1,exp=True)\n",
    "model.fit(examen.concentratie.to_numpy(),examen.oplaadtijd.to_numpy())\n",
    "print(model.r2_score)"
   ],
   "metadata": {
    "collapsed": false
   }
  },
  {
   "cell_type": "markdown",
   "source": [
    "## Vraag 3"
   ],
   "metadata": {
    "collapsed": false
   }
  },
  {
   "cell_type": "markdown",
   "source": [
    "Antwoorden:\n",
    "a) 231.4\n",
    "b) 217.28333333333333\n",
    "c) MAPE: 0.032117\n",
    "d) A (Voorspelling wijkt 3,21% af van de echte waarde.)\n",
    "e) Alle waarden zijn over het algemeen zeer gecorreleerd maar om de 10 waardes toch een kleine piek.\n",
    "f) -0.93\n",
    "g) Op indices 3, 13, 23, 33, 43, 53"
   ],
   "metadata": {
    "collapsed": false
   }
  },
  {
   "cell_type": "code",
   "execution_count": 34,
   "outputs": [
    {
     "name": "stdout",
     "output_type": "stream",
     "text": [
      "[231.4]\n",
      "217.28333333333333\n",
      "mae     6.230864\n",
      "rmse    8.463272\n",
      "mape    0.032117\n",
      "dtype: float64\n"
     ]
    },
    {
     "data": {
      "text/plain": "<Figure size 640x480 with 0 Axes>"
     },
     "metadata": {},
     "output_type": "display_data"
    },
    {
     "data": {
      "text/plain": "<Figure size 640x480 with 1 Axes>",
      "image/png": "[encoded data removed]"
     },
     "metadata": {},
     "output_type": "display_data"
    },
    {
     "name": "stdout",
     "output_type": "stream",
     "text": [
      "0    -0.62\n",
      "1     0.27\n",
      "2     0.17\n",
      "3    -0.93\n",
      "4     0.77\n",
      "5    -0.09\n",
      "6    -0.39\n",
      "7    -0.29\n",
      "8     0.61\n",
      "9     0.50\n",
      "10   -0.62\n",
      "11    0.27\n",
      "12    0.17\n",
      "13   -0.93\n",
      "14    0.77\n",
      "15   -0.09\n",
      "16   -0.39\n",
      "17   -0.29\n",
      "18    0.61\n",
      "19    0.50\n",
      "20   -0.62\n",
      "21    0.27\n",
      "22    0.17\n",
      "23   -0.93\n",
      "24    0.77\n",
      "25   -0.09\n",
      "26   -0.39\n",
      "27   -0.29\n",
      "28    0.61\n",
      "29    0.50\n",
      "30   -0.62\n",
      "31    0.27\n",
      "32    0.17\n",
      "33   -0.93\n",
      "34    0.77\n",
      "35   -0.09\n",
      "36   -0.39\n",
      "37   -0.29\n",
      "38    0.61\n",
      "39    0.50\n",
      "40   -0.62\n",
      "41    0.27\n",
      "42    0.17\n",
      "43   -0.93\n",
      "44    0.77\n",
      "45   -0.09\n",
      "46   -0.39\n",
      "47   -0.29\n",
      "48    0.61\n",
      "49    0.50\n",
      "50   -0.62\n",
      "51    0.27\n",
      "52    0.17\n",
      "53   -0.93\n",
      "54    0.77\n",
      "55   -0.09\n",
      "56   -0.39\n",
      "57   -0.29\n",
      "58    0.61\n",
      "59    0.50\n",
      "Name: seasonal, dtype: float64\n",
      "Index([3, 13, 23, 33, 43, 53], dtype='int64')\n"
     ]
    }
   ],
   "source": [
    "# A: Naive berekenen (Eerstvolgende waarde)\n",
    "verleden = examen.afstand.to_numpy()\n",
    "voorspeld = np.empty(shape=0)\n",
    "for i in range(1):\n",
    "    volgende = naive(verleden)\n",
    "    voorspeld = np.append(voorspeld, volgende)\n",
    "    verleden = np.append(verleden, volgende)\n",
    "print(voorspeld)\n",
    "\n",
    "# B\n",
    "x = moving_average_forecasting(m=6)\n",
    "print(x(examen.afstand))\n",
    "\n",
    "# C\n",
    "print(betrw(examen.afstand, moving_average_forecasting(6)))\n",
    "\n",
    "# E\n",
    "autocorrDia(examen.afstand)\n",
    "\n",
    "# F\n",
    "sd_model = seasonal_decompose(examen.aantal_gsms, model='additieve', period=10)\n",
    "print(sd_model.seasonal)\n",
    "\n",
    "# G\n",
    "y = sd_model.seasonal[sd_model.seasonal == min(sd_model.seasonal)]\n",
    "print(y.index)"
   ],
   "metadata": {
    "collapsed": false
   }
  },
  {
   "cell_type": "markdown",
   "source": [
    "## Vraag 4"
   ],
   "metadata": {
    "collapsed": false
   }
  },
  {
   "cell_type": "markdown",
   "source": [
    "Antwoorden:\n",
    "a) 2.1332540670788203\n",
    "b) Kledingmaat\n",
    "c) 0.2991407412289808\n",
    "d) Meetniveau ratio\n",
    "e) zie code\n",
    "f) Grootste onderscheiding"
   ],
   "metadata": {
    "collapsed": false
   }
  },
  {
   "cell_type": "code",
   "execution_count": 78,
   "outputs": [
    {
     "name": "stdout",
     "output_type": "stream",
     "text": [
      "<class 'pandas.core.frame.DataFrame'>\n",
      "RangeIndex: 60 entries, 0 to 59\n",
      "Data columns (total 3 columns):\n",
      " #   Column          Non-Null Count  Dtype   \n",
      "---  ------          --------------  -----   \n",
      " 0   categorie       60 non-null     category\n",
      " 1   behaalde_graad  60 non-null     category\n",
      " 2   kledingmaat     60 non-null     category\n",
      "dtypes: category(3)\n",
      "memory usage: 876.0 bytes\n",
      "2.0744658394793376\n"
     ]
    }
   ],
   "source": [
    "# voorgeschreven code\n",
    "examen2 = examen[['categorie', 'behaalde_graad', 'kledingmaat']]\n",
    "examen2.info()"
   ],
   "metadata": {
    "collapsed": false
   }
  },
  {
   "cell_type": "code",
   "execution_count": 36,
   "outputs": [
    {
     "name": "stdout",
     "output_type": "stream",
     "text": [
      "<class 'pandas.core.frame.DataFrame'>\n",
      "RangeIndex: 60 entries, 0 to 59\n",
      "Data columns (total 3 columns):\n",
      " #   Column       Non-Null Count  Dtype  \n",
      "---  ------       --------------  -----  \n",
      " 0   diepte       60 non-null     float64\n",
      " 1   oplaadtijd   60 non-null     float64\n",
      " 2   aantal_gsms  60 non-null     float64\n",
      "dtypes: float64(3)\n",
      "memory usage: 1.5 KB\n"
     ]
    }
   ],
   "source": [
    "# voorgeschreven code\n",
    "examen3 = examen[['diepte', 'oplaadtijd', 'aantal_gsms']]\n",
    "examen3.info()"
   ],
   "metadata": {
    "collapsed": false
   }
  },
  {
   "cell_type": "code",
   "execution_count": 93,
   "outputs": [
    {
     "name": "stdout",
     "output_type": "stream",
     "text": [
      "2.1332540670788203\n",
      "\n",
      "diepte <=4.85\n",
      "|   aantal_gsms <=6.50\n",
      "|   |   oplaadtijd <=160.85: grootste onderscheiding (4/4) \n",
      "|   |   oplaadtijd >160.85: grootste onderscheiding (18/26) \n",
      "|   aantal_gsms >6.50: grootste onderscheiding (4) \n",
      "diepte >4.85\n",
      "|   aantal_gsms <=2.50: gebuisd (2) \n",
      "|   aantal_gsms >2.50\n",
      "|   |   oplaadtijd <=153.75: grootste onderscheiding (1) \n",
      "|   |   oplaadtijd >153.75: voldoening (1) \n",
      "\n",
      "Resultaat voorpselling: ['grootste onderscheiding']\n"
     ]
    },
    {
     "name": "stderr",
     "output_type": "stream",
     "text": [
      "H:\\My Drive\\School\\2022-2023\\Data-Science\\Data-Science\\venv\\Lib\\site-packages\\pandas\\core\\arraylike.py:396: RuntimeWarning: divide by zero encountered in log\n",
      "  result = getattr(ufunc, method)(*inputs, **kwargs)\n",
      "H:\\My Drive\\School\\2022-2023\\Data-Science\\Data-Science\\venv\\Lib\\site-packages\\pandas\\core\\arraylike.py:396: RuntimeWarning: divide by zero encountered in log\n",
      "  result = getattr(ufunc, method)(*inputs, **kwargs)\n",
      "H:\\My Drive\\School\\2022-2023\\Data-Science\\Data-Science\\venv\\Lib\\site-packages\\pandas\\core\\arraylike.py:396: RuntimeWarning: divide by zero encountered in log\n",
      "  result = getattr(ufunc, method)(*inputs, **kwargs)\n",
      "H:\\My Drive\\School\\2022-2023\\Data-Science\\Data-Science\\venv\\Lib\\site-packages\\pandas\\core\\arraylike.py:396: RuntimeWarning: divide by zero encountered in log\n",
      "  result = getattr(ufunc, method)(*inputs, **kwargs)\n",
      "H:\\My Drive\\School\\2022-2023\\Data-Science\\Data-Science\\venv\\Lib\\site-packages\\pandas\\core\\arraylike.py:396: RuntimeWarning: divide by zero encountered in log\n",
      "  result = getattr(ufunc, method)(*inputs, **kwargs)\n"
     ]
    }
   ],
   "source": [
    "# A\n",
    "total = len(examen2)\n",
    "print(entropy(examen.waardering))\n",
    "# B\n",
    "best_split(examen2,'behaalde_graad')\n",
    "\n",
    "# E\n",
    "model = Id3Estimator(max_depth=3)\n",
    "x = examen3.values.tolist()\n",
    "y = examen.behaalde_graad.values.tolist()\n",
    "model.fit(x,y)\n",
    "print(export_text(model.tree_, feature_names=examen3.columns))\n",
    "\n",
    "# F\n",
    "print(f\"Resultaat voorpselling: {model.predict([[2,1.4,140]])}\")"
   ],
   "metadata": {
    "collapsed": false
   }
  },
  {
   "cell_type": "markdown",
   "source": [
    "## Vraag 5"
   ],
   "metadata": {
    "collapsed": false
   }
  },
  {
   "cell_type": "markdown",
   "source": [
    "Antwoorden:\n",
    "a) 6.85 (Rijnummer indexes 5 & 0) of 20.4 (Rijnummers 6 & 1)\n",
    "b) Cluster 1: 59 rijen & Cluster 2: 1 rij\n",
    "c) Cluster 1: 21 rijen & Cluster 2: 29 rijen & Cluster 3: 10\n"
   ],
   "metadata": {
    "collapsed": false
   }
  },
  {
   "cell_type": "code",
   "execution_count": 46,
   "outputs": [
    {
     "name": "stdout",
     "output_type": "stream",
     "text": [
      "<class 'pandas.core.frame.DataFrame'>\n",
      "RangeIndex: 60 entries, 0 to 59\n",
      "Data columns (total 3 columns):\n",
      " #   Column       Non-Null Count  Dtype  \n",
      "---  ------       --------------  -----  \n",
      " 0   diepte       60 non-null     float64\n",
      " 1   oplaadtijd   60 non-null     float64\n",
      " 2   aantal_gsms  60 non-null     float64\n",
      "dtypes: float64(3)\n",
      "memory usage: 1.5 KB\n"
     ]
    }
   ],
   "source": [
    "# voorgeschreven code\n",
    "examen4 = examen[['diepte', 'oplaadtijd', 'aantal_gsms']]\n",
    "examen4.info()"
   ],
   "metadata": {
    "collapsed": false
   }
  },
  {
   "cell_type": "code",
   "execution_count": 65,
   "outputs": [
    {
     "name": "stdout",
     "output_type": "stream",
     "text": [
      "Vraag A:\n",
      "20.4\n",
      "6.85\n",
      "\n",
      "Vraag B:\n",
      "Cluster 1: 59\n",
      "Cluster 2: 1\n",
      "\n",
      "Vraag C:\n",
      "Cluster 1: 21\n",
      "Cluster 2: 29\n",
      "Cluster 3: 10\n"
     ]
    },
    {
     "name": "stderr",
     "output_type": "stream",
     "text": [
      "H:\\My Drive\\School\\2022-2023\\Data-Science\\Data-Science\\venv\\Lib\\site-packages\\sklearn\\cluster\\_agglomerative.py:983: FutureWarning: Attribute `affinity` was deprecated in version 1.2 and will be removed in 1.4. Use `metric` instead\n",
      "  warnings.warn(\n",
      "H:\\My Drive\\School\\2022-2023\\Data-Science\\Data-Science\\venv\\Lib\\site-packages\\sklearn\\cluster\\_kmeans.py:870: FutureWarning: The default value of `n_init` will change from 10 to 'auto' in 1.4. Set the value of `n_init` explicitly to suppress the warning\n",
      "  warnings.warn(\n"
     ]
    }
   ],
   "source": [
    "# A (Index of rijnummer?)\n",
    "print(\"Vraag A:\")\n",
    "print(afstand_euclidisch(examen4, 6, 1)) # Rijnummers\n",
    "print(afstand_euclidisch(examen4, 5, 0)) # Rij indexes\n",
    "\n",
    "# B\n",
    "from sklearn.cluster import AgglomerativeClustering\n",
    "hcmodel = AgglomerativeClustering(linkage='single', affinity = 'manhattan', n_clusters=2)\n",
    "hcmodel.fit(examen4)\n",
    "df = pd.Series(hcmodel.labels_)\n",
    "\n",
    "print(\"\\nVraag B:\")\n",
    "print(f\"Cluster 1: {df[df == 0].count()}\")\n",
    "print(f\"Cluster 2: {df[df == 1].count()}\")\n",
    "\n",
    "# C\n",
    "print(\"\\nVraag C:\")\n",
    "model = KMeans(n_clusters=3)\n",
    "model.fit(examen4)\n",
    "series2 = pd.Series(model.labels_)\n",
    "print(f\"Cluster 1: {series2[series2 == 0].count()}\")\n",
    "print(f\"Cluster 2: {series2[series2 == 1].count()}\")\n",
    "print(f\"Cluster 3: {series2[series2 == 2].count()}\")"
   ],
   "metadata": {
    "collapsed": false
   }
  },
  {
   "cell_type": "markdown",
   "source": [
    "## Vraag 6"
   ],
   "metadata": {
    "collapsed": false
   }
  },
  {
   "cell_type": "markdown",
   "source": [
    "Antwoorden:\n",
    "a) Enkel de kolommen met meetniveau ratio (aantal_gezinsleden, oplaadtijd, beltijd, concentratie, afstand, aantal_gsms)\n",
    "b) Zie code (variabele df)\n",
    "c) 76.12%\n",
    "d) Eerste 2 hoofdcomponenten behouden zo'n 76.12% van originele data.\n",
    "e) /"
   ],
   "metadata": {
    "collapsed": false
   }
  },
  {
   "cell_type": "code",
   "execution_count": 76,
   "outputs": [
    {
     "name": "stdout",
     "output_type": "stream",
     "text": [
      "<class 'pandas.core.frame.DataFrame'>\n",
      "RangeIndex: 60 entries, 0 to 59\n",
      "Data columns (total 13 columns):\n",
      " #   Column              Non-Null Count  Dtype   \n",
      "---  ------              --------------  -----   \n",
      " 0   werknemersId        60 non-null     int64   \n",
      " 1   waardering          60 non-null     int64   \n",
      " 2   opinie              60 non-null     category\n",
      " 3   aantal_gezinsleden  60 non-null     float64 \n",
      " 4   diepte              60 non-null     float64 \n",
      " 5   oplaadtijd          60 non-null     float64 \n",
      " 6   beltijd             60 non-null     float64 \n",
      " 7   concentratie        60 non-null     float64 \n",
      " 8   afstand             60 non-null     float64 \n",
      " 9   categorie           60 non-null     category\n",
      " 10  behaalde_graad      60 non-null     category\n",
      " 11  kledingmaat         60 non-null     category\n",
      " 12  aantal_gsms         60 non-null     float64 \n",
      "dtypes: category(4), float64(7), int64(2)\n",
      "memory usage: 5.3 KB\n",
      "None\n",
      "Verklaarde variantie: [4.35436557e-01 3.25828874e-01 2.23862860e-01 1.43525396e-02\n",
      " 3.87239256e-04 1.31930653e-04]\n",
      "Verklaarde cum. variantie: [ 43.54  76.12  98.51  99.95  99.99 100.  ]\n"
     ]
    }
   ],
   "source": [
    "# A\n",
    "print(examen.info())\n",
    "\n",
    "# B\n",
    "df = pd.DataFrame({\"aantal_gezinsleden\" : examen.aantal_gezinsleden, \"oplaadtijd\" : examen.oplaadtijd, \"beltijd\" : examen.beltijd, \"concentratie\" : examen.concentratie, \"afstand\" : examen.afstand, \"aantal_gsms\" : examen.aantal_gsms})\n",
    "\n",
    "# C\n",
    "from sklearn.decomposition import PCA\n",
    "\n",
    "pca_dim = min(df.shape[1], df.shape[0])\n",
    "pcamodel = PCA(pca_dim)\n",
    "principalComponents = pcamodel.fit_transform(df)\n",
    "\n",
    "print('Verklaarde variantie:', pcamodel.explained_variance_ratio_)\n",
    "print('Verklaarde cum. variantie:', np.cumsum(np.round(pcamodel.explained_variance_ratio_, decimals=4)*100))\n",
    "\n",
    "# E\n",
    "#/"
   ],
   "metadata": {
    "collapsed": false
   }
  }
 ],
 "metadata": {
  "kernelspec": {
   "display_name": "Python 3",
   "language": "python",
   "name": "python3"
  },
  "language_info": {
   "codemirror_mode": {
    "name": "ipython",
    "version": 2
   },
   "file_extension": ".py",
   "mimetype": "text/x-python",
   "name": "python",
   "nbconvert_exporter": "python",
   "pygments_lexer": "ipython2",
   "version": "2.7.6"
  }
 },
 "nbformat": 4,
 "nbformat_minor": 0
}
