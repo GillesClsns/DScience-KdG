{
 "cells": [
  {
   "cell_type": "code",
   "execution_count": null,
   "metadata": {
    "collapsed": true
   },
   "outputs": [],
   "source": [
    "import pandas as pd"
   ]
  },
  {
   "cell_type": "code",
   "execution_count": null,
   "outputs": [],
   "source": [
    "# eerst inlezen\n",
    "enquete = pd.read_csv('Enquête Data Science 2023.csv')\n",
    "enquete.info()"
   ],
   "metadata": {
    "collapsed": false
   }
  },
  {
   "cell_type": "code",
   "execution_count": null,
   "outputs": [],
   "source": [
    "# kolomnamen opkuisen\n",
    "columnNames=['gapminder', 'schrijfhand', 'schoenmaat', 'lengte', 'bloedgroep', 'resus', 'siblings', 'beweringen', 'rijbewijzen', 'domicilie', 'afstudeerrichting', 'vrijetijd', 'uren_wiskunde', 'informatica_belangrijk', 'uur_schoolwerk_per_week', 'afstand', 'vervoermiddel', 'opwarming', 'zakgeld_per_maand', 'stukken_fruit', 'besturingsysteem', 'app', 'welzijn', 'gelijke_middelen', 'loyaliteit', 'respect', 'geloof', 'vrijheid', 'zwaarste_vak', 'boeiendste_vak', 'studiepunt', 'toestemming']\n",
    "enquete = enquete.set_axis(columnNames, axis=1)\n",
    "enquete.info()"
   ],
   "metadata": {
    "collapsed": false
   }
  },
  {
   "cell_type": "code",
   "execution_count": null,
   "outputs": [],
   "source": [
    "# verwijder studenten die niet akkoord waren\n",
    "regels = (enquete.toestemming=='Ja')\n",
    "enquete = enquete[regels]\n",
    "enquete.drop(columns='toestemming', inplace=True)\n",
    "enquete.info()"
   ],
   "metadata": {
    "collapsed": false
   }
  },
  {
   "cell_type": "code",
   "execution_count": null,
   "outputs": [],
   "source": [
    "print(enquete.gapminder.unique())"
   ],
   "metadata": {
    "collapsed": false
   }
  },
  {
   "cell_type": "code",
   "execution_count": null,
   "outputs": [],
   "source": [
    "# gapminder omzetten naar percentage\n",
    "gapminder = enquete.gapminder.str.split('/').tolist()\n",
    "for i in range(len(gapminder)):\n",
    "    gapminder[i] = int(gapminder[i][0]) / int(gapminder[i][1]) * 100.0\n",
    "enquete.gapminder = gapminder\n",
    "enquete.info()"
   ],
   "metadata": {
    "collapsed": false
   }
  },
  {
   "cell_type": "code",
   "execution_count": null,
   "outputs": [],
   "source": [
    "schrijfhand = enquete.schrijfhand\n",
    "print(schrijfhand.unique())"
   ],
   "metadata": {
    "collapsed": false
   }
  },
  {
   "cell_type": "code",
   "execution_count": null,
   "outputs": [],
   "source": [
    "# schrijfhand naar categorical\n",
    "schrijfhand = pd.Categorical(schrijfhand)\n",
    "enquete.schrijfhand = schrijfhand\n",
    "enquete.info()"
   ],
   "metadata": {
    "collapsed": false
   }
  },
  {
   "cell_type": "code",
   "execution_count": null,
   "outputs": [],
   "source": [
    "bloedgroep = enquete.bloedgroep\n",
    "print(bloedgroep.unique())"
   ],
   "metadata": {
    "collapsed": false
   }
  },
  {
   "cell_type": "code",
   "execution_count": null,
   "outputs": [],
   "source": [
    "# bloedgroep naar categorical\n",
    "# zet 'Weet ik niet' om naar NA\n",
    "bloedgroep = pd.Categorical(bloedgroep, categories=['O', 'A', 'B', 'AB'])\n",
    "enquete.bloedgroep = bloedgroep\n",
    "enquete.info()"
   ],
   "metadata": {
    "collapsed": false
   }
  },
  {
   "cell_type": "code",
   "execution_count": null,
   "outputs": [],
   "source": [
    "resus = enquete.resus\n",
    "print(resus.unique())"
   ],
   "metadata": {
    "collapsed": false
   }
  },
  {
   "cell_type": "code",
   "execution_count": null,
   "outputs": [],
   "source": [
    "# resus omzetten naar categorical\n",
    "# zet 'Weet ik niet' om naar NA\n",
    "resus = pd.Categorical(resus, categories=['Negatief', 'Positief'])\n",
    "enquete.resus = resus\n",
    "enquete.info()"
   ],
   "metadata": {
    "collapsed": false
   }
  },
  {
   "cell_type": "code",
   "execution_count": null,
   "outputs": [],
   "source": [
    "# beweringen omzetten naar kolommen\n",
    "beweringen = enquete.beweringen\n",
    "print(beweringen.unique())\n",
    "# nah, another time :-)"
   ],
   "metadata": {
    "collapsed": false
   }
  },
  {
   "cell_type": "code",
   "execution_count": null,
   "outputs": [],
   "source": [
    "rijbewijzen = enquete.rijbewijzen\n",
    "print(rijbewijzen.unique())"
   ],
   "metadata": {
    "collapsed": false
   }
  },
  {
   "cell_type": "code",
   "execution_count": null,
   "outputs": [],
   "source": [
    "# rijbewijzen opsplitsen in verschillende kolommen\n",
    "mogelijkheden = ['Categorie AM: Bromfietsen met een maximumsnelheid tussen 25 en 45 km/u.', 'Categorie A: Motorfietsen.', 'Categorie B: Wagens.', 'Categorie C: Vrachtwagens.', 'Categorie D: Bussen.', 'Categorie G: Landbouwvoertuigen.', 'Geen']\n",
    "rijbewijzen = enquete.rijbewijzen.str.split(';').to_list()\n",
    "print(rijbewijzen[0])\n",
    "print(rijbewijzen[1])"
   ],
   "metadata": {
    "collapsed": false
   }
  },
  {
   "cell_type": "code",
   "execution_count": null,
   "outputs": [],
   "source": [
    "rijbewijsAM = []\n",
    "rijbewijsA = []\n",
    "rijbewijsB = []\n",
    "rijbewijsC = []\n",
    "rijbewijsD = []\n",
    "rijbewijsG = []\n",
    "for i in range(len(rijbewijzen)):\n",
    "    rijbewijsAM.append(mogelijkheden[0] in rijbewijzen[i])\n",
    "    rijbewijsA.append(mogelijkheden[1] in rijbewijzen[i])\n",
    "    rijbewijsB.append(mogelijkheden[2] in rijbewijzen[i])\n",
    "    rijbewijsC.append(mogelijkheden[3] in rijbewijzen[i])\n",
    "    rijbewijsD.append(mogelijkheden[4] in rijbewijzen[i])\n",
    "    rijbewijsG.append(mogelijkheden[5] in rijbewijzen[i])\n",
    "enquete.drop(columns=['rijbewijzen'], inplace=True)\n",
    "enquete['rijbewijsAM'] = rijbewijsAM\n",
    "enquete['rijbewijsA'] = rijbewijsA\n",
    "enquete['rijbewijsB'] = rijbewijsB\n",
    "enquete['rijbewijsC'] = rijbewijsC\n",
    "enquete['rijbewijsD'] = rijbewijsD\n",
    "enquete['rijbewijsG'] = rijbewijsG\n",
    "enquete.info()"
   ],
   "metadata": {
    "collapsed": false
   }
  },
  {
   "cell_type": "code",
   "execution_count": null,
   "outputs": [],
   "source": [
    "domicilie = enquete.domicilie\n",
    "print(domicilie.unique())"
   ],
   "metadata": {
    "collapsed": false
   }
  },
  {
   "cell_type": "code",
   "execution_count": null,
   "outputs": [],
   "source": [
    "# domicilie omzetten naar categorical\n",
    "domicilie = pd.Categorical(domicilie)\n",
    "print(domicilie)"
   ],
   "metadata": {
    "collapsed": false
   }
  },
  {
   "cell_type": "code",
   "execution_count": null,
   "outputs": [],
   "source": [
    "domicilie = domicilie.rename_categories(['buiten de stad', 'in een stad'])\n",
    "print(domicilie)"
   ],
   "metadata": {
    "collapsed": false
   }
  },
  {
   "cell_type": "code",
   "execution_count": null,
   "outputs": [],
   "source": [
    "enquete.domicilie = domicilie\n",
    "enquete.info()"
   ],
   "metadata": {
    "collapsed": false
   }
  },
  {
   "cell_type": "code",
   "execution_count": null,
   "outputs": [],
   "source": [
    "afstudeerrichting = enquete.afstudeerrichting\n",
    "print(afstudeerrichting.unique())"
   ],
   "metadata": {
    "collapsed": false
   }
  },
  {
   "cell_type": "code",
   "execution_count": null,
   "outputs": [],
   "source": [
    "# afstudeerrichting omzetten naar categorical\n",
    "afstudeerrichting = pd.Categorical(afstudeerrichting)\n",
    "enquete.afstudeerrichting = afstudeerrichting\n",
    "enquete.info()"
   ],
   "metadata": {
    "collapsed": false
   }
  },
  {
   "cell_type": "code",
   "execution_count": null,
   "outputs": [],
   "source": [
    "vrijetijd = enquete.vrijetijd\n",
    "print(vrijetijd.unique())"
   ],
   "metadata": {
    "collapsed": false
   }
  },
  {
   "cell_type": "code",
   "execution_count": null,
   "outputs": [],
   "source": [
    "# vrijetijd omzetten naar categorical\n",
    "vrijetijd = pd.Categorical(vrijetijd)\n",
    "enquete.vrijetijd = vrijetijd\n",
    "enquete.info()"
   ],
   "metadata": {
    "collapsed": false
   }
  },
  {
   "cell_type": "code",
   "execution_count": null,
   "outputs": [],
   "source": [
    "belangrijk = enquete.informatica_belangrijk\n",
    "print(belangrijk.unique())"
   ],
   "metadata": {
    "collapsed": false
   }
  },
  {
   "cell_type": "code",
   "execution_count": null,
   "outputs": [],
   "source": [
    "# informatica belangrijk naar categorical\n",
    "juiste_volgorde = ['Niet', 'Weinig', 'Matig', 'Groot', 'Zeer Groot', 'Extreem']\n",
    "belangrijk = pd.Categorical(belangrijk, categories=juiste_volgorde, ordered=True)\n",
    "enquete.informatica_belangrijk = belangrijk\n",
    "enquete.info()"
   ],
   "metadata": {
    "collapsed": false
   }
  },
  {
   "cell_type": "code",
   "execution_count": null,
   "outputs": [],
   "source": [
    "uurMinuut = enquete.uur_schoolwerk_per_week\n",
    "print(uurMinuut.unique())"
   ],
   "metadata": {
    "collapsed": false
   }
  },
  {
   "cell_type": "code",
   "execution_count": null,
   "outputs": [],
   "source": [
    "# uurMinuut omzetten naar minuten\n",
    "uurMinuut = uurMinuut.str.split(':').to_list()\n",
    "minuten = []\n",
    "for i in range(len(uurMinuut)):\n",
    "    minuten.append(int(uurMinuut[i][0]) * 60 + int(uurMinuut[i][1]))\n",
    "enquete.drop(columns=['uur_schoolwerk_per_week'], inplace=True)\n",
    "enquete['schoolwerk_per_week'] = minuten\n",
    "enquete.info()"
   ],
   "metadata": {
    "collapsed": false
   }
  },
  {
   "cell_type": "code",
   "execution_count": null,
   "outputs": [],
   "source": [
    "vervoermiddel = enquete.vervoermiddel\n",
    "print(vervoermiddel.unique())"
   ],
   "metadata": {
    "collapsed": false
   }
  },
  {
   "cell_type": "code",
   "execution_count": null,
   "outputs": [],
   "source": [
    "# vervoermiddel omzetten naar verschillende kolommen\n",
    "mogelijkheden = ['Te voet', 'Met de fiets', 'Met de tram', 'Met de auto', 'Met de trein', 'Met de bus']\n",
    "vervoer = vervoermiddel.str.split(';').to_list()\n",
    "vervoer_te_voet = []\n",
    "vervoer_fiets = []\n",
    "vervoer_tram = []\n",
    "vervoer_auto = []\n",
    "vervoer_trein = []\n",
    "vervoer_bus = []\n",
    "for i in range(len(vervoer)):\n",
    "    vervoer_te_voet.append(mogelijkheden[0] in vervoer[i])\n",
    "    vervoer_fiets.append(mogelijkheden[1] in vervoer[i])\n",
    "    vervoer_tram.append(mogelijkheden[2] in vervoer[i])\n",
    "    vervoer_auto.append(mogelijkheden[3] in vervoer[i])\n",
    "    vervoer_trein.append(mogelijkheden[4] in vervoer[i])\n",
    "    vervoer_bus.append(mogelijkheden[5] in vervoer[i])\n",
    "enquete.drop(columns=['vervoermiddel'], inplace=True)\n",
    "enquete['vervoer_te_voet'] = vervoer_te_voet\n",
    "enquete['vervoer_fiets'] = vervoer_fiets\n",
    "enquete['vervoer_tram'] = vervoer_tram\n",
    "enquete['vervoer_auto'] = vervoer_auto\n",
    "enquete['vervoer_trein'] = vervoer_trein\n",
    "enquete['vervoer_bus'] = vervoer_bus\n",
    "enquete.info()"
   ],
   "metadata": {
    "collapsed": false
   }
  },
  {
   "cell_type": "code",
   "execution_count": null,
   "outputs": [],
   "source": [
    "opwarming = enquete.opwarming\n",
    "print(opwarming.unique())"
   ],
   "metadata": {
    "collapsed": false
   }
  },
  {
   "cell_type": "code",
   "execution_count": null,
   "outputs": [],
   "source": [
    "# opwarming omzetten naar jaartal\n",
    "opwarming = opwarming.str.split('-').to_list()\n",
    "for i in range(len(opwarming)):\n",
    "    opwarming[i] = int(opwarming[i][0])\n",
    "enquete.opwarming = opwarming\n",
    "enquete.info()"
   ],
   "metadata": {
    "collapsed": false
   }
  },
  {
   "cell_type": "code",
   "execution_count": null,
   "outputs": [],
   "source": [
    "besturingsysteem = enquete.besturingsysteem\n",
    "print(besturingsysteem.unique())"
   ],
   "metadata": {
    "collapsed": false
   }
  },
  {
   "cell_type": "code",
   "execution_count": null,
   "outputs": [],
   "source": [
    "# besturingsysteem omzetten naar categorical\n",
    "besturingsysteem = pd.Categorical(besturingsysteem)\n",
    "enquete.besturingsysteem = besturingsysteem\n",
    "enquete.info()"
   ],
   "metadata": {
    "collapsed": false
   }
  },
  {
   "cell_type": "code",
   "execution_count": null,
   "outputs": [],
   "source": [
    "app = enquete.app\n",
    "print(app.unique())"
   ],
   "metadata": {
    "collapsed": false
   }
  },
  {
   "cell_type": "code",
   "execution_count": null,
   "outputs": [],
   "source": [
    "# app omzetten naar categorical\n",
    "app = pd.Categorical(app)\n",
    "enquete.app = app\n",
    "enquete.info()"
   ],
   "metadata": {
    "collapsed": false
   }
  },
  {
   "cell_type": "code",
   "execution_count": null,
   "outputs": [],
   "source": [
    "zwaarste_vak = enquete.zwaarste_vak\n",
    "print(zwaarste_vak.unique())"
   ],
   "metadata": {
    "collapsed": false
   }
  },
  {
   "cell_type": "code",
   "execution_count": null,
   "outputs": [],
   "source": [
    "# zwaarste vak omzetten naar categorical\n",
    "zwaarste_vak = pd.Categorical(zwaarste_vak)\n",
    "enquete.zwaarste_vak = zwaarste_vak\n",
    "enquete.info()"
   ],
   "metadata": {
    "collapsed": false
   }
  },
  {
   "cell_type": "code",
   "execution_count": null,
   "outputs": [],
   "source": [
    "boeiendste_vak = enquete.boeiendste_vak\n",
    "print(boeiendste_vak.unique())"
   ],
   "metadata": {
    "collapsed": false
   }
  },
  {
   "cell_type": "code",
   "execution_count": null,
   "outputs": [],
   "source": [
    "# boeiendste vak omzetten naar categorical\n",
    "boeiendste_vak = pd.Categorical(boeiendste_vak)\n",
    "enquete.boeiendste_vak = boeiendste_vak\n",
    "enquete.info()"
   ],
   "metadata": {
    "collapsed": false
   }
  },
  {
   "cell_type": "code",
   "execution_count": null,
   "outputs": [],
   "source": [
    "# klaar!"
   ],
   "metadata": {
    "collapsed": false
   }
  }
 ],
 "metadata": {
  "kernelspec": {
   "display_name": "Python 3",
   "language": "python",
   "name": "python3"
  },
  "language_info": {
   "codemirror_mode": {
    "name": "ipython",
    "version": 2
   },
   "file_extension": ".py",
   "mimetype": "text/x-python",
   "name": "python",
   "nbconvert_exporter": "python",
   "pygments_lexer": "ipython2",
   "version": "2.7.6"
  }
 },
 "nbformat": 4,
 "nbformat_minor": 0
}
