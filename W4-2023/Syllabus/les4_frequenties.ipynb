{
 "cells": [
  {
   "cell_type": "markdown",
   "source": [
    "# Frequenties"
   ],
   "metadata": {
    "collapsed": false
   }
  },
  {
   "cell_type": "markdown",
   "source": [
    "Eerst alle imports voor deze les:"
   ],
   "metadata": {
    "collapsed": false
   }
  },
  {
   "cell_type": "code",
   "execution_count": null,
   "metadata": {
    "collapsed": true
   },
   "outputs": [],
   "source": [
    "import pandas as pd\n",
    "import math\n",
    "import statistics as stat\n",
    "import matplotlib.pyplot as plt"
   ]
  },
  {
   "cell_type": "markdown",
   "source": [
    "## Data inlezen"
   ],
   "metadata": {
    "collapsed": false
   }
  },
  {
   "cell_type": "markdown",
   "source": [
    "We lezen de data in:"
   ],
   "metadata": {
    "collapsed": false
   }
  },
  {
   "cell_type": "code",
   "execution_count": null,
   "outputs": [],
   "source": [
    "laptops = pd.read_csv(\"laptops.csv\", sep=\";\", decimal=\",\", header=0)\n",
    "laptops.info()"
   ],
   "metadata": {
    "collapsed": false
   }
  },
  {
   "cell_type": "code",
   "execution_count": null,
   "outputs": [],
   "source": [
    "laptops.head(n=10)"
   ],
   "metadata": {
    "collapsed": false
   }
  },
  {
   "cell_type": "markdown",
   "source": [
    "We zetten de datatypes juist:"
   ],
   "metadata": {
    "collapsed": false
   }
  },
  {
   "cell_type": "code",
   "execution_count": null,
   "outputs": [],
   "source": [
    "cpu_generation_levels = ['Sandy Bridge', 'Ivy Bridge', 'Haswell', 'Broadwell', 'Skylake', 'Kabylake']\n",
    "laptops.cpuGeneration = pd.Categorical(laptops.cpuGeneration, categories=cpu_generation_levels, ordered=True)\n",
    "cpu_levels = ['i3', 'i5', 'i7']\n",
    "laptops.cpuType = pd.Categorical(laptops.cpuType, categories=cpu_levels, ordered=True)\n",
    "laptops.brand = pd.Categorical(laptops.brand)\n",
    "laptops.info()"
   ],
   "metadata": {
    "collapsed": false
   }
  },
  {
   "cell_type": "markdown",
   "source": [
    "## Absolute frequenties"
   ],
   "metadata": {
    "collapsed": false
   }
  },
  {
   "cell_type": "markdown",
   "source": [
    "We berekenen de absolute frequenties voor cpuType:"
   ],
   "metadata": {
    "collapsed": false
   }
  },
  {
   "cell_type": "code",
   "execution_count": null,
   "outputs": [],
   "source": [
    "freqs = laptops.cpuType.value_counts()\n",
    "print(freqs)"
   ],
   "metadata": {
    "collapsed": false
   }
  },
  {
   "cell_type": "code",
   "execution_count": null,
   "outputs": [],
   "source": [
    "freqs = laptops.cpuType.value_counts(dropna=False)\n",
    "print(freqs)"
   ],
   "metadata": {
    "collapsed": false
   }
  },
  {
   "cell_type": "code",
   "execution_count": null,
   "outputs": [],
   "source": [
    "freqs = laptops.cpuType.value_counts().sort_index()\n",
    "print(freqs)"
   ],
   "metadata": {
    "collapsed": false
   }
  },
  {
   "cell_type": "code",
   "execution_count": null,
   "outputs": [],
   "source": [
    "freqs = laptops.cpuType.value_counts(dropna=False).sort_index()\n",
    "print(freqs)"
   ],
   "metadata": {
    "collapsed": false
   }
  },
  {
   "cell_type": "markdown",
   "source": [
    "## Klassen"
   ],
   "metadata": {
    "collapsed": false
   }
  },
  {
   "cell_type": "code",
   "execution_count": null,
   "outputs": [],
   "source": [
    "freqs = laptops.diskspace.value_counts()\n",
    "print(freqs)"
   ],
   "metadata": {
    "collapsed": false
   }
  },
  {
   "cell_type": "code",
   "execution_count": null,
   "outputs": [],
   "source": [
    "cutpoints = range(0, 1200, 100)\n",
    "print(list(cutpoints))"
   ],
   "metadata": {
    "collapsed": false
   }
  },
  {
   "cell_type": "code",
   "execution_count": null,
   "outputs": [],
   "source": [
    "klassen = pd.cut(laptops.diskspace, bins=cutpoints)\n",
    "print(klassen)"
   ],
   "metadata": {
    "collapsed": false
   }
  },
  {
   "cell_type": "code",
   "execution_count": null,
   "outputs": [],
   "source": [
    "print(pd.DataFrame({'waarde':laptops.diskspace, 'klasse':klassen}))"
   ],
   "metadata": {
    "collapsed": false
   }
  },
  {
   "cell_type": "markdown",
   "source": [
    "Nu kunnen we de frequenties berekenen:"
   ],
   "metadata": {
    "collapsed": false
   }
  },
  {
   "cell_type": "code",
   "execution_count": null,
   "outputs": [],
   "source": [
    "freqs = klassen.value_counts().sort_index()\n",
    "print(freqs)"
   ],
   "metadata": {
    "collapsed": false
   }
  },
  {
   "cell_type": "code",
   "execution_count": null,
   "outputs": [],
   "source": [
    "klassen = pd.cut(laptops.diskspace, bins=cutpoints, right=False)\n",
    "print(klassen.value_counts().sort_index())"
   ],
   "metadata": {
    "collapsed": false
   }
  },
  {
   "cell_type": "code",
   "execution_count": null,
   "outputs": [],
   "source": [
    "klassen = pd.cut(laptops.diskspace, bins=cutpoints, include_lowest=True)\n",
    "print(klassen.value_counts().sort_index())"
   ],
   "metadata": {
    "collapsed": false
   }
  },
  {
   "cell_type": "markdown",
   "source": [
    "Aantal klassen bepalen:"
   ],
   "metadata": {
    "collapsed": false
   }
  },
  {
   "cell_type": "markdown",
   "source": [
    "Sturges:"
   ],
   "metadata": {
    "collapsed": false
   }
  },
  {
   "cell_type": "code",
   "execution_count": null,
   "outputs": [],
   "source": [
    "diskspace = laptops.diskspace.dropna()\n",
    "n = len(diskspace)\n",
    "sturges = math.ceil(1 + math.log2(n))\n",
    "print(sturges)"
   ],
   "metadata": {
    "collapsed": false
   }
  },
  {
   "cell_type": "markdown",
   "source": [
    "Scott:"
   ],
   "metadata": {
    "collapsed": false
   }
  },
  {
   "cell_type": "code",
   "execution_count": null,
   "outputs": [],
   "source": [
    "breedte = 3.5 * stat.stdev(diskspace) / (n ** (1/3))\n",
    "scott = math.ceil((diskspace.max()-diskspace.min())/breedte)\n",
    "print(scott)"
   ],
   "metadata": {
    "collapsed": false
   }
  },
  {
   "cell_type": "markdown",
   "source": [
    "Excel:"
   ],
   "metadata": {
    "collapsed": false
   }
  },
  {
   "cell_type": "code",
   "execution_count": null,
   "outputs": [],
   "source": [
    "excel = math.ceil(math.sqrt(n))\n",
    "print(excel)"
   ],
   "metadata": {
    "collapsed": false
   }
  },
  {
   "cell_type": "code",
   "execution_count": null,
   "outputs": [],
   "source": [
    "print(diskspace.value_counts(bins=11).sort_index())"
   ],
   "metadata": {
    "collapsed": false
   }
  },
  {
   "cell_type": "markdown",
   "source": [
    "## Relatieve frequenties"
   ],
   "metadata": {
    "collapsed": false
   }
  },
  {
   "cell_type": "code",
   "execution_count": null,
   "outputs": [],
   "source": [
    "freqs = laptops.brand.value_counts(normalize=True)\n",
    "print(freqs)"
   ],
   "metadata": {
    "collapsed": false
   }
  },
  {
   "cell_type": "code",
   "execution_count": null,
   "outputs": [],
   "source": [
    "freqs = (laptops.brand.value_counts(normalize=True) * 100).round(1)\n",
    "print(freqs)"
   ],
   "metadata": {
    "collapsed": false
   }
  },
  {
   "cell_type": "markdown",
   "source": [
    "## Cumulatieve frequenties"
   ],
   "metadata": {
    "collapsed": false
   }
  },
  {
   "cell_type": "code",
   "execution_count": null,
   "outputs": [],
   "source": [
    "x = pd.Series(range(1,6))\n",
    "print(x.tolist())\n",
    "print(x.cumsum().tolist())"
   ],
   "metadata": {
    "collapsed": false
   }
  },
  {
   "cell_type": "code",
   "execution_count": null,
   "outputs": [],
   "source": [
    "freqs = laptops.cpuGeneration.value_counts().sort_index().cumsum()\n",
    "print(freqs)"
   ],
   "metadata": {
    "collapsed": false
   }
  },
  {
   "cell_type": "code",
   "execution_count": null,
   "outputs": [],
   "source": [
    "freqs = laptops.brand.value_counts().sort_index().cumsum()\n",
    "print(freqs) # is dit zinvol?  Waarom of waarom niet?"
   ],
   "metadata": {
    "collapsed": false
   }
  },
  {
   "cell_type": "markdown",
   "source": [
    "## Cumulatieve percentages"
   ],
   "metadata": {
    "collapsed": false
   }
  },
  {
   "cell_type": "markdown",
   "source": [
    "Ook \"percentielscores\" genoemd"
   ],
   "metadata": {
    "collapsed": false
   }
  },
  {
   "cell_type": "code",
   "execution_count": null,
   "outputs": [],
   "source": [
    "freqs = (laptops.cpuGeneration.value_counts(normalize=True).sort_index().cumsum() * 100).round(1)\n",
    "print(freqs)"
   ],
   "metadata": {
    "collapsed": false
   }
  },
  {
   "cell_type": "markdown",
   "source": [
    "## Grafieken"
   ],
   "metadata": {
    "collapsed": false
   }
  },
  {
   "cell_type": "markdown",
   "source": [
    "Eenvoudig voorbeeld:"
   ],
   "metadata": {
    "collapsed": false
   }
  },
  {
   "cell_type": "code",
   "execution_count": null,
   "outputs": [],
   "source": [
    "fig, ax = plt.subplots()\n",
    "ax.plot([1,2,3,4], [0,4,6,7])\n",
    "ax.set_xlabel(\"tijd (seconden)\")\n",
    "ax.set_ylabel(\"temperatuur (Kelvin)\")\n",
    "ax.set_title(\"Temperatuurverloop\")\n",
    "# fig.show()\n",
    "# fig.savefig('beeldje.png')"
   ],
   "metadata": {
    "collapsed": false
   }
  },
  {
   "cell_type": "code",
   "execution_count": null,
   "outputs": [],
   "source": [
    "# iets uitgebreider\n",
    "fig, ax = plt.subplots()\n",
    "ax.plot([1, 2, 3, 4], [0, 4, 6, 7], 'o-', label='kamer1')\n",
    "ax.plot(range(1,5), [6, 5, 2, 1], label='kamer2', color='red', linestyle='dashed', marker='d')\n",
    "ax.legend()\n",
    "ax.grid(linestyle='--')\n",
    "ax.set_xlabel('tijd (seconden)')\n",
    "ax.set_ylabel('temperatuur (Kelvin)')\n",
    "ax.set_title('Temperatuurverloop')\n",
    "# fig.show()\n",
    "# fig.savefig('beeldje.png')"
   ],
   "metadata": {
    "collapsed": false
   }
  },
  {
   "cell_type": "markdown",
   "source": [
    "Taartdiagram:"
   ],
   "metadata": {
    "collapsed": false
   }
  },
  {
   "cell_type": "code",
   "execution_count": null,
   "outputs": [],
   "source": [
    "x = laptops.RAM.value_counts().sort_index()\n",
    "l = [\"1GB\", \"2GB\", \"4GB\", \"8GB\", \"16GB\"]\n",
    "fig, ax = plt.subplots()\n",
    "ax.pie(x, labels=l)\n",
    "ax.set_title(\"RAM in laptops\")\n",
    "# fig.show()"
   ],
   "metadata": {
    "collapsed": false
   }
  },
  {
   "cell_type": "markdown",
   "source": [
    "Staafdiagram:"
   ],
   "metadata": {
    "collapsed": false
   }
  },
  {
   "cell_type": "code",
   "execution_count": null,
   "outputs": [],
   "source": [
    "x = laptops.RAM.value_counts().sort_index()\n",
    "l = [\"1GB\", \"2GB\", \"4GB\", \"8GB\", \"16GB\"]\n",
    "fig, ax = plt.subplots()\n",
    "ax.bar(l, x)\n",
    "ax.grid(linestyle='--', axis='y')\n",
    "ax.set_title(\"RAM in laptops\")\n",
    "ax.set_xlabel(\"RAM geheugen (GB)\")\n",
    "ax.set_ylabel(\"Aantal laptops\")\n",
    "# fig.show()"
   ],
   "metadata": {
    "collapsed": false
   }
  },
  {
   "cell_type": "markdown",
   "source": [
    "Histogram:"
   ],
   "metadata": {
    "collapsed": false
   }
  },
  {
   "cell_type": "code",
   "execution_count": null,
   "outputs": [],
   "source": [
    "fig, ax = plt.subplots()\n",
    "ax.hist(laptops.diskspace)\n",
    "ax.grid(linestyle='--', axis='y')\n",
    "ax.set_title(\"Schijfruimte in laptops\")\n",
    "ax.set_xlabel(\"Vrije schijfruimte (GB)\")\n",
    "ax.set_ylabel(\"Aantal laptops\")\n",
    "# fig.show()"
   ],
   "metadata": {
    "collapsed": false
   }
  },
  {
   "cell_type": "code",
   "execution_count": null,
   "outputs": [],
   "source": [
    "fig, ax = plt.subplots()\n",
    "ax.hist(laptops.diskspace, bins=3)\n",
    "ax.grid(linestyle='--', axis='y')\n",
    "ax.set_title(\"Schijfruimte in laptops\")\n",
    "ax.set_xlabel(\"Vrije schijfruimte (GB)\")\n",
    "ax.set_ylabel(\"Aantal laptops\")\n",
    "# fig.show()"
   ],
   "metadata": {
    "collapsed": false
   }
  },
  {
   "cell_type": "code",
   "execution_count": null,
   "outputs": [],
   "source": [
    "cutpoints = [0, 120, 250, 500, 1000]\n",
    "fig, ax = plt.subplots()\n",
    "ax.hist(laptops.diskspace, bins=cutpoints)\n",
    "ax.grid(linestyle='--', axis='y')\n",
    "ax.set_title(\"Schijfruimte in laptops\")\n",
    "ax.set_xlabel(\"Vrije schijfruimte (GB)\")\n",
    "ax.set_ylabel(\"Aantal laptops\")\n",
    "# fig.show()"
   ],
   "metadata": {
    "collapsed": false
   }
  },
  {
   "cell_type": "code",
   "execution_count": null,
   "outputs": [],
   "source": [
    "cutpoints = [0, 120, 250, 500, 1000]\n",
    "l = [\"120\", \"250\", \"500\", \"1000\"]\n",
    "x = laptops.diskspace.value_counts(bins=cutpoints).sort_index()\n",
    "fig, ax = plt.subplots()\n",
    "ax.bar(l, x)\n",
    "ax.grid(linestyle='--', axis='y')\n",
    "ax.set_title(\"Harde schijven in laptops\")\n",
    "ax.set_xlabel(\"Schijfcapaciteit (GB)\")\n",
    "ax.set_ylabel(\"Aantal laptops\")\n",
    "# fig.show()"
   ],
   "metadata": {
    "collapsed": false
   }
  },
  {
   "cell_type": "markdown",
   "source": [
    "## Spider plots"
   ],
   "metadata": {
    "collapsed": false
   }
  },
  {
   "cell_type": "code",
   "execution_count": null,
   "outputs": [],
   "source": [
    "x = laptops.brand\n",
    "freqs = x.value_counts()\n",
    "categories = freqs.index\n",
    "values = freqs.values.tolist()\n",
    "values += values[:1]\n",
    "aantal = len(freqs)\n",
    "maximum = max(values)\n",
    "angles = [n / float(aantal) * 2 * math.pi for n in range(aantal)]\n",
    "angles += angles[:1]\n",
    "plt.figure()\n",
    "ax = plt.subplot(111, polar=True)\n",
    "plt.xticks(angles[:-1], categories, color='grey', size=8)\n",
    "ax.set_rlabel_position(0)\n",
    "plt.yticks([n/4*maximum for n in range(4)], [n/4*maximum for n in range(4)], color=\"grey\", size=7)\n",
    "plt.ylim(0, maximum)\n",
    "plt.plot(angles, values, linewidth=1, linestyle='solid')\n",
    "plt.fill(angles, values, 'b', alpha=0.1)\n",
    "# plt.show()"
   ],
   "metadata": {
    "collapsed": false
   }
  },
  {
   "cell_type": "markdown",
   "source": [
    "## Wordclouds"
   ],
   "metadata": {
    "collapsed": false
   }
  },
  {
   "cell_type": "code",
   "execution_count": null,
   "outputs": [],
   "source": [
    "import wordcloud as wc\n",
    "tekst=\"imagine there's no heaven it's easy if you try no hell below us above us only sky imagine all the people living for today  imagine there's no countries it isn't hard to do nothing to kill or die for and no religion, too imagine all the people living life in peace you you may say I'm a dreamer but I'm not the only one I hope someday you'll join us and the world will be as one imagine no possessions I wonder if you can no need for greed or hunger a brotherhood of man imagine all the people sharing all the world you you may say I'm a dreamer but I'm not the only one I hope someday you'll join us and the world will live as one\"\n",
    "cloud=wc.WordCloud(max_font_size=70, max_words=20, background_color=\"white\", random_state=13).generate(tekst)\n",
    "plt.figure()\n",
    "plt.imshow(cloud, interpolation='bilinear')\n",
    "plt.axis(\"off\")\n",
    "# plt.show()"
   ],
   "metadata": {
    "collapsed": false
   }
  },
  {
   "cell_type": "code",
   "execution_count": null,
   "outputs": [],
   "source": [],
   "metadata": {
    "collapsed": false
   }
  }
 ],
 "metadata": {
  "kernelspec": {
   "display_name": "Python 3",
   "language": "python",
   "name": "python3"
  },
  "language_info": {
   "codemirror_mode": {
    "name": "ipython",
    "version": 2
   },
   "file_extension": ".py",
   "mimetype": "text/x-python",
   "name": "python",
   "nbconvert_exporter": "python",
   "pygments_lexer": "ipython2",
   "version": "2.7.6"
  }
 },
 "nbformat": 4,
 "nbformat_minor": 0
}
