{
 "cells": [
  {
   "cell_type": "markdown",
   "source": [
    "# Frequentieverdelingen"
   ],
   "metadata": {
    "collapsed": false
   }
  },
  {
   "cell_type": "code",
   "execution_count": null,
   "outputs": [],
   "source": [
    "import numpy as np\n",
    "import pandas as pd\n",
    "import matplotlib.pyplot as plt"
   ],
   "metadata": {
    "collapsed": false
   }
  },
  {
   "cell_type": "code",
   "execution_count": null,
   "outputs": [],
   "source": [
    "import numpy as np\n",
    "\n",
    "\n",
    "def bereken_cumulatief_percentage(score, x, f):\n",
    "    x = np.array(x)\n",
    "    f = np.array(f)\n",
    "\n",
    "    total_frequency = np.sum(f)  # Totale frequentie\n",
    "\n",
    "    if isinstance(score, (int, float)):\n",
    "        cumulative_frequencies = np.cumsum(f)\n",
    "        cumulative_percentages = (cumulative_frequencies / total_frequency) * 100\n",
    "        return np.round(cumulative_percentages, 1)\n",
    "    elif isinstance(score, (list, np.ndarray)):\n",
    "        cumulative_percentages = []\n",
    "        cumulative_frequency = 0\n",
    "        for s in score:\n",
    "            cumulative_frequency += np.sum(f[x <= s])\n",
    "            cumulative_percentage = (cumulative_frequency / total_frequency) * 100\n",
    "            cumulative_percentages.append(cumulative_percentage)\n",
    "        return np.round(cumulative_percentages, 1)\n",
    "    else:\n",
    "        return None\n",
    "\n",
    "\n",
    "def bereken_relatieve_frequenties(frequenties, waarde=None):\n",
    "    total_observations = np.sum(frequenties)  # Totale aantal observaties\n",
    "\n",
    "    if waarde is None:\n",
    "        relative_frequencies = frequenties / total_observations\n",
    "        return (relative_frequencies * 100).round(2)\n",
    "    else:\n",
    "        index = np.where(frequenties == waarde)[0]  # Zoek index van de waarde in de frequenties\n",
    "\n",
    "        if len(index) > 0:\n",
    "            frequency = frequenties[index][0]\n",
    "            relative_frequency = frequency / total_observations\n",
    "            return (relative_frequency * 100).round(2)\n",
    "        else:\n",
    "            return 0.0  # Als de waarde niet in de frequenties voorkomt, retourneer 0.0 als relatieve frequentie\n"
   ],
   "metadata": {
    "collapsed": false
   }
  },
  {
   "cell_type": "markdown",
   "source": [
    "## Vraag 1\n",
    "Taart- en staartdiagrammen"
   ],
   "metadata": {
    "collapsed": false
   },
   "outputs": [
    {
     "ename": "SyntaxError",
     "evalue": "invalid syntax (2681587102.py, line 2)",
     "output_type": "error",
     "traceback": [
      "\u001B[1;36m  Cell \u001B[1;32mIn[1], line 2\u001B[1;36m\u001B[0m\n\u001B[1;33m    Taart- en staartdiagrammen\u001B[0m\n\u001B[1;37m              ^\u001B[0m\n\u001B[1;31mSyntaxError\u001B[0m\u001B[1;31m:\u001B[0m invalid syntax\n"
     ]
    }
   ],
   "execution_count": 1
  },
  {
   "cell_type": "markdown",
   "source": [
    "## Vraag 2"
   ],
   "metadata": {
    "collapsed": false
   }
  },
  {
   "cell_type": "code",
   "execution_count": null,
   "outputs": [],
   "source": [
    "fruits = [\"Appel\", \"Banaan\", \"Druiven\", \"Peer\", \"Meloen\", \"Kiwi\"]\n",
    "frequenties = [17, 5, 3, 1, 2, 2]\n",
    "\n",
    "_, ax = plt.subplots()\n",
    "ax.pie(frequenties, labels=fruits)\n",
    "_ = ax.set_title(\"Meest gegeten fruit\")\n",
    "\n",
    "_, ax = plt.subplots()\n",
    "ax.bar(fruits, frequenties)\n",
    "ax.set_title(\"Meest gegeten fruit\")\n",
    "ax.set_xlabel(\"Fruit\")\n",
    "ax.set_ylabel(\"# Fruit\")"
   ],
   "metadata": {
    "collapsed": false
   }
  },
  {
   "cell_type": "markdown",
   "source": [
    "## Vraag 3"
   ],
   "metadata": {
    "collapsed": false
   }
  },
  {
   "cell_type": "code",
   "execution_count": null,
   "outputs": [],
   "source": [
    "x = np.array([4, 5, 6, 7, 8, 9, 10])\n",
    "f = np.array([2, 3, 5, 6, 4, 2, 3])\n",
    "\n",
    "total_observation = np.sum(f)\n",
    "cumulative_frequency = np.sum(f[x <= 6])\n",
    "cumulative_percentage = (cumulative_frequency / total_observation) * 100\n",
    "print(f\"Het cumulatieve percentage voor score 6 is: {cumulative_percentage}%\")\n",
    "\n",
    "print(f\"De percentielscore voor score 8 is: {bereken_cumulatief_percentage(8, x, f)}\")"
   ],
   "metadata": {
    "collapsed": false
   }
  },
  {
   "cell_type": "markdown",
   "source": [
    "## Vraag 4"
   ],
   "metadata": {
    "collapsed": false
   }
  },
  {
   "cell_type": "code",
   "execution_count": null,
   "outputs": [],
   "source": [
    "categories = (\"A\", \"B\", \"C\", \"D\")\n",
    "frequenties = np.array([30, 40, 30, 45])\n",
    "total_observations = np.sum(frequenties)  # Totale aantal observaties\n",
    "\n",
    "relatieve_frequenties = bereken_relatieve_frequenties(frequenties)\n",
    "\n",
    "cumulatieve_percentages = bereken_cumulatief_percentage(4, frequenties, frequenties)\n",
    "\n",
    "print(f\"De relatieve frequenties zijn: {relatieve_frequenties}\")\n",
    "print(f\"De cumulatieve percentages zijn: {cumulatieve_percentages}\")\n",
    "print(f\"De percentielscores zijn: {cumulatieve_percentages}\")\n",
    "\n",
    "data = pd.DataFrame({\"A\": [\"1000 tot 2000\", frequenties[0], relatieve_frequenties[0], cumulatieve_percentages[0],\n",
    "                           cumulatieve_percentages[0]],\n",
    "                     \"B\": [\"2000 tot 3000\", frequenties[1], relatieve_frequenties[1], cumulatieve_percentages[1],\n",
    "                           cumulatieve_percentages[1]],\n",
    "                     \"C\": [\"3000 tot 4000\", frequenties[2], relatieve_frequenties[2], cumulatieve_percentages[2],\n",
    "                           cumulatieve_percentages[2]],\n",
    "                     \"D\": [\"4000 tot 5000\", frequenties[3], relatieve_frequenties[3], cumulatieve_percentages[3],\n",
    "                           cumulatieve_percentages[3]]})\n",
    "print(data)\n",
    "\n"
   ],
   "metadata": {
    "collapsed": false
   }
  },
  {
   "cell_type": "markdown",
   "source": [
    "Het cumulatieve percentage van inkomenscategorie C is 68.97%"
   ],
   "metadata": {
    "collapsed": false
   }
  },
  {
   "cell_type": "markdown",
   "source": [
    "## Vraag 5\n",
    "A: False\n",
    "B: True [(72 + 74) / 2 = 73]\n",
    "C: False\n",
    "D: False"
   ],
   "metadata": {
    "collapsed": false
   }
  },
  {
   "cell_type": "markdown",
   "source": [
    "## Vraag 6\n",
    "1. False\n",
    "2. False\n",
    "3. False\n",
    "4. True"
   ],
   "metadata": {
    "collapsed": false
   }
  },
  {
   "cell_type": "markdown",
   "source": [
    "## Vraag 7\n",
    "Dit is waar. Om de percentiel te berekenen die hoort bij een bepaalde score, moet je weten welk percentage van de observaties onder die score vallen. Dit wordt berekend door de cumulatieve frequentie (het aantal observaties onder of gelijk aan de score) te delen door het totale aantal observaties, en dit resultaat te vermenigvuldigen met 100 om het percentage te krijgen.\n"
   ],
   "metadata": {
    "collapsed": false
   }
  },
  {
   "cell_type": "markdown",
   "source": [
    "## Vraag 8"
   ],
   "metadata": {
    "collapsed": false
   }
  },
  {
   "cell_type": "code",
   "execution_count": null,
   "outputs": [],
   "source": [
    "scores = np.array(range(2, 10))\n",
    "frequenties = np.array([1, 3, 2, 3, 5, 6, 3, 2])\n",
    "df = pd.DataFrame({\"Scores\": scores, \"Frequenties\": frequenties})\n",
    "\n",
    "cutpoints = range(0, 11, 2)\n",
    "klassen = pd.cut(df.Frequenties, bins=cutpoints)\n",
    "\n",
    "data = klassen.value_counts().sort_index()\n",
    "\n",
    "fig, axes = plt.subplots()\n",
    "_ = axes.hist(data, edgecolor='black', label='Scores')\n",
    "_ = axes.set_title('Scores')\n",
    "_ = axes.set_xlabel('Frequentie')\n",
    "_ = axes.set_ylabel('Scores')\n",
    "_ = axes.legend()\n",
    "\n",
    "print(f\"De cumulatieve frequentie bij score 6 bedraagt: {bereken_cumulatief_percentage(6, scores, frequenties)[4]}\")"
   ],
   "metadata": {
    "collapsed": false
   }
  },
  {
   "cell_type": "markdown",
   "source": [
    "## Vraag 9"
   ],
   "metadata": {
    "collapsed": false
   }
  },
  {
   "cell_type": "code",
   "execution_count": null,
   "outputs": [],
   "source": [
    "score = [4, 5, 6, 7, 8, 9, 10, 11]\n",
    "frequentie = [5,7, 9, 11, 12, 10, 8, 6]\n",
    "\n",
    "df = pd.DataFrame({'score':score, 'frequentie':frequentie})\n",
    "\n",
    "# Vraag 1 (Wat is de percentielscore die hoort bij score 9?)\n",
    "cum_frequentie = df[df['score'] <= 9]['frequentie'].sum()\n",
    "totaal_frequentie = df['frequentie'].sum()\n",
    "cum_percentage = cum_frequentie / totaal_frequentie * 100\n",
    "\n",
    "print(f\"Cumulatief percentage bij score 9: {cum_percentage:.2f}%\")\n",
    "\n",
    "# Vraag 2 (Wat is de percentielscore die hoort bij score 7.5?)\n",
    "cum_frequentie = df[df['score'] <= 7.5]['frequentie'].sum()\n",
    "totaal_frequentie = df['frequentie'].sum()\n",
    "cum_percentage = cum_frequentie / totaal_frequentie * 100\n",
    "\n",
    "print(f\"Cumulatief percentage bij score 7.5: {cum_percentage:.2f}%\")\n",
    "\n",
    "# Vraag 3 (Wat is de score die hoort bij percentielscore 31?)\n",
    "target_percentage = 31\n",
    "df['cum_percentage'] = df['frequentie'].cumsum() / df['frequentie'].sum() * 100\n",
    "closest_score = df.loc[(df['cum_percentage'] - target_percentage).abs().idxmin(), 'score']\n",
    "\n",
    "print(f\"Score bij en cumulatief percentage van 31: {closest_score:d}\")\n"
   ],
   "metadata": {
    "collapsed": false
   }
  },
  {
   "cell_type": "markdown",
   "source": [
    "## Vraag 10"
   ],
   "metadata": {
    "collapsed": false
   }
  },
  {
   "cell_type": "code",
   "execution_count": null,
   "outputs": [],
   "source": [
    "data = pd.read_csv(\"./data/tevredenheid.txt\", header=0)\n",
    "\n",
    "af = data.value.value_counts()\n",
    "rf = bereken_relatieve_frequenties(data.value)\n",
    "cf = bereken_cumulatief_percentage(10, data.value, data.value)"
   ],
   "metadata": {
    "collapsed": false
   }
  }
 ],
 "metadata": {
  "kernelspec": {
   "display_name": "Python 3",
   "language": "python",
   "name": "python3"
  },
  "language_info": {
   "codemirror_mode": {
    "name": "ipython",
    "version": 2
   },
   "file_extension": ".py",
   "mimetype": "text/x-python",
   "name": "python",
   "nbconvert_exporter": "python",
   "pygments_lexer": "ipython2",
   "version": "2.7.6"
  }
 },
 "nbformat": 4,
 "nbformat_minor": 0
}
