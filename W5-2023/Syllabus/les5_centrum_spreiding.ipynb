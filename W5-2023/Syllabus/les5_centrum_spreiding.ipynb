{
 "cells": [
  {
   "cell_type": "markdown",
   "source": [
    "# Centrum en spreiding"
   ],
   "metadata": {
    "collapsed": false
   }
  },
  {
   "cell_type": "code",
   "execution_count": null,
   "outputs": [],
   "source": [
    "import pandas as pd\n",
    "import numpy as np\n",
    "import math\n",
    "from scipy import stats\n",
    "import matplotlib.pyplot as plt"
   ],
   "metadata": {
    "collapsed": false
   }
  },
  {
   "cell_type": "code",
   "execution_count": null,
   "metadata": {
    "collapsed": true
   },
   "outputs": [],
   "source": [
    "laptops = pd.read_csv('laptops.csv', sep=\";\", decimal=\",\", header=0)\n",
    "cpu_generation_levels = [ \"Sandy Bridge\", \"Ivy Bridge\", \"Haswell\", \"Broadwell\", \"Skylake\", \"Kabylake\" ]\n",
    "laptops.cpuGeneration = pd.Categorical(laptops.cpuGeneration, ordered=True, categories=cpu_generation_levels)\n",
    "cpu_type_levels = [ \"i3\", \"i5\", \"i7\" ]\n",
    "laptops.cpuType = pd.Categorical(laptops.cpuType, ordered=True, categories=cpu_type_levels)\n",
    "laptops.brand = pd.Categorical(laptops.brand)"
   ]
  },
  {
   "cell_type": "markdown",
   "source": [
    "## Modus"
   ],
   "metadata": {
    "collapsed": false
   }
  },
  {
   "cell_type": "markdown",
   "source": [
    "Wat is een modus???\n",
    "Vanaf welk meetniveau?"
   ],
   "metadata": {
    "collapsed": false
   }
  },
  {
   "cell_type": "code",
   "execution_count": null,
   "outputs": [],
   "source": [
    "laptops.cpuGeneration.mode() # dit levert een Series op (kunnen er meerdere waarden zijn?)"
   ],
   "metadata": {
    "collapsed": false
   }
  },
  {
   "cell_type": "markdown",
   "source": [
    "(pseudo) continue variabelen:"
   ],
   "metadata": {
    "collapsed": false
   }
  },
  {
   "cell_type": "code",
   "execution_count": null,
   "outputs": [],
   "source": [
    "cutpoints = [ 0, 120, 250, 500, 1000 ]\n",
    "klassen = pd.cut(laptops.diskspace, bins=cutpoints)\n",
    "klassen.mode()"
   ],
   "metadata": {
    "collapsed": false
   }
  },
  {
   "cell_type": "markdown",
   "source": [
    "opmerkingen:\n",
    "- afhankelijk van de opdeling in waarden\n",
    "- er kan meer dan 1 modus zijn\n",
    "- de waarde van de modus is altijd een bestaande waarde\n",
    "- de modus verandert niet als er uitschieters zijn"
   ],
   "metadata": {
    "collapsed": false
   }
  },
  {
   "cell_type": "markdown",
   "source": [
    "## Mediaan"
   ],
   "metadata": {
    "collapsed": false
   }
  },
  {
   "cell_type": "markdown",
   "source": [
    "Wat is een mediaan?\n",
    "Vanaf welk meetniveau?"
   ],
   "metadata": {
    "collapsed": false
   }
  },
  {
   "cell_type": "code",
   "execution_count": null,
   "outputs": [],
   "source": [
    "laptops.RAM.median()"
   ],
   "metadata": {
    "collapsed": false
   }
  },
  {
   "cell_type": "code",
   "execution_count": null,
   "outputs": [],
   "source": [
    "# waarom geeft het volgende een fout?\n",
    "# laptops.cpuGeneration.median()"
   ],
   "metadata": {
    "collapsed": false
   }
  },
  {
   "cell_type": "code",
   "execution_count": null,
   "outputs": [],
   "source": [
    "def median_categorical(data):\n",
    "   d = data.dropna()\n",
    "   n = len(d)\n",
    "   middle = math.floor(n/2)\n",
    "   return d.sort_values().iloc[middle]"
   ],
   "metadata": {
    "collapsed": false
   }
  },
  {
   "cell_type": "code",
   "execution_count": null,
   "outputs": [],
   "source": [
    "laptops.RAM.median()"
   ],
   "metadata": {
    "collapsed": false
   }
  },
  {
   "cell_type": "code",
   "execution_count": null,
   "outputs": [],
   "source": [
    "median_categorical(laptops.cpuGeneration)"
   ],
   "metadata": {
    "collapsed": false
   }
  },
  {
   "cell_type": "code",
   "execution_count": null,
   "outputs": [],
   "source": [
    "median_categorical(laptops.brand) # heeft dit zin?"
   ],
   "metadata": {
    "collapsed": false
   }
  },
  {
   "cell_type": "code",
   "execution_count": null,
   "outputs": [],
   "source": [
    "# alternatief\n",
    "print(laptops.cpuGeneration.quantile(0.5))\n",
    "print(laptops.brand.quantile(0.5)) # zinvol?"
   ],
   "metadata": {
    "collapsed": false
   }
  },
  {
   "cell_type": "markdown",
   "source": [
    "opmerkingen:\n",
    "- ongevoelig voor uitschieters\n",
    "- je hoeft geen klassen te maken bij continue data\n",
    "- de mediaan is altijd een bestaand getal (tenzij je een even aantal had)\n",
    "- de andere waarden hebben geen invloed\n",
    "- sorteren kost tijd\n",
    "- er is geen wiskundige formule voor de mediaan"
   ],
   "metadata": {
    "collapsed": false
   }
  },
  {
   "cell_type": "markdown",
   "source": [
    "## Gemiddelde"
   ],
   "metadata": {
    "collapsed": false
   }
  },
  {
   "cell_type": "markdown",
   "source": [
    "Wat is een gemiddelde?\n",
    "Vanaf welk meetniveau?"
   ],
   "metadata": {
    "collapsed": false
   }
  },
  {
   "cell_type": "code",
   "execution_count": null,
   "outputs": [],
   "source": [
    "laptops.diskspace.mean().round(1)"
   ],
   "metadata": {
    "collapsed": false
   }
  },
  {
   "cell_type": "markdown",
   "source": [
    "Gemiddelde vanuit een frequentietabel?"
   ],
   "metadata": {
    "collapsed": false
   }
  },
  {
   "cell_type": "code",
   "execution_count": null,
   "outputs": [],
   "source": [
    "freq = laptops.RAM.value_counts().sort_index()\n",
    "print(freq)"
   ],
   "metadata": {
    "collapsed": false
   }
  },
  {
   "cell_type": "code",
   "execution_count": null,
   "outputs": [],
   "source": [
    "waarden = freq.index\n",
    "(freq*waarden).sum()/freq.sum()"
   ],
   "metadata": {
    "collapsed": false
   }
  },
  {
   "cell_type": "code",
   "execution_count": null,
   "outputs": [],
   "source": [
    "laptops.RAM.mean() # verifiëren of dit overeenkomt met het vorige"
   ],
   "metadata": {
    "collapsed": false
   }
  },
  {
   "cell_type": "markdown",
   "source": [
    "opmerkingen:\n",
    "- er is een wiskundige formule: handiger om eigenschappen te bewijzen\n",
    "- alle waarden spelen een rol in het resultaat\n",
    "- het resultaat is niet noodzakelijk een bestaande waarde\n",
    "- uitschieters spelen een zeer grote rol"
   ],
   "metadata": {
    "collapsed": false
   }
  },
  {
   "cell_type": "markdown",
   "source": [
    "## Andere gemiddelden"
   ],
   "metadata": {
    "collapsed": false
   }
  },
  {
   "cell_type": "markdown",
   "source": [
    "gewogen gemiddelde"
   ],
   "metadata": {
    "collapsed": false
   }
  },
  {
   "cell_type": "code",
   "execution_count": null,
   "outputs": [],
   "source": [
    "# voorbeeld:\n",
    "vak = ['Computersystemen 1', 'OO programmeren 1', 'Datastr. en algoritmes', 'Data-Science 1', 'Netwerkarchitectuur 1', 'Communicatie 1', 'User interfaces 1', 'Databanken 1', 'Software engineering 1', 'Boekhouden', 'Management accounting']\n",
    "score = pd.Series([18,15,12,10,18,13,17,15,13,12,12])\n",
    "sp = pd.Series([6,11,5,3,3,7,4,7,7,3,4])\n",
    "print(pd.DataFrame({'vak':vak, 'score':score, 'studiepunten':sp}))"
   ],
   "metadata": {
    "collapsed": false
   }
  },
  {
   "cell_type": "code",
   "execution_count": null,
   "outputs": [],
   "source": [
    "(sp * score).sum()/sp.sum()"
   ],
   "metadata": {
    "collapsed": false
   }
  },
  {
   "cell_type": "markdown",
   "source": [
    "meetkundig gemiddelde"
   ],
   "metadata": {
    "collapsed": false
   }
  },
  {
   "cell_type": "code",
   "execution_count": null,
   "outputs": [],
   "source": [
    "koers = pd.Series([ 5, 3, -2 ])\n",
    "koers = koers/100 + 1\n",
    "(np.exp(np.mean(np.log(koers)))-1)*100"
   ],
   "metadata": {
    "collapsed": false
   }
  },
  {
   "cell_type": "code",
   "execution_count": null,
   "outputs": [],
   "source": [
    "(stats.gmean(koers)-1)*100"
   ],
   "metadata": {
    "collapsed": false
   }
  },
  {
   "cell_type": "markdown",
   "source": [
    "harmonisch gemiddelde"
   ],
   "metadata": {
    "collapsed": false
   }
  },
  {
   "cell_type": "code",
   "execution_count": null,
   "outputs": [],
   "source": [
    "snelheid = pd.Series([ 120, 100 ])\n",
    "print(1 / np.mean(1/snelheid))\n",
    "print(stats.hmean(snelheid))"
   ],
   "metadata": {
    "collapsed": false
   }
  },
  {
   "cell_type": "markdown",
   "source": [
    "voortschrijdend gemiddelde: zie later"
   ],
   "metadata": {
    "collapsed": false
   }
  },
  {
   "cell_type": "markdown",
   "source": [
    "## Spreiding"
   ],
   "metadata": {
    "collapsed": false
   }
  },
  {
   "cell_type": "code",
   "execution_count": null,
   "outputs": [],
   "source": [
    "x1 = pd.Series([1, 2, 3, 5, 46, 87, 88, 89, 90])\n",
    "x2 = pd.Series([42, 43, 44, 45, 46, 47, 47, 48, 49])"
   ],
   "metadata": {
    "collapsed": false
   }
  },
  {
   "cell_type": "code",
   "source": [
    "print(x1.mean())\n",
    "print(x2.mean())\n",
    "print(x1.median())\n",
    "print(x2.median())"
   ],
   "metadata": {
    "collapsed": false
   },
   "execution_count": null,
   "outputs": []
  },
  {
   "cell_type": "markdown",
   "source": [
    "# Bereik"
   ],
   "metadata": {
    "collapsed": false
   }
  },
  {
   "cell_type": "code",
   "source": [
    "print(x1.max()-x1.min())\n",
    "print(x2.max()-x2.min())"
   ],
   "metadata": {
    "collapsed": false
   },
   "execution_count": null,
   "outputs": []
  },
  {
   "cell_type": "markdown",
   "source": [
    "## Interkwartielafstand"
   ],
   "metadata": {
    "collapsed": false
   }
  },
  {
   "cell_type": "markdown",
   "source": [
    "'kwartielen': veralgemening van mediaan"
   ],
   "metadata": {
    "collapsed": false
   }
  },
  {
   "cell_type": "code",
   "source": [
    "print(laptops.diskspace.quantile(q=[0.25,0.5,0.75]))"
   ],
   "metadata": {
    "collapsed": false
   },
   "execution_count": null,
   "outputs": []
  },
  {
   "cell_type": "markdown",
   "source": [
    "decielen"
   ],
   "metadata": {
    "collapsed": false
   }
  },
  {
   "cell_type": "code",
   "execution_count": null,
   "outputs": [],
   "source": [
    "print(laptops.diskspace.quantile(q=np.arange(0.1, 1, 0.1).tolist()))"
   ],
   "metadata": {
    "collapsed": false
   }
  },
  {
   "cell_type": "markdown",
   "source": [
    "interkwartielafstand = Q3 - Q1"
   ],
   "metadata": {
    "collapsed": false
   }
  },
  {
   "cell_type": "code",
   "execution_count": null,
   "outputs": [],
   "source": [
    "stats.iqr(laptops.diskspace.dropna())"
   ],
   "metadata": {
    "collapsed": false
   }
  },
  {
   "cell_type": "markdown",
   "source": [
    "Boxplot:"
   ],
   "metadata": {
    "collapsed": false
   }
  },
  {
   "cell_type": "code",
   "execution_count": null,
   "outputs": [],
   "source": [
    "fig, ax = plt.subplots()\n",
    "ax.boxplot(laptops.diskspace.dropna())\n",
    "ax.set_title('Schijfruimte in laptops')\n",
    "ax.set_ylabel('Schijfruimte (in GB)')\n",
    "# fig.show()"
   ],
   "metadata": {
    "collapsed": false
   }
  },
  {
   "cell_type": "markdown",
   "source": [
    "Wat is dat donkere gedeelte bovenaan?"
   ],
   "metadata": {
    "collapsed": false
   }
  },
  {
   "cell_type": "markdown",
   "source": [
    "## Standaardafwijking"
   ],
   "metadata": {
    "collapsed": false
   }
  },
  {
   "cell_type": "code",
   "execution_count": null,
   "outputs": [],
   "source": [
    "x = laptops.diskspace.dropna()\n",
    "verschillen = x - x.mean()\n",
    "verschillen.mean()"
   ],
   "metadata": {
    "collapsed": false
   }
  },
  {
   "cell_type": "code",
   "execution_count": null,
   "outputs": [],
   "source": [
    "verschillen = (x - x.mean()).abs()\n",
    "verschillen.mean()"
   ],
   "metadata": {
    "collapsed": false
   }
  },
  {
   "cell_type": "code",
   "execution_count": null,
   "outputs": [],
   "source": [
    "x.mad() # deprecated..."
   ],
   "metadata": {
    "collapsed": false
   }
  },
  {
   "cell_type": "code",
   "execution_count": null,
   "outputs": [],
   "source": [
    "verschillen = (x - x.mean())**2\n",
    "math.sqrt(verschillen.mean())"
   ],
   "metadata": {
    "collapsed": false
   }
  },
  {
   "cell_type": "code",
   "execution_count": null,
   "outputs": [],
   "source": [
    "x.std() # dit is lichtjes verschillend..."
   ],
   "metadata": {
    "collapsed": false
   }
  },
  {
   "cell_type": "markdown",
   "source": [
    "\"Bessel\" correctie:"
   ],
   "metadata": {
    "collapsed": false
   }
  },
  {
   "cell_type": "code",
   "execution_count": null,
   "outputs": [],
   "source": [
    "n = len(x)\n",
    "verschillen = (x - x.mean())**2\n",
    "math.sqrt(verschillen.mean()*n/(n-1))"
   ],
   "metadata": {
    "collapsed": false
   }
  },
  {
   "cell_type": "markdown",
   "source": [
    "## Uitschieters"
   ],
   "metadata": {
    "collapsed": false
   }
  },
  {
   "cell_type": "markdown",
   "source": [
    "invloed van uitschieters:"
   ],
   "metadata": {
    "collapsed": false
   }
  },
  {
   "cell_type": "code",
   "execution_count": null,
   "outputs": [],
   "source": [
    "x = laptops.RAM.copy()\n",
    "print(x.mean())\n",
    "print(x.std())\n",
    "print(x.median())\n",
    "print(stats.iqr(x.dropna()))"
   ],
   "metadata": {
    "collapsed": false
   }
  },
  {
   "cell_type": "code",
   "execution_count": null,
   "outputs": [],
   "source": [
    "x[42] = 8192\n",
    "print(x.mean())\n",
    "print(x.std())\n",
    "print(x.median())\n",
    "print(stats.iqr(x.dropna()))"
   ],
   "metadata": {
    "collapsed": false
   }
  },
  {
   "cell_type": "markdown",
   "source": [
    "Grenzen voor uitschieters vinden:"
   ],
   "metadata": {
    "collapsed": false
   }
  },
  {
   "cell_type": "code",
   "execution_count": null,
   "outputs": [],
   "source": [
    "def outlier_boundaries(x, factor=1.5):\n",
    "   Q1 = x.quantile(0.25)\n",
    "   Q3 = x.quantile(0.75)\n",
    "   I = Q3 - Q1\n",
    "   return [ Q1 - factor * I, Q3 + factor * I ]"
   ],
   "metadata": {
    "collapsed": false
   }
  },
  {
   "cell_type": "code",
   "execution_count": null,
   "outputs": [],
   "source": [
    "x = laptops.RAM.copy()\n",
    "low, high = outlier_boundaries(x)\n",
    "print(low)\n",
    "print(high)"
   ],
   "metadata": {
    "collapsed": false
   }
  },
  {
   "cell_type": "code",
   "execution_count": null,
   "outputs": [],
   "source": [
    "geen_uitschieters = x[x.between(low, high)]\n",
    "print(geen_uitschieters)"
   ],
   "metadata": {
    "collapsed": false
   }
  },
  {
   "cell_type": "code",
   "execution_count": null,
   "outputs": [],
   "source": [
    "uitschieters = x[~x.between(low, high)]\n",
    "print(uitschieters)"
   ],
   "metadata": {
    "collapsed": false
   }
  },
  {
   "cell_type": "code",
   "execution_count": null,
   "outputs": [],
   "source": [
    "print(list(uitschieters.index)) # rijnummers met uitschieters"
   ],
   "metadata": {
    "collapsed": false
   }
  },
  {
   "cell_type": "markdown",
   "source": [
    "## Z-scores"
   ],
   "metadata": {
    "collapsed": false
   }
  },
  {
   "cell_type": "markdown",
   "source": [
    "Wat gebeurt er met het gemiddelde en standaardafwijking als je:\n",
    "- alle waarden verminderd met 2\n",
    "- alle waarden vermeerderd met 2\n",
    "- alle waarden vermenigvuldigd met 5\n",
    "- alle waarden deelt door 5"
   ],
   "metadata": {
    "collapsed": false
   }
  },
  {
   "cell_type": "code",
   "execution_count": null,
   "outputs": [],
   "source": [
    "# met de hand:\n",
    "x = laptops.diskspace.dropna()\n",
    "s = x.std()\n",
    "z = (x - x.mean())/s\n",
    "print(z.head())"
   ],
   "metadata": {
    "collapsed": false
   }
  },
  {
   "cell_type": "code",
   "execution_count": null,
   "outputs": [],
   "source": [
    "print(z.mean())\n",
    "print(z.std())"
   ],
   "metadata": {
    "collapsed": false
   }
  },
  {
   "cell_type": "code",
   "execution_count": null,
   "outputs": [],
   "source": [
    "z = stats.zscore(laptops.diskspace.dropna(), ddof=1)\n",
    "print(z.head())"
   ],
   "metadata": {
    "collapsed": false
   }
  },
  {
   "cell_type": "code",
   "execution_count": null,
   "outputs": [],
   "source": [
    "print(z.mean())\n",
    "print(z.std())"
   ],
   "metadata": {
    "collapsed": false
   }
  },
  {
   "cell_type": "code",
   "execution_count": null,
   "outputs": [],
   "source": [
    "fig, ax = plt.subplots()\n",
    "ax.boxplot([laptops.diskspace.dropna(), laptops.RAM.dropna()], labels=['schijfruimte', 'RAM'])\n",
    "ax.set_title('Opslagruimte')\n",
    "ax.set_ylabel('in GB')\n",
    "# fig.show()"
   ],
   "metadata": {
    "collapsed": false
   }
  },
  {
   "cell_type": "code",
   "execution_count": null,
   "outputs": [],
   "source": [
    "diskpace_z = stats.zscore(laptops.diskspace.dropna(), ddof=1)\n",
    "ram_z = stats.zscore(laptops.RAM.dropna(), ddof=1)\n",
    "fig, ax = plt.subplots()\n",
    "ax.boxplot([diskpace_z, ram_z], labels=['schijfruimte', 'RAM'])\n",
    "ax.set_title('Opslagruimte')\n",
    "ax.set_ylabel('Z-score')\n",
    "# fig.show()"
   ],
   "metadata": {
    "collapsed": false
   }
  },
  {
   "cell_type": "code",
   "execution_count": null,
   "outputs": [],
   "source": [],
   "metadata": {
    "collapsed": false
   }
  }
 ],
 "metadata": {
  "kernelspec": {
   "display_name": "Python 3",
   "language": "python",
   "name": "python3"
  },
  "language_info": {
   "codemirror_mode": {
    "name": "ipython",
    "version": 2
   },
   "file_extension": ".py",
   "mimetype": "text/x-python",
   "name": "python",
   "nbconvert_exporter": "python",
   "pygments_lexer": "ipython2",
   "version": "2.7.6"
  }
 },
 "nbformat": 4,
 "nbformat_minor": 0
}
