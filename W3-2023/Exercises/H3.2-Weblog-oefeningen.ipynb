{
 "cells": [
  {
   "cell_type": "markdown",
   "metadata": {
    "id": "XX7WxJhL50UM"
   },
   "source": [
    "# Oefeningen Weblog\n",
    "\n",
    "We willen analyses kunnen uitvoeren op de logs van een webserver (\"UofS_access_log.small\"). Om dit te kunnen doen, moet je de relevante gegevens in een dataframe krijgen. Dit moet een automatisch proces zijn zodat ook andere logfiles ingeladen kan worden.\n",
    "\n",
    "Volgende zaken dienen te gebeuren. Het originele dataframe moet herwerkt worden zodat enkel deze kolommen overblijven:\n",
    "\n",
    "- domain: bevat de adressen van de clients die een request stuurden\n",
    "- timestamp: is een datetime veld (POSIXct) dat het tijdstip van de request weergeeft\n",
    "- resource: toont de resource die werd opgevraagd\n",
    "- repsponse_code: geeft de HTTP response code die werd terug gegeven door de server\n",
    "- response_length: geeft de lengte aan van de HTTP response\n",
    "\n",
    "We gaan dit stap voor stap opbouwen."
   ]
  },
  {
   "cell_type": "markdown",
   "source": [
    "Importeer hier alle nodige bibliotheken:"
   ],
   "metadata": {
    "collapsed": false
   }
  },
  {
   "cell_type": "code",
   "execution_count": 1,
   "outputs": [],
   "source": [
    "import numpy as np\n",
    "import pandas as pd\n",
    "import math"
   ],
   "metadata": {
    "collapsed": false
   }
  },
  {
   "cell_type": "markdown",
   "metadata": {
    "id": "DiLdG3sF50U3"
   },
   "source": [
    "### Inlezen van de gegevens\n",
    "Lees het dataframe in.  Kijk zelf na wat de seperator is.  Foutieve rijen mag je skippen.  Er is geen header! Het bestand gebruikt de \"latin\" encodering voor karakters."
   ]
  },
  {
   "cell_type": "code",
   "execution_count": 2,
   "metadata": {},
   "outputs": [
    {
     "data": {
      "text/plain": "                             0  1  2                      3       4  \\\n0          cad49.cadvision.com  -  -  [01/Jun/1995:00:53:19  -0600]   \n1                130.89.250.24  -  -  [01/Jun/1995:02:45:12  -0600]   \n2                130.54.25.198  -  -  [01/Jun/1995:03:29:56  -0600]   \n3                 148.81.17.41  -  -  [01/Jun/1995:04:02:17  -0600]   \n4  anumsun6.univ-st-etienne.fr  -  -  [01/Jun/1995:04:40:30  -0600]   \n\n                                               5    6     7  \n0        GET /~lowey/webville/icons/blank_32.gif  200   167  \n1        GET /~lowey/webville/icons/south_32.gif  200   210  \n2  GET /~macphed/finite/fe_resources/node92.html  200  1668  \n3           GET /~friesend/tolkien/rootpage.html  200   461  \n4  GET /~macphed/finite/fe_resources/node58.html  200  1707  ",
      "text/html": "<div>\n<style scoped>\n    .dataframe tbody tr th:only-of-type {\n        vertical-align: middle;\n    }\n\n    .dataframe tbody tr th {\n        vertical-align: top;\n    }\n\n    .dataframe thead th {\n        text-align: right;\n    }\n</style>\n<table border=\"1\" class=\"dataframe\">\n  <thead>\n    <tr style=\"text-align: right;\">\n      <th></th>\n      <th>0</th>\n      <th>1</th>\n      <th>2</th>\n      <th>3</th>\n      <th>4</th>\n      <th>5</th>\n      <th>6</th>\n      <th>7</th>\n    </tr>\n  </thead>\n  <tbody>\n    <tr>\n      <th>0</th>\n      <td>cad49.cadvision.com</td>\n      <td>-</td>\n      <td>-</td>\n      <td>[01/Jun/1995:00:53:19</td>\n      <td>-0600]</td>\n      <td>GET /~lowey/webville/icons/blank_32.gif</td>\n      <td>200</td>\n      <td>167</td>\n    </tr>\n    <tr>\n      <th>1</th>\n      <td>130.89.250.24</td>\n      <td>-</td>\n      <td>-</td>\n      <td>[01/Jun/1995:02:45:12</td>\n      <td>-0600]</td>\n      <td>GET /~lowey/webville/icons/south_32.gif</td>\n      <td>200</td>\n      <td>210</td>\n    </tr>\n    <tr>\n      <th>2</th>\n      <td>130.54.25.198</td>\n      <td>-</td>\n      <td>-</td>\n      <td>[01/Jun/1995:03:29:56</td>\n      <td>-0600]</td>\n      <td>GET /~macphed/finite/fe_resources/node92.html</td>\n      <td>200</td>\n      <td>1668</td>\n    </tr>\n    <tr>\n      <th>3</th>\n      <td>148.81.17.41</td>\n      <td>-</td>\n      <td>-</td>\n      <td>[01/Jun/1995:04:02:17</td>\n      <td>-0600]</td>\n      <td>GET /~friesend/tolkien/rootpage.html</td>\n      <td>200</td>\n      <td>461</td>\n    </tr>\n    <tr>\n      <th>4</th>\n      <td>anumsun6.univ-st-etienne.fr</td>\n      <td>-</td>\n      <td>-</td>\n      <td>[01/Jun/1995:04:40:30</td>\n      <td>-0600]</td>\n      <td>GET /~macphed/finite/fe_resources/node58.html</td>\n      <td>200</td>\n      <td>1707</td>\n    </tr>\n  </tbody>\n</table>\n</div>"
     },
     "execution_count": 2,
     "metadata": {},
     "output_type": "execute_result"
    }
   ],
   "source": [
    "log = pd.read_csv(\"./data/UofS_access_log.small\", sep=\" \", on_bad_lines=\"skip\", encoding=\"latin\", header=None)\n",
    "log.head()"
   ]
  },
  {
   "cell_type": "markdown",
   "source": [
    "Hoeveel lijnen staan er in dit data frame?"
   ],
   "metadata": {
    "collapsed": false
   }
  },
  {
   "cell_type": "code",
   "execution_count": 3,
   "outputs": [
    {
     "data": {
      "text/plain": "48171"
     },
     "execution_count": 3,
     "metadata": {},
     "output_type": "execute_result"
    }
   ],
   "source": [
    "len(log)"
   ],
   "metadata": {
    "collapsed": false
   }
  },
  {
   "cell_type": "markdown",
   "source": [
    "Kopieer alle waarden uit de eerste kolom in een variabele \"domain\".\n",
    "Kopieer alle waarden uit de zevende kolom in een variabele \"response_code\"\n",
    "Kopieer alle waarden uit de achtste kolom in een variabele \"response_length\""
   ],
   "metadata": {
    "collapsed": false
   }
  },
  {
   "cell_type": "code",
   "execution_count": 4,
   "outputs": [],
   "source": [
    "domain = log[0]\n",
    "response_code = log[6]\n",
    "response_length = log[7]"
   ],
   "metadata": {
    "collapsed": false
   }
  },
  {
   "cell_type": "markdown",
   "source": [
    "Kijk na of de datatypes van \"domain\", \"response_code\" en \"response_length\" juist zijn.  We verwachten respectievelijk: strings, getallen en getallen.  Converteer de variabelen indien nodig.  Als er ongeldige waarden zijn, zouden deze omgezet moeten worden naar NaN."
   ],
   "metadata": {
    "collapsed": false
   }
  },
  {
   "cell_type": "code",
   "execution_count": 5,
   "outputs": [
    {
     "name": "stdout",
     "output_type": "stream",
     "text": [
      "<class 'str'> <class 'numpy.int64'> <class 'numpy.float64'>\n"
     ]
    }
   ],
   "source": [
    "response_length = pd.to_numeric(response_length, errors=\"coerce\")\n",
    "print(type(domain[0]), type(response_code[0]), type(response_length[0]))"
   ],
   "metadata": {
    "collapsed": false
   }
  },
  {
   "cell_type": "markdown",
   "source": [
    "Hoeveel NaN waarden zitten er in response_length?"
   ],
   "metadata": {
    "collapsed": false
   }
  },
  {
   "cell_type": "code",
   "execution_count": 6,
   "outputs": [
    {
     "name": "stdout",
     "output_type": "stream",
     "text": [
      "897\n"
     ]
    }
   ],
   "source": [
    "quantity = response_length.isna().sum()\n",
    "print(quantity)"
   ],
   "metadata": {
    "collapsed": false
   }
  },
  {
   "cell_type": "markdown",
   "source": [
    "Hoeveel procent is dat van alle rijen?"
   ],
   "metadata": {
    "collapsed": false
   }
  },
  {
   "cell_type": "code",
   "execution_count": 7,
   "outputs": [
    {
     "name": "stdout",
     "output_type": "stream",
     "text": [
      "1.86 %\n"
     ]
    }
   ],
   "source": [
    "print(((quantity / len(log.index)) * 100).round(2), \"%\")"
   ],
   "metadata": {
    "collapsed": false
   }
  },
  {
   "cell_type": "markdown",
   "source": [
    "De timestamp staat verspreid in kolommen 3 (datum en uur) en 4 (timezone). Voeg deze samen tot één string.  Plaats het resultaat in een variabele \"timestamp\"."
   ],
   "metadata": {
    "collapsed": false
   }
  },
  {
   "cell_type": "code",
   "execution_count": 8,
   "outputs": [
    {
     "data": {
      "text/plain": "0    [01/Jun/1995:00:53:19-0600]\n1    [01/Jun/1995:02:45:12-0600]\n2    [01/Jun/1995:03:29:56-0600]\n3    [01/Jun/1995:04:02:17-0600]\n4    [01/Jun/1995:04:40:30-0600]\ndtype: object"
     },
     "execution_count": 8,
     "metadata": {},
     "output_type": "execute_result"
    }
   ],
   "source": [
    "timestamp = log[3] + log[4]\n",
    "timestamp.head()"
   ],
   "metadata": {
    "collapsed": false
   }
  },
  {
   "cell_type": "markdown",
   "source": [
    "\n",
    "Maak een variabele \"resource\" die alle resources bevat (in de 6e kolom).  Verwijder de 'GET' en 'HTTP/1.0' die soms in het begin en op het einde staan."
   ],
   "metadata": {
    "collapsed": false
   }
  },
  {
   "cell_type": "code",
   "execution_count": 15,
   "metadata": {},
   "outputs": [
    {
     "data": {
      "text/plain": "0              /~lowey/webville/icons/blank_32.gif\n1              /~lowey/webville/icons/south_32.gif\n2        /~macphed/finite/fe_resources/node92.html\n3                 /~friesend/tolkien/rootpage.html\n4        /~macphed/finite/fe_resources/node58.html\n                           ...                    \n48166                     /images/comments_50.gif \n48167                                           / \n48168                    /~ladd/virginia_pisu.html\n48169                         /mlookup/white.html \n48170                         /~scottp/calgary.txt\nName: 5, Length: 48171, dtype: object"
     },
     "execution_count": 15,
     "metadata": {},
     "output_type": "execute_result"
    }
   ],
   "source": [
    "resource = log[5].str.replace(\"GET \", \"\", regex=False).str.replace(\"HTTP/1.0\", \"\", regex=False)\n",
    "resource"
   ]
  },
  {
   "cell_type": "markdown",
   "source": [
    "Maak nu een dataframe met naam \"log\" waarin de kolommen \"domain\", \"timestamp\", \"resource\", \"response_code\" en \"response_length\" staan.  De waarden kan je uit de gemaakte variabelen halen."
   ],
   "metadata": {
    "collapsed": false
   }
  },
  {
   "cell_type": "code",
   "execution_count": 18,
   "outputs": [
    {
     "data": {
      "text/plain": "                            domain                    timestamp  \\\n0              cad49.cadvision.com  [01/Jun/1995:00:53:19-0600]   \n1                    130.89.250.24  [01/Jun/1995:02:45:12-0600]   \n2                    130.54.25.198  [01/Jun/1995:03:29:56-0600]   \n3                     148.81.17.41  [01/Jun/1995:04:02:17-0600]   \n4      anumsun6.univ-st-etienne.fr  [01/Jun/1995:04:40:30-0600]   \n...                            ...                          ...   \n48166                duke.usask.ca  [31/Dec/1995:23:07:50-0600]   \n48167                sask.usask.ca  [31/Dec/1995:23:16:16-0600]   \n48168                  144.92.13.6  [31/Dec/1995:23:25:53-0600]   \n48169            ccc055.canuck.com  [31/Dec/1995:23:32:35-0600]   \n48170      double-tree.ericsson.se  [31/Dec/1995:23:44:25-0600]   \n\n                                        resource  response_code  \\\n0            /~lowey/webville/icons/blank_32.gif            200   \n1            /~lowey/webville/icons/south_32.gif            200   \n2      /~macphed/finite/fe_resources/node92.html            200   \n3               /~friesend/tolkien/rootpage.html            200   \n4      /~macphed/finite/fe_resources/node58.html            200   \n...                                          ...            ...   \n48166                   /images/comments_50.gif             200   \n48167                                         /             200   \n48168                  /~ladd/virginia_pisu.html            200   \n48169                       /mlookup/white.html             200   \n48170                       /~scottp/calgary.txt            200   \n\n       response_length  \n0                167.0  \n1                210.0  \n2               1668.0  \n3                461.0  \n4               1707.0  \n...                ...  \n48166            388.0  \n48167           3856.0  \n48168            915.0  \n48169            728.0  \n48170          24744.0  \n\n[48171 rows x 5 columns]",
      "text/html": "<div>\n<style scoped>\n    .dataframe tbody tr th:only-of-type {\n        vertical-align: middle;\n    }\n\n    .dataframe tbody tr th {\n        vertical-align: top;\n    }\n\n    .dataframe thead th {\n        text-align: right;\n    }\n</style>\n<table border=\"1\" class=\"dataframe\">\n  <thead>\n    <tr style=\"text-align: right;\">\n      <th></th>\n      <th>domain</th>\n      <th>timestamp</th>\n      <th>resource</th>\n      <th>response_code</th>\n      <th>response_length</th>\n    </tr>\n  </thead>\n  <tbody>\n    <tr>\n      <th>0</th>\n      <td>cad49.cadvision.com</td>\n      <td>[01/Jun/1995:00:53:19-0600]</td>\n      <td>/~lowey/webville/icons/blank_32.gif</td>\n      <td>200</td>\n      <td>167.0</td>\n    </tr>\n    <tr>\n      <th>1</th>\n      <td>130.89.250.24</td>\n      <td>[01/Jun/1995:02:45:12-0600]</td>\n      <td>/~lowey/webville/icons/south_32.gif</td>\n      <td>200</td>\n      <td>210.0</td>\n    </tr>\n    <tr>\n      <th>2</th>\n      <td>130.54.25.198</td>\n      <td>[01/Jun/1995:03:29:56-0600]</td>\n      <td>/~macphed/finite/fe_resources/node92.html</td>\n      <td>200</td>\n      <td>1668.0</td>\n    </tr>\n    <tr>\n      <th>3</th>\n      <td>148.81.17.41</td>\n      <td>[01/Jun/1995:04:02:17-0600]</td>\n      <td>/~friesend/tolkien/rootpage.html</td>\n      <td>200</td>\n      <td>461.0</td>\n    </tr>\n    <tr>\n      <th>4</th>\n      <td>anumsun6.univ-st-etienne.fr</td>\n      <td>[01/Jun/1995:04:40:30-0600]</td>\n      <td>/~macphed/finite/fe_resources/node58.html</td>\n      <td>200</td>\n      <td>1707.0</td>\n    </tr>\n    <tr>\n      <th>...</th>\n      <td>...</td>\n      <td>...</td>\n      <td>...</td>\n      <td>...</td>\n      <td>...</td>\n    </tr>\n    <tr>\n      <th>48166</th>\n      <td>duke.usask.ca</td>\n      <td>[31/Dec/1995:23:07:50-0600]</td>\n      <td>/images/comments_50.gif</td>\n      <td>200</td>\n      <td>388.0</td>\n    </tr>\n    <tr>\n      <th>48167</th>\n      <td>sask.usask.ca</td>\n      <td>[31/Dec/1995:23:16:16-0600]</td>\n      <td>/</td>\n      <td>200</td>\n      <td>3856.0</td>\n    </tr>\n    <tr>\n      <th>48168</th>\n      <td>144.92.13.6</td>\n      <td>[31/Dec/1995:23:25:53-0600]</td>\n      <td>/~ladd/virginia_pisu.html</td>\n      <td>200</td>\n      <td>915.0</td>\n    </tr>\n    <tr>\n      <th>48169</th>\n      <td>ccc055.canuck.com</td>\n      <td>[31/Dec/1995:23:32:35-0600]</td>\n      <td>/mlookup/white.html</td>\n      <td>200</td>\n      <td>728.0</td>\n    </tr>\n    <tr>\n      <th>48170</th>\n      <td>double-tree.ericsson.se</td>\n      <td>[31/Dec/1995:23:44:25-0600]</td>\n      <td>/~scottp/calgary.txt</td>\n      <td>200</td>\n      <td>24744.0</td>\n    </tr>\n  </tbody>\n</table>\n<p>48171 rows × 5 columns</p>\n</div>"
     },
     "execution_count": 18,
     "metadata": {},
     "output_type": "execute_result"
    }
   ],
   "source": [
    "log = pd.DataFrame({\"domain\" : domain, \"timestamp\" : timestamp, \"resource\" : resource, \"response_code\" : response_code, \"response_length\" : response_length})\n",
    "log"
   ],
   "metadata": {
    "collapsed": false
   }
  },
  {
   "cell_type": "markdown",
   "source": [
    "Verwijder nu alle rijen uit je dataframe waar een ontbrekende waarde in voorkomt."
   ],
   "metadata": {
    "collapsed": false
   }
  },
  {
   "cell_type": "code",
   "execution_count": 19,
   "outputs": [
    {
     "data": {
      "text/plain": "                            domain                    timestamp  \\\n0              cad49.cadvision.com  [01/Jun/1995:00:53:19-0600]   \n1                    130.89.250.24  [01/Jun/1995:02:45:12-0600]   \n2                    130.54.25.198  [01/Jun/1995:03:29:56-0600]   \n3                     148.81.17.41  [01/Jun/1995:04:02:17-0600]   \n4      anumsun6.univ-st-etienne.fr  [01/Jun/1995:04:40:30-0600]   \n...                            ...                          ...   \n48166                duke.usask.ca  [31/Dec/1995:23:07:50-0600]   \n48167                sask.usask.ca  [31/Dec/1995:23:16:16-0600]   \n48168                  144.92.13.6  [31/Dec/1995:23:25:53-0600]   \n48169            ccc055.canuck.com  [31/Dec/1995:23:32:35-0600]   \n48170      double-tree.ericsson.se  [31/Dec/1995:23:44:25-0600]   \n\n                                        resource  response_code  \\\n0            /~lowey/webville/icons/blank_32.gif            200   \n1            /~lowey/webville/icons/south_32.gif            200   \n2      /~macphed/finite/fe_resources/node92.html            200   \n3               /~friesend/tolkien/rootpage.html            200   \n4      /~macphed/finite/fe_resources/node58.html            200   \n...                                          ...            ...   \n48166                   /images/comments_50.gif             200   \n48167                                         /             200   \n48168                  /~ladd/virginia_pisu.html            200   \n48169                       /mlookup/white.html             200   \n48170                       /~scottp/calgary.txt            200   \n\n       response_length  \n0                167.0  \n1                210.0  \n2               1668.0  \n3                461.0  \n4               1707.0  \n...                ...  \n48166            388.0  \n48167           3856.0  \n48168            915.0  \n48169            728.0  \n48170          24744.0  \n\n[47274 rows x 5 columns]",
      "text/html": "<div>\n<style scoped>\n    .dataframe tbody tr th:only-of-type {\n        vertical-align: middle;\n    }\n\n    .dataframe tbody tr th {\n        vertical-align: top;\n    }\n\n    .dataframe thead th {\n        text-align: right;\n    }\n</style>\n<table border=\"1\" class=\"dataframe\">\n  <thead>\n    <tr style=\"text-align: right;\">\n      <th></th>\n      <th>domain</th>\n      <th>timestamp</th>\n      <th>resource</th>\n      <th>response_code</th>\n      <th>response_length</th>\n    </tr>\n  </thead>\n  <tbody>\n    <tr>\n      <th>0</th>\n      <td>cad49.cadvision.com</td>\n      <td>[01/Jun/1995:00:53:19-0600]</td>\n      <td>/~lowey/webville/icons/blank_32.gif</td>\n      <td>200</td>\n      <td>167.0</td>\n    </tr>\n    <tr>\n      <th>1</th>\n      <td>130.89.250.24</td>\n      <td>[01/Jun/1995:02:45:12-0600]</td>\n      <td>/~lowey/webville/icons/south_32.gif</td>\n      <td>200</td>\n      <td>210.0</td>\n    </tr>\n    <tr>\n      <th>2</th>\n      <td>130.54.25.198</td>\n      <td>[01/Jun/1995:03:29:56-0600]</td>\n      <td>/~macphed/finite/fe_resources/node92.html</td>\n      <td>200</td>\n      <td>1668.0</td>\n    </tr>\n    <tr>\n      <th>3</th>\n      <td>148.81.17.41</td>\n      <td>[01/Jun/1995:04:02:17-0600]</td>\n      <td>/~friesend/tolkien/rootpage.html</td>\n      <td>200</td>\n      <td>461.0</td>\n    </tr>\n    <tr>\n      <th>4</th>\n      <td>anumsun6.univ-st-etienne.fr</td>\n      <td>[01/Jun/1995:04:40:30-0600]</td>\n      <td>/~macphed/finite/fe_resources/node58.html</td>\n      <td>200</td>\n      <td>1707.0</td>\n    </tr>\n    <tr>\n      <th>...</th>\n      <td>...</td>\n      <td>...</td>\n      <td>...</td>\n      <td>...</td>\n      <td>...</td>\n    </tr>\n    <tr>\n      <th>48166</th>\n      <td>duke.usask.ca</td>\n      <td>[31/Dec/1995:23:07:50-0600]</td>\n      <td>/images/comments_50.gif</td>\n      <td>200</td>\n      <td>388.0</td>\n    </tr>\n    <tr>\n      <th>48167</th>\n      <td>sask.usask.ca</td>\n      <td>[31/Dec/1995:23:16:16-0600]</td>\n      <td>/</td>\n      <td>200</td>\n      <td>3856.0</td>\n    </tr>\n    <tr>\n      <th>48168</th>\n      <td>144.92.13.6</td>\n      <td>[31/Dec/1995:23:25:53-0600]</td>\n      <td>/~ladd/virginia_pisu.html</td>\n      <td>200</td>\n      <td>915.0</td>\n    </tr>\n    <tr>\n      <th>48169</th>\n      <td>ccc055.canuck.com</td>\n      <td>[31/Dec/1995:23:32:35-0600]</td>\n      <td>/mlookup/white.html</td>\n      <td>200</td>\n      <td>728.0</td>\n    </tr>\n    <tr>\n      <th>48170</th>\n      <td>double-tree.ericsson.se</td>\n      <td>[31/Dec/1995:23:44:25-0600]</td>\n      <td>/~scottp/calgary.txt</td>\n      <td>200</td>\n      <td>24744.0</td>\n    </tr>\n  </tbody>\n</table>\n<p>47274 rows × 5 columns</p>\n</div>"
     },
     "execution_count": 19,
     "metadata": {},
     "output_type": "execute_result"
    }
   ],
   "source": [
    "log.dropna(axis=\"rows\", inplace=True)"
   ],
   "metadata": {
    "collapsed": false
   }
  },
  {
   "cell_type": "markdown",
   "source": [
    "Zoek de rij(en) met de grootste response_length:"
   ],
   "metadata": {
    "collapsed": false
   }
  },
  {
   "cell_type": "code",
   "execution_count": 22,
   "outputs": [
    {
     "data": {
      "text/plain": "                domain                    timestamp  \\\n36664  rocky1.usask.ca  [20/Nov/1995:11:00:59-0600]   \n\n                          resource  response_code  response_length  \n36664  /~reevesm/sounds/sultans.au            200        2790949.0  ",
      "text/html": "<div>\n<style scoped>\n    .dataframe tbody tr th:only-of-type {\n        vertical-align: middle;\n    }\n\n    .dataframe tbody tr th {\n        vertical-align: top;\n    }\n\n    .dataframe thead th {\n        text-align: right;\n    }\n</style>\n<table border=\"1\" class=\"dataframe\">\n  <thead>\n    <tr style=\"text-align: right;\">\n      <th></th>\n      <th>domain</th>\n      <th>timestamp</th>\n      <th>resource</th>\n      <th>response_code</th>\n      <th>response_length</th>\n    </tr>\n  </thead>\n  <tbody>\n    <tr>\n      <th>36664</th>\n      <td>rocky1.usask.ca</td>\n      <td>[20/Nov/1995:11:00:59-0600]</td>\n      <td>/~reevesm/sounds/sultans.au</td>\n      <td>200</td>\n      <td>2790949.0</td>\n    </tr>\n  </tbody>\n</table>\n</div>"
     },
     "execution_count": 22,
     "metadata": {},
     "output_type": "execute_result"
    }
   ],
   "source": [
    "rows = log.response_length == log.response_length.max()\n",
    "log.loc[rows]"
   ],
   "metadata": {
    "collapsed": false
   }
  },
  {
   "cell_type": "markdown",
   "source": [
    "Bewaar het resultaat in een CSV-bestand \"log_resultaat.csv\".  Gebruik ',' als separator en \".\" voor decimale getallen."
   ],
   "metadata": {
    "collapsed": false
   }
  },
  {
   "cell_type": "code",
   "execution_count": 23,
   "outputs": [],
   "source": [
    "log.to_csv(\"./data/log_resultaat.csv\", sep=\",\", decimal=\".\", index=False)"
   ],
   "metadata": {
    "collapsed": false
   }
  },
  {
   "cell_type": "markdown",
   "source": [
    "Probeer het bestand in een spreadsheet te importeren."
   ],
   "metadata": {
    "collapsed": false
   }
  }
 ],
 "metadata": {
  "colab": {
   "name": "Opgaveboek - weblog - oplossingen.ipynb",
   "provenance": []
  },
  "kernelspec": {
   "display_name": "Python 3",
   "language": "python",
   "name": "python3"
  },
  "language_info": {
   "codemirror_mode": {
    "name": "ipython",
    "version": 3
   },
   "file_extension": ".py",
   "mimetype": "text/x-python",
   "name": "python",
   "nbconvert_exporter": "python",
   "pygments_lexer": "ipython3",
   "version": "3.8.7-final"
  }
 },
 "nbformat": 4,
 "nbformat_minor": 0
}
