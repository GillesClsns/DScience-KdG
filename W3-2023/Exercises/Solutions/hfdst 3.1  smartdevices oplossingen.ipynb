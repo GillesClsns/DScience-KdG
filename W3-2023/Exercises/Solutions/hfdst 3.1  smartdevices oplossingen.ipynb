{
 "cells": [
  {
   "cell_type": "markdown",
   "metadata": {
    "collapsed": true
   },
   "source": [
    "# Oplossingen Smart Devices\n",
    "\n",
    "De buurman heeft in zijn huis een aantal sensoren geplaatst. De sensoren meten het verbruik van bepaalde toestellen en ook de temperatuur.  De gegevens worden in een logbestand bewaard. In het bestand “smartDevices.csv” zie je de data van een aantal dagen staan. De buur heeft aan jou gevraagd om een script te schrijven waarmee hij maandelijks een nieuwe CSV kan aanmaken die een aantal gegevens op dagbasis wegschrijft. Om dit te doen moet je gegevens groeperen per dag.\n",
    "\n",
    "Hij wil volgende zaken in het bestand zien staan:\n",
    "- Datum\n",
    "- Totaal verbruik in kWh voor die dag (enkel gegevens waarvan de eenheid kWh is)\n",
    "- Gemiddelde temperatuur in de woonkamer (enkel metingen voor WOONKAMER)"
   ]
  },
  {
   "cell_type": "markdown",
   "source": [
    "Importeer hier alle nodige bibliotheken:"
   ],
   "metadata": {
    "collapsed": false
   }
  },
  {
   "cell_type": "code",
   "execution_count": 14,
   "metadata": {},
   "outputs": [],
   "source": [
    "# hier komt jouw code\n",
    "import pandas as pd\n",
    "import numpy as np"
   ]
  },
  {
   "cell_type": "markdown",
   "metadata": {
    "collapsed": false
   },
   "source": [
    "### Inlezen van de gegevens\n",
    "Lees de dataset in.  Het CSV-bestand begint met enkele informatieregels, die moet je overslaan.\n",
    "Je zal zien dat kommagetallen met een ',' geschreven zijn.  Lees dit juist in.\n",
    "\n",
    "Bekijk de kolommen en hun datatypes."
   ]
  },
  {
   "cell_type": "code",
   "execution_count": 15,
   "metadata": {},
   "outputs": [
    {
     "name": "stdout",
     "output_type": "stream",
     "text": [
      "<class 'pandas.core.frame.DataFrame'>\n",
      "RangeIndex: 11182 entries, 0 to 11181\n",
      "Data columns (total 20 columns):\n",
      " #   Column                 Non-Null Count  Dtype  \n",
      "---  ------                 --------------  -----  \n",
      " 0   Login Naam             11182 non-null  object \n",
      " 1   Gateway Mac Address    11182 non-null  int64  \n",
      " 2   Apparaat-ID            11182 non-null  object \n",
      " 3   Apparaat               11182 non-null  object \n",
      " 4   Datum                  11182 non-null  object \n",
      " 5   Uur                    11182 non-null  object \n",
      " 6   Meetwaarde             11182 non-null  float64\n",
      " 7   Eenheid                11182 non-null  object \n",
      " 8   Kost (EUR)             11182 non-null  float64\n",
      " 9   CO2 (kg)               11182 non-null  float64\n",
      " 10  Meettype               11182 non-null  object \n",
      " 11  Consument / Producent  2304 non-null   object \n",
      " 12  Hoofd / deelmeter      2304 non-null   object \n",
      " 13  Type apparaat          2304 non-null   object \n",
      " 14  Kamer                  11182 non-null  object \n",
      " 15  Groep-Ids              0 non-null      float64\n",
      " 16  Groepen                0 non-null      float64\n",
      " 17  Unnamed: 17            0 non-null      float64\n",
      " 18  Unnamed: 18            0 non-null      float64\n",
      " 19  Unnamed: 19            0 non-null      float64\n",
      "dtypes: float64(8), int64(1), object(11)\n",
      "memory usage: 1.7+ MB\n",
      "None\n"
     ]
    }
   ],
   "source": [
    "# hier komt jouw code\n",
    "smart = pd.read_csv(\"../data/smartDevices.csv\", sep=\";\", header=0, skiprows=4, decimal=',')\n",
    "print(smart.info())"
   ]
  },
  {
   "cell_type": "markdown",
   "source": [
    "Er zijn 3 kolommen zonder naam (unnamed).  Verwijder deze"
   ],
   "metadata": {
    "collapsed": false
   }
  },
  {
   "cell_type": "code",
   "execution_count": 16,
   "outputs": [
    {
     "name": "stdout",
     "output_type": "stream",
     "text": [
      "<class 'pandas.core.frame.DataFrame'>\n",
      "RangeIndex: 11182 entries, 0 to 11181\n",
      "Data columns (total 17 columns):\n",
      " #   Column                 Non-Null Count  Dtype  \n",
      "---  ------                 --------------  -----  \n",
      " 0   Login Naam             11182 non-null  object \n",
      " 1   Gateway Mac Address    11182 non-null  int64  \n",
      " 2   Apparaat-ID            11182 non-null  object \n",
      " 3   Apparaat               11182 non-null  object \n",
      " 4   Datum                  11182 non-null  object \n",
      " 5   Uur                    11182 non-null  object \n",
      " 6   Meetwaarde             11182 non-null  float64\n",
      " 7   Eenheid                11182 non-null  object \n",
      " 8   Kost (EUR)             11182 non-null  float64\n",
      " 9   CO2 (kg)               11182 non-null  float64\n",
      " 10  Meettype               11182 non-null  object \n",
      " 11  Consument / Producent  2304 non-null   object \n",
      " 12  Hoofd / deelmeter      2304 non-null   object \n",
      " 13  Type apparaat          2304 non-null   object \n",
      " 14  Kamer                  11182 non-null  object \n",
      " 15  Groep-Ids              0 non-null      float64\n",
      " 16  Groepen                0 non-null      float64\n",
      "dtypes: float64(5), int64(1), object(11)\n",
      "memory usage: 1.5+ MB\n"
     ]
    }
   ],
   "source": [
    "# hier komt jouw code\n",
    "smart.drop(columns=['Unnamed: 17', 'Unnamed: 18', 'Unnamed: 19'], inplace=True)\n",
    "smart.info()"
   ],
   "metadata": {
    "collapsed": false
   }
  },
  {
   "cell_type": "markdown",
   "metadata": {},
   "source": [
    "### Numeriek maken\n",
    "Wat is het type van de elementen in de kolom \"Meetwaarde\"?\n",
    "Als dit float is, dan is alles OK en heb je het bestand juist ingelezen.\n",
    "Als dat niet het geval is, heb je een fout gemaakt bij het inlezen van het bestand.  Kan je zien welke?\n",
    "Zet in dit geval de kolom \"Meetwaarde\" om naar decimale waarden."
   ]
  },
  {
   "cell_type": "code",
   "execution_count": 17,
   "metadata": {},
   "outputs": [
    {
     "name": "stdout",
     "output_type": "stream",
     "text": [
      "<class 'pandas.core.frame.DataFrame'>\n",
      "RangeIndex: 11182 entries, 0 to 11181\n",
      "Data columns (total 17 columns):\n",
      " #   Column                 Non-Null Count  Dtype  \n",
      "---  ------                 --------------  -----  \n",
      " 0   Login Naam             11182 non-null  object \n",
      " 1   Gateway Mac Address    11182 non-null  int64  \n",
      " 2   Apparaat-ID            11182 non-null  object \n",
      " 3   Apparaat               11182 non-null  object \n",
      " 4   Datum                  11182 non-null  object \n",
      " 5   Uur                    11182 non-null  object \n",
      " 6   Meetwaarde             11182 non-null  float64\n",
      " 7   Eenheid                11182 non-null  object \n",
      " 8   Kost (EUR)             11182 non-null  float64\n",
      " 9   CO2 (kg)               11182 non-null  float64\n",
      " 10  Meettype               11182 non-null  object \n",
      " 11  Consument / Producent  2304 non-null   object \n",
      " 12  Hoofd / deelmeter      2304 non-null   object \n",
      " 13  Type apparaat          2304 non-null   object \n",
      " 14  Kamer                  11182 non-null  object \n",
      " 15  Groep-Ids              0 non-null      float64\n",
      " 16  Groepen                0 non-null      float64\n",
      "dtypes: float64(5), int64(1), object(11)\n",
      "memory usage: 1.5+ MB\n",
      "None\n",
      "0.0002\n"
     ]
    }
   ],
   "source": [
    "# hier komt jouw code\n",
    "# het type is \"object\" (eigenlijk zijn het strings, dat kan je zien als je het eerste element afdrukt)\n",
    "print(smart.info())\n",
    "print(smart.Meetwaarde[0])\n",
    "# dit komt omdat er ',' gebruikt werd om kommagetallen te noteren.  Bij het inlezen kan je de optie 'decimal' gebruiken om dit juist te zetten.  Je kan de data echter ook op dit moment als volgt omzetten:\n",
    "# smart.Meetwaarde = smart.Meetwaarde.str.replace(',', '.', regex=False)\n",
    "# smart.Meetwaarde = pd.to_numeric(smart.Meetwaarde, errors='coerce')\n",
    "# print(smart.info())"
   ]
  },
  {
   "cell_type": "markdown",
   "source": [
    "### Categorical"
   ],
   "metadata": {
    "collapsed": false
   }
  },
  {
   "cell_type": "markdown",
   "source": [
    "Verwijder alle kolommen die maar 1 waarde of enkel ontbrekende waarden bevatten.  Deze zijn toch maar constanten en hoeven niet bijgehouden te worden."
   ],
   "metadata": {
    "collapsed": false
   }
  },
  {
   "cell_type": "code",
   "execution_count": 22,
   "outputs": [
    {
     "name": "stdout",
     "output_type": "stream",
     "text": [
      "kolom  Apparaat-ID :  ['5653a456', '7637edb8', '25847ba7', 'TM01:1578898', 'TM02:0187924', ..., 'TM08:128196', 'TM09:1887325', 'TM10:1337398', 'TM11:8798456', 'TM12:1543687']\n",
      "Length: 15\n",
      "Categories (15, object): ['25847ba7', '5653a456', '7637edb8', 'TM01:1578898', ..., 'TM09:1887325', 'TM10:1337398', 'TM11:8798456', 'TM12:1543687']\n",
      "kolom  Apparaat :  ['wasmachine', 'koelkast', 'microgolf', 'SLAAPKAMER2', 'BADKAMER', 'KEUKEN', 'WOONKAMER', 'SLAAPKAMER1', 'SLAAPKAMER']\n",
      "Categories (9, object): ['BADKAMER', 'KEUKEN', 'SLAAPKAMER', 'SLAAPKAMER1', ..., 'WOONKAMER', 'koelkast', 'microgolf', 'wasmachine']\n",
      "kolom  Datum :  ['2018-01-21' '2018-01-22' '2018-01-23' '2018-01-24' '2018-01-25'\n",
      " '2018-01-26' '2018-01-27' '2018-01-28']\n",
      "kolom  Uur :  ['00:00' '00:15' '00:30' '00:45' '01:00' '01:15' '01:30' '01:45' '02:00'\n",
      " '02:15' '02:30' '02:45' '03:00' '03:15' '03:30' '03:45' '04:00' '04:15'\n",
      " '04:30' '04:45' '05:00' '05:15' '05:30' '05:45' '06:00' '06:15' '06:30'\n",
      " '06:45' '07:00' '07:15' '07:30' '07:45' '08:00' '08:15' '08:30' '08:45'\n",
      " '09:00' '09:15' '09:30' '09:45' '10:00' '10:15' '10:30' '10:45' '11:00'\n",
      " '11:15' '11:30' '11:45' '12:00' '12:15' '12:30' '12:45' '13:00' '13:15'\n",
      " '13:30' '13:45' '14:00' '14:15' '14:30' '14:45' '15:00' '15:15' '15:30'\n",
      " '15:45' '16:00' '16:15' '16:30' '16:45' '17:00' '17:15' '17:30' '17:45'\n",
      " '18:00' '18:15' '18:30' '18:45' '19:00' '19:15' '19:30' '19:45' '20:00'\n",
      " '20:15' '20:30' '20:45' '21:00' '21:15' '21:30' '21:45' '22:00' '22:15'\n",
      " '22:30' '22:45' '23:00' '23:15' '23:30' '23:45']\n",
      "kolom  Meetwaarde :  [2.000e-04 1.000e-04 2.070e-02 4.917e-01 1.101e-01 1.750e-02 1.810e-02\n",
      " 5.700e-03 4.730e-02 5.158e-01 2.547e-01 2.350e-02 2.260e-02 2.250e-02\n",
      " 3.000e-03 2.000e-03 2.666e-01 1.820e-02 2.500e-01 2.660e-02 1.000e-03\n",
      " 2.569e-01 1.840e-02 2.439e-01 3.120e-02 2.488e-01 2.590e-02 2.616e-01\n",
      " 2.160e-02 9.630e-02 1.673e-01 8.000e-03 8.200e-03 8.100e-03 4.200e-03\n",
      " 0.000e+00 3.900e-03 7.300e-03 7.900e-03 5.500e-03 3.500e-03 4.370e-02\n",
      " 1.800e-02 1.140e-02 1.130e-02 1.090e-02 1.040e-02 9.600e-03 2.200e-03\n",
      " 6.000e-03 5.000e-03 1.200e-03 1.100e-03 8.300e-03 3.400e-03 5.000e-04\n",
      " 8.400e-03 4.100e-03 6.400e-03 2.500e-03 2.700e-02 4.410e-02 1.190e-02\n",
      " 1.100e-02 1.050e-02 1.020e-02 3.700e-03 5.200e-03 7.100e-03 1.900e-03\n",
      " 4.300e-03 2.400e-03 8.500e-03 1.470e-02 5.590e-02 7.500e-03 1.220e-02\n",
      " 1.080e-02 1.060e-02 5.900e-03 2.300e-03 7.800e-03 6.300e-03 8.000e-04\n",
      " 3.000e-04 6.900e-03 4.100e-02 2.360e-02 1.180e-02 1.160e-02 1.110e-02\n",
      " 1.070e-02 1.030e-02 9.000e-03 5.100e-03 1.800e-03 7.400e-03 5.300e-03\n",
      " 5.020e-02 1.340e-02 1.200e-02 1.170e-02 6.800e-03 3.600e-03 7.000e-03\n",
      " 1.600e-03 1.700e-03 1.500e-03 9.100e-03 2.100e-03 1.660e-02 5.070e-02\n",
      " 6.200e-03 1.010e-02 2.900e-03 5.400e-03 4.600e-03 4.800e-03 7.600e-03\n",
      " 5.780e-02 1.000e-02 4.400e-03 3.200e-03 4.500e-03 5.240e-02 1.230e-02\n",
      " 1.210e-02 1.150e-02 5.800e-03 7.700e-03 7.000e-04 6.600e-03 5.500e-02\n",
      " 9.000e-04 2.180e-02 4.170e-02 8.600e-03 1.120e-02 6.700e-03 1.680e-02\n",
      " 4.720e-02 9.700e-03 3.570e-02 4.700e-03 6.100e-03 2.800e-03 6.000e-04\n",
      " 2.090e-02 3.960e-02 9.300e-03 4.000e-04 1.650e-02 4.670e-02 4.900e-03\n",
      " 3.100e-03 3.340e-02 5.870e-02 1.300e-03 5.600e-03 5.170e-02 8.900e-03\n",
      " 4.790e-02 1.490e-02 3.300e-03 2.130e-02 4.040e-02 9.900e-03 4.000e-03\n",
      " 4.830e-02 1.530e-02 1.400e-03 2.700e-03 3.109e-01 4.090e-02 2.440e-02\n",
      " 2.710e-02 2.150e-02 1.850e-02 2.690e-02 2.290e-02 2.570e-02 4.020e-02\n",
      " 2.560e-02 3.410e-02 4.610e-02 3.587e-01 3.017e-01 2.778e-01 5.300e-02\n",
      " 1.750e+01 1.700e+01 1.650e+01 1.600e+01 1.550e+01 1.800e+01 1.900e+01\n",
      " 1.950e+01 1.850e+01 1.500e+01 1.450e+01 2.000e+01 2.300e+01 2.450e+01\n",
      " 2.350e+01 2.250e+01 2.150e+01 2.050e+01 2.200e+01 2.400e+01 2.100e+01\n",
      " 2.500e+01 1.400e+01 1.350e+01 1.300e+01 1.250e+01 1.100e+01]\n",
      "kolom  Eenheid :  ['kWh', 'Celsius']\n",
      "Categories (2, object): ['Celsius', 'kWh']\n",
      "kolom  Kost (EUR) :  [0.000e+00 4.300e-03 1.033e-01 2.310e-02 3.700e-03 3.800e-03 1.200e-03\n",
      " 9.900e-03 1.083e-01 5.350e-02 4.900e-03 4.700e-03 6.000e-04 4.000e-04\n",
      " 5.600e-02 5.250e-02 5.600e-03 2.000e-04 5.390e-02 3.900e-03 5.120e-02\n",
      " 6.600e-03 5.220e-02 5.400e-03 5.490e-02 4.500e-03 2.020e-02 3.510e-02\n",
      " 1.700e-03 9.000e-04 8.000e-04 1.500e-03 7.000e-04 9.200e-03 2.400e-03\n",
      " 2.300e-03 2.200e-03 2.000e-03 5.000e-04 1.300e-03 1.100e-03 3.000e-04\n",
      " 1.000e-04 1.800e-03 5.700e-03 9.300e-03 2.500e-03 2.100e-03 3.100e-03\n",
      " 1.170e-02 1.600e-03 2.600e-03 1.400e-03 8.600e-03 5.000e-03 1.900e-03\n",
      " 1.050e-02 2.800e-03 3.500e-03 1.060e-02 1.000e-03 1.210e-02 1.100e-02\n",
      " 1.160e-02 4.600e-03 8.800e-03 7.500e-03 4.400e-03 8.300e-03 9.800e-03\n",
      " 7.000e-03 1.230e-02 1.090e-02 1.010e-02 8.500e-03 3.200e-03 6.530e-02\n",
      " 5.100e-03 4.800e-03 8.400e-03 7.200e-03 9.700e-03 7.530e-02 6.340e-02\n",
      " 5.830e-02 1.110e-02]\n",
      "kolom  Meettype :  ['electriciteit', 'Thermostat Actual value', 'Thermostat Setpoint']\n",
      "Categories (3, object): ['Thermostat Actual value', 'Thermostat Setpoint', 'electriciteit']\n",
      "kolom  Type apparaat :  ['WASHINGMACHINE', 'REFRIGERATOR+FREEZER', 'MICROWAVE', NaN]\n",
      "Categories (3, object): ['MICROWAVE', 'REFRIGERATOR+FREEZER', 'WASHINGMACHINE']\n"
     ]
    },
    {
     "ename": "KeyError",
     "evalue": "\"['Login Naam', 'Gateway Mac Address', 'CO2 (kg)', 'Consument / Producent', 'Hoofd / deelmeter', 'Kamer', 'Groep-Ids', 'Groepen'] not found in axis\"",
     "output_type": "error",
     "traceback": [
      "\u001B[1;31m---------------------------------------------------------------------------\u001B[0m",
      "\u001B[1;31mKeyError\u001B[0m                                  Traceback (most recent call last)",
      "Cell \u001B[1;32mIn[22], line 6\u001B[0m\n\u001B[0;32m      4\u001B[0m     \u001B[38;5;28mprint\u001B[39m(\u001B[38;5;124m\"\u001B[39m\u001B[38;5;124mkolom \u001B[39m\u001B[38;5;124m\"\u001B[39m, kolomnaam, \u001B[38;5;124m\"\u001B[39m\u001B[38;5;124m: \u001B[39m\u001B[38;5;124m\"\u001B[39m, smart[kolomnaam]\u001B[38;5;241m.\u001B[39munique())\n\u001B[0;32m      5\u001B[0m \u001B[38;5;66;03m# nu kunnen we de juiste kolommen weghalen\u001B[39;00m\n\u001B[1;32m----> 6\u001B[0m \u001B[43msmart\u001B[49m\u001B[38;5;241;43m.\u001B[39;49m\u001B[43mdrop\u001B[49m\u001B[43m(\u001B[49m\u001B[43mcolumns\u001B[49m\u001B[38;5;241;43m=\u001B[39;49m\u001B[43m[\u001B[49m\u001B[38;5;124;43m'\u001B[39;49m\u001B[38;5;124;43mLogin Naam\u001B[39;49m\u001B[38;5;124;43m'\u001B[39;49m\u001B[43m,\u001B[49m\u001B[43m \u001B[49m\u001B[38;5;124;43m'\u001B[39;49m\u001B[38;5;124;43mGateway Mac Address\u001B[39;49m\u001B[38;5;124;43m'\u001B[39;49m\u001B[43m,\u001B[49m\u001B[43m \u001B[49m\u001B[38;5;124;43m'\u001B[39;49m\u001B[38;5;124;43mCO2 (kg)\u001B[39;49m\u001B[38;5;124;43m'\u001B[39;49m\u001B[43m,\u001B[49m\u001B[43m \u001B[49m\u001B[38;5;124;43m'\u001B[39;49m\u001B[38;5;124;43mConsument / Producent\u001B[39;49m\u001B[38;5;124;43m'\u001B[39;49m\u001B[43m,\u001B[49m\u001B[43m \u001B[49m\u001B[38;5;124;43m'\u001B[39;49m\u001B[38;5;124;43mHoofd / deelmeter\u001B[39;49m\u001B[38;5;124;43m'\u001B[39;49m\u001B[43m,\u001B[49m\u001B[43m \u001B[49m\u001B[38;5;124;43m'\u001B[39;49m\u001B[38;5;124;43mKamer\u001B[39;49m\u001B[38;5;124;43m'\u001B[39;49m\u001B[43m,\u001B[49m\u001B[43m \u001B[49m\u001B[38;5;124;43m'\u001B[39;49m\u001B[38;5;124;43mGroep-Ids\u001B[39;49m\u001B[38;5;124;43m'\u001B[39;49m\u001B[43m,\u001B[49m\u001B[43m \u001B[49m\u001B[38;5;124;43m'\u001B[39;49m\u001B[38;5;124;43mGroepen\u001B[39;49m\u001B[38;5;124;43m'\u001B[39;49m\u001B[43m]\u001B[49m\u001B[43m,\u001B[49m\u001B[43m \u001B[49m\u001B[43minplace\u001B[49m\u001B[38;5;241;43m=\u001B[39;49m\u001B[38;5;28;43;01mTrue\u001B[39;49;00m\u001B[43m)\u001B[49m\n\u001B[0;32m      7\u001B[0m smart\u001B[38;5;241m.\u001B[39minfo()\n",
      "File \u001B[1;32mH:\\My Drive\\School\\2022-2023\\Data-Science\\Data-Science\\venv\\Lib\\site-packages\\pandas\\core\\frame.py:5258\u001B[0m, in \u001B[0;36mDataFrame.drop\u001B[1;34m(self, labels, axis, index, columns, level, inplace, errors)\u001B[0m\n\u001B[0;32m   5110\u001B[0m \u001B[38;5;28;01mdef\u001B[39;00m \u001B[38;5;21mdrop\u001B[39m(\n\u001B[0;32m   5111\u001B[0m     \u001B[38;5;28mself\u001B[39m,\n\u001B[0;32m   5112\u001B[0m     labels: IndexLabel \u001B[38;5;241m=\u001B[39m \u001B[38;5;28;01mNone\u001B[39;00m,\n\u001B[1;32m   (...)\u001B[0m\n\u001B[0;32m   5119\u001B[0m     errors: IgnoreRaise \u001B[38;5;241m=\u001B[39m \u001B[38;5;124m\"\u001B[39m\u001B[38;5;124mraise\u001B[39m\u001B[38;5;124m\"\u001B[39m,\n\u001B[0;32m   5120\u001B[0m ) \u001B[38;5;241m-\u001B[39m\u001B[38;5;241m>\u001B[39m DataFrame \u001B[38;5;241m|\u001B[39m \u001B[38;5;28;01mNone\u001B[39;00m:\n\u001B[0;32m   5121\u001B[0m \u001B[38;5;250m    \u001B[39m\u001B[38;5;124;03m\"\"\"\u001B[39;00m\n\u001B[0;32m   5122\u001B[0m \u001B[38;5;124;03m    Drop specified labels from rows or columns.\u001B[39;00m\n\u001B[0;32m   5123\u001B[0m \n\u001B[1;32m   (...)\u001B[0m\n\u001B[0;32m   5256\u001B[0m \u001B[38;5;124;03m            weight  1.0     0.8\u001B[39;00m\n\u001B[0;32m   5257\u001B[0m \u001B[38;5;124;03m    \"\"\"\u001B[39;00m\n\u001B[1;32m-> 5258\u001B[0m     \u001B[38;5;28;01mreturn\u001B[39;00m \u001B[38;5;28;43msuper\u001B[39;49m\u001B[43m(\u001B[49m\u001B[43m)\u001B[49m\u001B[38;5;241;43m.\u001B[39;49m\u001B[43mdrop\u001B[49m\u001B[43m(\u001B[49m\n\u001B[0;32m   5259\u001B[0m \u001B[43m        \u001B[49m\u001B[43mlabels\u001B[49m\u001B[38;5;241;43m=\u001B[39;49m\u001B[43mlabels\u001B[49m\u001B[43m,\u001B[49m\n\u001B[0;32m   5260\u001B[0m \u001B[43m        \u001B[49m\u001B[43maxis\u001B[49m\u001B[38;5;241;43m=\u001B[39;49m\u001B[43maxis\u001B[49m\u001B[43m,\u001B[49m\n\u001B[0;32m   5261\u001B[0m \u001B[43m        \u001B[49m\u001B[43mindex\u001B[49m\u001B[38;5;241;43m=\u001B[39;49m\u001B[43mindex\u001B[49m\u001B[43m,\u001B[49m\n\u001B[0;32m   5262\u001B[0m \u001B[43m        \u001B[49m\u001B[43mcolumns\u001B[49m\u001B[38;5;241;43m=\u001B[39;49m\u001B[43mcolumns\u001B[49m\u001B[43m,\u001B[49m\n\u001B[0;32m   5263\u001B[0m \u001B[43m        \u001B[49m\u001B[43mlevel\u001B[49m\u001B[38;5;241;43m=\u001B[39;49m\u001B[43mlevel\u001B[49m\u001B[43m,\u001B[49m\n\u001B[0;32m   5264\u001B[0m \u001B[43m        \u001B[49m\u001B[43minplace\u001B[49m\u001B[38;5;241;43m=\u001B[39;49m\u001B[43minplace\u001B[49m\u001B[43m,\u001B[49m\n\u001B[0;32m   5265\u001B[0m \u001B[43m        \u001B[49m\u001B[43merrors\u001B[49m\u001B[38;5;241;43m=\u001B[39;49m\u001B[43merrors\u001B[49m\u001B[43m,\u001B[49m\n\u001B[0;32m   5266\u001B[0m \u001B[43m    \u001B[49m\u001B[43m)\u001B[49m\n",
      "File \u001B[1;32mH:\\My Drive\\School\\2022-2023\\Data-Science\\Data-Science\\venv\\Lib\\site-packages\\pandas\\core\\generic.py:4549\u001B[0m, in \u001B[0;36mNDFrame.drop\u001B[1;34m(self, labels, axis, index, columns, level, inplace, errors)\u001B[0m\n\u001B[0;32m   4547\u001B[0m \u001B[38;5;28;01mfor\u001B[39;00m axis, labels \u001B[38;5;129;01min\u001B[39;00m axes\u001B[38;5;241m.\u001B[39mitems():\n\u001B[0;32m   4548\u001B[0m     \u001B[38;5;28;01mif\u001B[39;00m labels \u001B[38;5;129;01mis\u001B[39;00m \u001B[38;5;129;01mnot\u001B[39;00m \u001B[38;5;28;01mNone\u001B[39;00m:\n\u001B[1;32m-> 4549\u001B[0m         obj \u001B[38;5;241m=\u001B[39m \u001B[43mobj\u001B[49m\u001B[38;5;241;43m.\u001B[39;49m\u001B[43m_drop_axis\u001B[49m\u001B[43m(\u001B[49m\u001B[43mlabels\u001B[49m\u001B[43m,\u001B[49m\u001B[43m \u001B[49m\u001B[43maxis\u001B[49m\u001B[43m,\u001B[49m\u001B[43m \u001B[49m\u001B[43mlevel\u001B[49m\u001B[38;5;241;43m=\u001B[39;49m\u001B[43mlevel\u001B[49m\u001B[43m,\u001B[49m\u001B[43m \u001B[49m\u001B[43merrors\u001B[49m\u001B[38;5;241;43m=\u001B[39;49m\u001B[43merrors\u001B[49m\u001B[43m)\u001B[49m\n\u001B[0;32m   4551\u001B[0m \u001B[38;5;28;01mif\u001B[39;00m inplace:\n\u001B[0;32m   4552\u001B[0m     \u001B[38;5;28mself\u001B[39m\u001B[38;5;241m.\u001B[39m_update_inplace(obj)\n",
      "File \u001B[1;32mH:\\My Drive\\School\\2022-2023\\Data-Science\\Data-Science\\venv\\Lib\\site-packages\\pandas\\core\\generic.py:4591\u001B[0m, in \u001B[0;36mNDFrame._drop_axis\u001B[1;34m(self, labels, axis, level, errors, only_slice)\u001B[0m\n\u001B[0;32m   4589\u001B[0m         new_axis \u001B[38;5;241m=\u001B[39m axis\u001B[38;5;241m.\u001B[39mdrop(labels, level\u001B[38;5;241m=\u001B[39mlevel, errors\u001B[38;5;241m=\u001B[39merrors)\n\u001B[0;32m   4590\u001B[0m     \u001B[38;5;28;01melse\u001B[39;00m:\n\u001B[1;32m-> 4591\u001B[0m         new_axis \u001B[38;5;241m=\u001B[39m \u001B[43maxis\u001B[49m\u001B[38;5;241;43m.\u001B[39;49m\u001B[43mdrop\u001B[49m\u001B[43m(\u001B[49m\u001B[43mlabels\u001B[49m\u001B[43m,\u001B[49m\u001B[43m \u001B[49m\u001B[43merrors\u001B[49m\u001B[38;5;241;43m=\u001B[39;49m\u001B[43merrors\u001B[49m\u001B[43m)\u001B[49m\n\u001B[0;32m   4592\u001B[0m     indexer \u001B[38;5;241m=\u001B[39m axis\u001B[38;5;241m.\u001B[39mget_indexer(new_axis)\n\u001B[0;32m   4594\u001B[0m \u001B[38;5;66;03m# Case for non-unique axis\u001B[39;00m\n\u001B[0;32m   4595\u001B[0m \u001B[38;5;28;01melse\u001B[39;00m:\n",
      "File \u001B[1;32mH:\\My Drive\\School\\2022-2023\\Data-Science\\Data-Science\\venv\\Lib\\site-packages\\pandas\\core\\indexes\\base.py:6696\u001B[0m, in \u001B[0;36mIndex.drop\u001B[1;34m(self, labels, errors)\u001B[0m\n\u001B[0;32m   6694\u001B[0m \u001B[38;5;28;01mif\u001B[39;00m mask\u001B[38;5;241m.\u001B[39many():\n\u001B[0;32m   6695\u001B[0m     \u001B[38;5;28;01mif\u001B[39;00m errors \u001B[38;5;241m!=\u001B[39m \u001B[38;5;124m\"\u001B[39m\u001B[38;5;124mignore\u001B[39m\u001B[38;5;124m\"\u001B[39m:\n\u001B[1;32m-> 6696\u001B[0m         \u001B[38;5;28;01mraise\u001B[39;00m \u001B[38;5;167;01mKeyError\u001B[39;00m(\u001B[38;5;124mf\u001B[39m\u001B[38;5;124m\"\u001B[39m\u001B[38;5;132;01m{\u001B[39;00m\u001B[38;5;28mlist\u001B[39m(labels[mask])\u001B[38;5;132;01m}\u001B[39;00m\u001B[38;5;124m not found in axis\u001B[39m\u001B[38;5;124m\"\u001B[39m)\n\u001B[0;32m   6697\u001B[0m     indexer \u001B[38;5;241m=\u001B[39m indexer[\u001B[38;5;241m~\u001B[39mmask]\n\u001B[0;32m   6698\u001B[0m \u001B[38;5;28;01mreturn\u001B[39;00m \u001B[38;5;28mself\u001B[39m\u001B[38;5;241m.\u001B[39mdelete(indexer)\n",
      "\u001B[1;31mKeyError\u001B[0m: \"['Login Naam', 'Gateway Mac Address', 'CO2 (kg)', 'Consument / Producent', 'Hoofd / deelmeter', 'Kamer', 'Groep-Ids', 'Groepen'] not found in axis\""
     ]
    }
   ],
   "source": [
    "# hier komt jouw code\n",
    "# we zoeken eerst alle unieke waarden per kolom\n",
    "for kolomnaam in smart.columns:\n",
    "    print(\"kolom \", kolomnaam, \": \", smart[kolomnaam].unique())\n",
    "# nu kunnen we de juiste kolommen weghalen\n",
    "smart.drop(columns=['Login Naam', 'Gateway Mac Address', 'CO2 (kg)', 'Consument / Producent', 'Hoofd / deelmeter', 'Kamer', 'Groep-Ids', 'Groepen'], inplace=True)\n",
    "smart.info()"
   ],
   "metadata": {
    "collapsed": false
   }
  },
  {
   "cell_type": "markdown",
   "source": [
    "Zet de kolommen met nominale of ordinale gegevens (strings) om naar een Categorical.  De datums en tijdstippen mag je negeren."
   ],
   "metadata": {
    "collapsed": false
   }
  },
  {
   "cell_type": "code",
   "execution_count": 19,
   "outputs": [
    {
     "name": "stdout",
     "output_type": "stream",
     "text": [
      "<class 'pandas.core.frame.DataFrame'>\n",
      "RangeIndex: 11182 entries, 0 to 11181\n",
      "Data columns (total 9 columns):\n",
      " #   Column         Non-Null Count  Dtype   \n",
      "---  ------         --------------  -----   \n",
      " 0   Apparaat-ID    11182 non-null  category\n",
      " 1   Apparaat       11182 non-null  category\n",
      " 2   Datum          11182 non-null  object  \n",
      " 3   Uur            11182 non-null  object  \n",
      " 4   Meetwaarde     11182 non-null  float64 \n",
      " 5   Eenheid        11182 non-null  category\n",
      " 6   Kost (EUR)     11182 non-null  float64 \n",
      " 7   Meettype       11182 non-null  category\n",
      " 8   Type apparaat  2304 non-null   category\n",
      "dtypes: category(5), float64(2), object(2)\n",
      "memory usage: 405.6+ KB\n",
      "None\n"
     ]
    }
   ],
   "source": [
    "# hier komt jouw code\n",
    "smart['Apparaat-ID'] = pd.Categorical(smart['Apparaat-ID'])\n",
    "smart['Apparaat'] = pd.Categorical(smart['Apparaat'])\n",
    "smart['Eenheid'] = pd.Categorical(smart['Eenheid'])\n",
    "smart['Meettype'] = pd.Categorical(smart['Meettype'])\n",
    "smart['Type apparaat'] = pd.Categorical(smart['Type apparaat'])\n",
    "print(smart.info())"
   ],
   "metadata": {
    "collapsed": false
   }
  },
  {
   "cell_type": "markdown",
   "source": [
    "Geef een lijst van alle kolomnamen die ontbrekende waarden bevatten.  Geef het resultaat als een pandas Series van strings (de namen van de kolommen met ontbrekende waarden)."
   ],
   "metadata": {
    "collapsed": false
   }
  },
  {
   "cell_type": "code",
   "execution_count": 20,
   "outputs": [
    {
     "data": {
      "text/plain": "0    Type apparaat\ndtype: object"
     },
     "execution_count": 20,
     "metadata": {},
     "output_type": "execute_result"
    }
   ],
   "source": [
    "# hier komt jouw code\n",
    "kolommen = smart.isna().any()\n",
    "pd.Series(kolommen.index[kolommen])"
   ],
   "metadata": {
    "collapsed": false
   }
  },
  {
   "cell_type": "markdown",
   "source": [
    "Schrijf de gegevens nu weg naar een bestand \"smartDevices_resultaat.csv\".  Gebruik een \".\" voor decimale getallen en een tab als deliminator."
   ],
   "metadata": {
    "collapsed": false
   }
  },
  {
   "cell_type": "code",
   "execution_count": 21,
   "outputs": [],
   "source": [
    "# hier komt jouw code\n",
    "smart.to_csv(\"smartDevices_resultaat.csv\", sep=\"\\t\", decimal=\".\", index=False)"
   ],
   "metadata": {
    "collapsed": false
   }
  },
  {
   "cell_type": "markdown",
   "source": [
    "Kijk na of het bestand juist bewaard werd.  Probeer het eventueel te importeren in een spreadsheet programma."
   ],
   "metadata": {
    "collapsed": false
   }
  }
 ],
 "metadata": {
  "kernelspec": {
   "display_name": "Python 3",
   "language": "python",
   "name": "python3"
  },
  "language_info": {
   "codemirror_mode": {
    "name": "ipython",
    "version": 2
   },
   "file_extension": ".py",
   "mimetype": "text/x-python",
   "name": "python",
   "nbconvert_exporter": "python",
   "pygments_lexer": "ipython2",
   "version": "3.8.7-final"
  }
 },
 "nbformat": 4,
 "nbformat_minor": 0
}
