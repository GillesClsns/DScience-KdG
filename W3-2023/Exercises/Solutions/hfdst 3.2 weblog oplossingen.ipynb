{
 "cells": [
  {
   "cell_type": "markdown",
   "metadata": {
    "id": "XX7WxJhL50UM"
   },
   "source": [
    "# Oplossingen Weblog\n",
    "\n",
    "We willen analyses kunnen uitvoeren op de logs van een webserver (\"UofS_access_log.small\"). Om dit te kunnen doen, moet je de relevante gegevens in een dataframe krijgen. Dit moet een automatisch proces zijn zodat ook andere logfiles ingeladen kan worden.\n",
    "\n",
    "Volgende zaken dienen te gebeuren. Het originele dataframe moet herwerkt worden zodat enkel deze kolommen overblijven:\n",
    "\n",
    "- domain: bevat de adressen van de clients die een request stuurden\n",
    "- timestamp: is een datetime veld (POSIXct) dat het tijdstip van de request weergeeft\n",
    "- resource: toont de resource die werd opgevraagd\n",
    "- repsponse_code: geeft de HTTP response code die werd terug gegeven door de server\n",
    "- response_length: geeft de lengte aan van de HTTP response\n",
    "\n",
    "We gaan dit stap voor stap opbouwen."
   ]
  },
  {
   "cell_type": "markdown",
   "source": [
    "Importeer hier alle nodige bibliotheken:"
   ],
   "metadata": {
    "collapsed": false
   }
  },
  {
   "cell_type": "code",
   "execution_count": 1,
   "outputs": [],
   "source": [
    "# hier komt jouw code\n",
    "import pandas as pd"
   ],
   "metadata": {
    "collapsed": false
   }
  },
  {
   "cell_type": "markdown",
   "metadata": {
    "id": "DiLdG3sF50U3"
   },
   "source": [
    "## Inlezen van de gegevens\n",
    "Lees het dataframe in.  Kijk zelf na wat de seperator is.  Foutieve rijen mag je skippen.  Er is geen header! Het bestand gebruikt de \"latin\" encodering voor karakters."
   ]
  },
  {
   "cell_type": "code",
   "execution_count": 5,
   "metadata": {},
   "outputs": [
    {
     "data": {
      "text/plain": "                             0  1  2                      3       4  \\\n0          cad49.cadvision.com  -  -  [01/Jun/1995:00:53:19  -0600]   \n1                130.89.250.24  -  -  [01/Jun/1995:02:45:12  -0600]   \n2                130.54.25.198  -  -  [01/Jun/1995:03:29:56  -0600]   \n3                 148.81.17.41  -  -  [01/Jun/1995:04:02:17  -0600]   \n4  anumsun6.univ-st-etienne.fr  -  -  [01/Jun/1995:04:40:30  -0600]   \n\n                                               5    6     7  \n0        GET /~lowey/webville/icons/blank_32.gif  200   167  \n1        GET /~lowey/webville/icons/south_32.gif  200   210  \n2  GET /~macphed/finite/fe_resources/node92.html  200  1668  \n3           GET /~friesend/tolkien/rootpage.html  200   461  \n4  GET /~macphed/finite/fe_resources/node58.html  200  1707  ",
      "text/html": "<div>\n<style scoped>\n    .dataframe tbody tr th:only-of-type {\n        vertical-align: middle;\n    }\n\n    .dataframe tbody tr th {\n        vertical-align: top;\n    }\n\n    .dataframe thead th {\n        text-align: right;\n    }\n</style>\n<table border=\"1\" class=\"dataframe\">\n  <thead>\n    <tr style=\"text-align: right;\">\n      <th></th>\n      <th>0</th>\n      <th>1</th>\n      <th>2</th>\n      <th>3</th>\n      <th>4</th>\n      <th>5</th>\n      <th>6</th>\n      <th>7</th>\n    </tr>\n  </thead>\n  <tbody>\n    <tr>\n      <th>0</th>\n      <td>cad49.cadvision.com</td>\n      <td>-</td>\n      <td>-</td>\n      <td>[01/Jun/1995:00:53:19</td>\n      <td>-0600]</td>\n      <td>GET /~lowey/webville/icons/blank_32.gif</td>\n      <td>200</td>\n      <td>167</td>\n    </tr>\n    <tr>\n      <th>1</th>\n      <td>130.89.250.24</td>\n      <td>-</td>\n      <td>-</td>\n      <td>[01/Jun/1995:02:45:12</td>\n      <td>-0600]</td>\n      <td>GET /~lowey/webville/icons/south_32.gif</td>\n      <td>200</td>\n      <td>210</td>\n    </tr>\n    <tr>\n      <th>2</th>\n      <td>130.54.25.198</td>\n      <td>-</td>\n      <td>-</td>\n      <td>[01/Jun/1995:03:29:56</td>\n      <td>-0600]</td>\n      <td>GET /~macphed/finite/fe_resources/node92.html</td>\n      <td>200</td>\n      <td>1668</td>\n    </tr>\n    <tr>\n      <th>3</th>\n      <td>148.81.17.41</td>\n      <td>-</td>\n      <td>-</td>\n      <td>[01/Jun/1995:04:02:17</td>\n      <td>-0600]</td>\n      <td>GET /~friesend/tolkien/rootpage.html</td>\n      <td>200</td>\n      <td>461</td>\n    </tr>\n    <tr>\n      <th>4</th>\n      <td>anumsun6.univ-st-etienne.fr</td>\n      <td>-</td>\n      <td>-</td>\n      <td>[01/Jun/1995:04:40:30</td>\n      <td>-0600]</td>\n      <td>GET /~macphed/finite/fe_resources/node58.html</td>\n      <td>200</td>\n      <td>1707</td>\n    </tr>\n  </tbody>\n</table>\n</div>"
     },
     "execution_count": 5,
     "metadata": {},
     "output_type": "execute_result"
    }
   ],
   "source": [
    "# hier komt jouw code\n",
    "log = pd.read_csv(\"../data/UofS_access_log.small\", sep=\" \", encoding=\"latin\", header=None, on_bad_lines='skip')\n",
    "log.head()"
   ]
  },
  {
   "cell_type": "markdown",
   "source": [
    "Hoeveel lijnen staan er in dit data frame?"
   ],
   "metadata": {
    "collapsed": false
   }
  },
  {
   "cell_type": "code",
   "execution_count": 6,
   "outputs": [
    {
     "data": {
      "text/plain": "48171"
     },
     "execution_count": 6,
     "metadata": {},
     "output_type": "execute_result"
    }
   ],
   "source": [
    "# hier komt jouw code\n",
    "len(log)"
   ],
   "metadata": {
    "collapsed": false
   }
  },
  {
   "cell_type": "markdown",
   "source": [
    "Kopieer alle waarden uit de eerste kolom in een variabele \"domain\".\n",
    "Kopieer alle waarden uit de zevende kolom in een variabele \"response_code\"\n",
    "Kopieer alle waarden uit de achtste kolom in een variabele \"response_length\""
   ],
   "metadata": {
    "collapsed": false
   }
  },
  {
   "cell_type": "code",
   "execution_count": 10,
   "outputs": [
    {
     "name": "stdout",
     "output_type": "stream",
     "text": [
      "<class 'pandas.core.series.Series'> <class 'pandas.core.series.Series'> <class 'pandas.core.series.Series'>\n"
     ]
    }
   ],
   "source": [
    "# hier komt jouw code\n",
    "domain = log[0]\n",
    "response_code = log[6]\n",
    "response_length = log[7]\n",
    "print(type(domain), type(response_code), type(response_length))"
   ],
   "metadata": {
    "collapsed": false
   }
  },
  {
   "cell_type": "markdown",
   "source": [
    "Kijk na of de datatypes van \"domain\", \"response_code\" en \"response_length\" juist zijn.  We verwachten respectievelijk: strings, getallen en getallen.  Converteer de variabelen indien nodig.  Als er ongeldige waarden zijn, zouden deze omgezet moeten worden naar NaN."
   ],
   "metadata": {
    "collapsed": false
   }
  },
  {
   "cell_type": "code",
   "execution_count": 12,
   "outputs": [
    {
     "name": "stdout",
     "output_type": "stream",
     "text": [
      "<class 'pandas.core.series.Series'> <class 'pandas.core.series.Series'> <class 'pandas.core.series.Series'>\n"
     ]
    }
   ],
   "source": [
    "# hier komt jouw code\n",
    "response_length = pd.to_numeric(response_length, errors='coerce')\n",
    "print(type(domain), type(response_code), type(response_length))"
   ],
   "metadata": {
    "collapsed": false
   }
  },
  {
   "cell_type": "markdown",
   "source": [
    "Hoeveel NaN waarden zitten er in response_length?"
   ],
   "metadata": {
    "collapsed": false
   }
  },
  {
   "cell_type": "code",
   "execution_count": null,
   "outputs": [],
   "source": [
    "# hint: je zou 897 moeten uitkomen\n",
    "# hier komt jouw code\n",
    "response_length.isna().sum()"
   ],
   "metadata": {
    "collapsed": false
   }
  },
  {
   "cell_type": "markdown",
   "source": [
    "Hoeveel procent is dat van alle rijen?"
   ],
   "metadata": {
    "collapsed": false
   }
  },
  {
   "cell_type": "code",
   "execution_count": 13,
   "outputs": [
    {
     "data": {
      "text/plain": "1.8621162109983187"
     },
     "execution_count": 13,
     "metadata": {},
     "output_type": "execute_result"
    }
   ],
   "source": [
    "# hier komt jouw code\n",
    "response_length.isna().sum() / len(response_length) * 100"
   ],
   "metadata": {
    "collapsed": false
   }
  },
  {
   "cell_type": "markdown",
   "source": [
    "De timestamp staat verspreid in kolommen 3 (datum en uur) en 4 (timezone). Voeg deze samen tot één string.  Plaats het resultaat in een variabele \"timestamp\"."
   ],
   "metadata": {
    "collapsed": false
   }
  },
  {
   "cell_type": "code",
   "execution_count": null,
   "outputs": [],
   "source": [
    "# hier komt jouw code\n",
    "timestamp = log[3] + log[4]\n",
    "timestamp.head()"
   ],
   "metadata": {
    "collapsed": false
   }
  },
  {
   "cell_type": "markdown",
   "source": [
    "\n",
    "Maak een variabele \"resource\" die alle resources bevat (in de 6e kolom).  Verwijder de 'GET' en 'HTTP/1.0' die soms in het begin en op het einde staan."
   ],
   "metadata": {
    "collapsed": false
   }
  },
  {
   "cell_type": "code",
   "execution_count": null,
   "metadata": {},
   "outputs": [],
   "source": [
    "# hier komt jouw code\n",
    "resource = log[5].str.replace(\"GET \", \"\", regex=False).str.replace(\"HTTP/1.0\", \"\", regex=False)\n",
    "resource"
   ]
  },
  {
   "cell_type": "markdown",
   "source": [
    "Maak nu een dataframe met naam \"log\" waarin de kolommen \"domain\", \"timestamp\", \"resource\", \"response_code\" en \"response_length\" staan.  De waarden kan je uit de gemaakte variabelen halen."
   ],
   "metadata": {
    "collapsed": false
   }
  },
  {
   "cell_type": "code",
   "execution_count": null,
   "outputs": [],
   "source": [
    "# hier komt jouw code\n",
    "log = pd.DataFrame({'domain':domain, 'timestamp':timestamp, 'resource':resource, 'response_code':response_code, 'response_length':response_length})\n",
    "log.info()"
   ],
   "metadata": {
    "collapsed": false
   }
  },
  {
   "cell_type": "markdown",
   "source": [
    "Verwijder nu alle rijen uit je dataframe waar een ontbrekende waarde in voorkomt."
   ],
   "metadata": {
    "collapsed": false
   }
  },
  {
   "cell_type": "code",
   "execution_count": null,
   "outputs": [],
   "source": [
    "# hier komt jouw code\n",
    "log.dropna(inplace=True)\n",
    "log.head()"
   ],
   "metadata": {
    "collapsed": false
   }
  },
  {
   "cell_type": "markdown",
   "source": [
    "Zoek de rij(en) met de grootste response_length"
   ],
   "metadata": {
    "collapsed": false
   }
  },
  {
   "cell_type": "code",
   "execution_count": 1,
   "outputs": [
    {
     "ename": "NameError",
     "evalue": "name 'log' is not defined",
     "output_type": "error",
     "traceback": [
      "\u001B[1;31m---------------------------------------------------------------------------\u001B[0m",
      "\u001B[1;31mNameError\u001B[0m                                 Traceback (most recent call last)",
      "Cell \u001B[1;32mIn[1], line 2\u001B[0m\n\u001B[0;32m      1\u001B[0m \u001B[38;5;66;03m# hier komt jouw code\u001B[39;00m\n\u001B[1;32m----> 2\u001B[0m rijen \u001B[38;5;241m=\u001B[39m \u001B[43mlog\u001B[49m\u001B[38;5;241m.\u001B[39mresponse_length \u001B[38;5;241m==\u001B[39m log\u001B[38;5;241m.\u001B[39mresponse_length\u001B[38;5;241m.\u001B[39mmax()\n\u001B[0;32m      3\u001B[0m log\u001B[38;5;241m.\u001B[39mloc[rijen]\n",
      "\u001B[1;31mNameError\u001B[0m: name 'log' is not defined"
     ]
    }
   ],
   "source": [
    "# hier komt jouw code\n",
    "rijen = log.response_length == log.response_length.max()\n",
    "log.loc[rijen]"
   ],
   "metadata": {
    "collapsed": false
   }
  },
  {
   "cell_type": "markdown",
   "source": [
    "Bewaar het resultaat in een CSV-bestand \"log_resultaat.csv\".  Gebruik ',' als separator en \".\" voor decimale getallen."
   ],
   "metadata": {
    "collapsed": false
   }
  },
  {
   "cell_type": "code",
   "execution_count": null,
   "outputs": [],
   "source": [
    "# hier komt jouw code\n",
    "log.to_csv(\"log_resultaat.csv\", sep=\",\", decimal=\".\", index=False)"
   ],
   "metadata": {
    "collapsed": false
   }
  },
  {
   "cell_type": "markdown",
   "source": [
    "Probeer het bestand in een spreadsheet te importeren."
   ],
   "metadata": {
    "collapsed": false
   }
  }
 ],
 "metadata": {
  "colab": {
   "name": "Opgaveboek - weblog - oplossingen.ipynb",
   "provenance": []
  },
  "kernelspec": {
   "display_name": "Python 3",
   "language": "python",
   "name": "python3"
  },
  "language_info": {
   "codemirror_mode": {
    "name": "ipython",
    "version": 3
   },
   "file_extension": ".py",
   "mimetype": "text/x-python",
   "name": "python",
   "nbconvert_exporter": "python",
   "pygments_lexer": "ipython3",
   "version": "3.8.7-final"
  }
 },
 "nbformat": 4,
 "nbformat_minor": 0
}
