{
 "cells": [
  {
   "cell_type": "markdown",
   "metadata": {
    "collapsed": true
   },
   "source": [
    "# Oefeningen Smart Devices\n",
    "\n",
    "De buurman heeft in zijn huis een aantal sensoren geplaatst. De sensoren meten het verbruik van bepaalde toestellen en ook de temperatuur.  De gegevens worden in een logbestand bewaard. In het bestand “smartDevices.csv” zie je de data van een aantal dagen staan. De buur heeft aan jou gevraagd om een script te schrijven waarmee hij maandelijks een nieuwe CSV kan aanmaken die een aantal gegevens op dagbasis wegschrijft. Om dit te doen moet je gegevens groeperen per dag.\n",
    "\n",
    "Hij wil volgende zaken in het bestand zien staan:\n",
    "- Datum\n",
    "- Totaal verbruik in kWh voor die dag (enkel gegevens waarvan de eenheid kWh is)\n",
    "- Gemiddelde temperatuur in de woonkamer (enkel metingen voor WOONKAMER)"
   ]
  },
  {
   "cell_type": "markdown",
   "metadata": {},
   "source": [
    "Importeer hier alle nodige bibliotheken:"
   ]
  },
  {
   "cell_type": "code",
   "execution_count": 15,
   "metadata": {},
   "outputs": [],
   "source": [
    "import pandas as pd\n",
    "import numpy as np\n",
    "import math"
   ]
  },
  {
   "cell_type": "markdown",
   "metadata": {},
   "source": [
    "### Inlezen van de gegevens\n",
    "Lees de dataset in.  Het CSV-bestand begint met enkele informatieregels, die moet je overslaan.\n",
    "Je zal zien dat kommagetallen met een ',' geschreven zijn.  Lees dit juist in.\n",
    "\n",
    "Bekijk de kolommen en hun datatypes."
   ]
  },
  {
   "cell_type": "code",
   "execution_count": 1,
   "metadata": {},
   "outputs": [
    {
     "ename": "NameError",
     "evalue": "name 'pd' is not defined",
     "output_type": "error",
     "traceback": [
      "\u001b[1;31m---------------------------------------------------------------------------\u001b[0m",
      "\u001b[1;31mNameError\u001b[0m                                 Traceback (most recent call last)",
      "Cell \u001b[1;32mIn[1], line 1\u001b[0m\n\u001b[1;32m----> 1\u001b[0m data \u001b[38;5;241m=\u001b[39m \u001b[43mpd\u001b[49m\u001b[38;5;241m.\u001b[39mread_csv(\u001b[38;5;124m\"\u001b[39m\u001b[38;5;124m./data/smartDevices.csv\u001b[39m\u001b[38;5;124m\"\u001b[39m, sep\u001b[38;5;241m=\u001b[39m\u001b[38;5;124m\"\u001b[39m\u001b[38;5;124m;\u001b[39m\u001b[38;5;124m\"\u001b[39m, decimal\u001b[38;5;241m=\u001b[39m\u001b[38;5;124m\"\u001b[39m\u001b[38;5;124m,\u001b[39m\u001b[38;5;124m\"\u001b[39m, head\u001b[38;5;241m=\u001b[39m\u001b[38;5;241m0\u001b[39m, skiprows\u001b[38;5;241m=\u001b[39m\u001b[38;5;241m4\u001b[39m)\n\u001b[0;32m      2\u001b[0m \u001b[38;5;28mprint\u001b[39m(data)\n",
      "\u001b[1;31mNameError\u001b[0m: name 'pd' is not defined"
     ]
    }
   ],
   "source": [
    "data = pd.read_csv(\"./data/smartDevices.csv\", sep=\";\", decimal=\",\", header=0, skiprows=4)\n",
    "print(data)"
   ]
  },
  {
   "cell_type": "markdown",
   "metadata": {},
   "source": [
    "Er zijn 3 kolommen zonder naam (unnamed).  Verwijder deze"
   ]
  },
  {
   "cell_type": "code",
   "execution_count": 17,
   "metadata": {},
   "outputs": [],
   "source": [
    "data.drop(columns=['Unnamed: 17', 'Unnamed: 18', 'Unnamed: 19'], inplace=True)"
   ]
  },
  {
   "cell_type": "markdown",
   "metadata": {},
   "source": [
    "### Numeriek maken\n",
    "Wat is het type van de elementen in de kolom \"Meetwaarde\"?\n",
    "Als dit float is, dan is alles OK en heb je het bestand juist ingelezen.\n",
    "Als dat niet het geval is, heb je een fout gemaakt bij het inlezen van het bestand.  Kan je zien welke?\n",
    "Zet in dit geval de kolom \"Meetwaarde\" om naar decimale waarden."
   ]
  },
  {
   "cell_type": "code",
   "execution_count": 18,
   "metadata": {},
   "outputs": [
    {
     "name": "stdout",
     "output_type": "stream",
     "text": [
      "<class 'numpy.float64'>\n"
     ]
    }
   ],
   "source": [
    "print(type(data.Meetwaarde[0]))\n",
    "# data.Meetwaarde = smart.Meetwaarde.str.replace(',', '.', regex=False)\n",
    "# data.Meetwaarde = pd.to_numeric(smart.Meetwaarde, errors='coerce') coerce, ignore, raise"
   ]
  },
  {
   "cell_type": "markdown",
   "metadata": {},
   "source": [
    "### Categorical"
   ]
  },
  {
   "cell_type": "markdown",
   "metadata": {},
   "source": [
    "Verwijder alle kolommen die maar 1 waarde of enkel ontbrekende waarden bevatten.  Deze zijn toch maar constanten en hoeven niet bijgehouden te worden."
   ]
  },
  {
   "cell_type": "code",
   "execution_count": 24,
   "metadata": {},
   "outputs": [
    {
     "name": "stdout",
     "output_type": "stream",
     "text": [
      "<class 'pandas.core.frame.DataFrame'>\n",
      "RangeIndex: 11182 entries, 0 to 11181\n",
      "Data columns (total 9 columns):\n",
      " #   Column         Non-Null Count  Dtype  \n",
      "---  ------         --------------  -----  \n",
      " 0   Apparaat-ID    11182 non-null  object \n",
      " 1   Apparaat       11182 non-null  object \n",
      " 2   Datum          11182 non-null  object \n",
      " 3   Uur            11182 non-null  object \n",
      " 4   Meetwaarde     11182 non-null  float64\n",
      " 5   Eenheid        11182 non-null  object \n",
      " 6   Kost (EUR)     11182 non-null  float64\n",
      " 7   Meettype       11182 non-null  object \n",
      " 8   Type apparaat  2304 non-null   object \n",
      "dtypes: float64(2), object(7)\n",
      "memory usage: 786.4+ KB\n"
     ]
    }
   ],
   "source": [
    "data = data.loc[:, data.nunique() > 1]\n",
    "data = data.dropna(axis='columns', how='all')\n",
    "\n",
    "data.info()"
   ]
  },
  {
   "cell_type": "markdown",
   "metadata": {},
   "source": [
    "Zet de kolommen met nominale of ordinale gegevens (strings) om naar een Categorical.  De datums en tijdstippen mag je negeren."
   ]
  },
  {
   "cell_type": "code",
   "execution_count": 25,
   "metadata": {},
   "outputs": [],
   "source": [
    "data['Apparaat-ID'] = pd.Categorical(data['Apparaat-ID'])\n",
    "data['Apparaat'] = pd.Categorical(data['Apparaat'])\n",
    "data['Eenheid'] = pd.Categorical(data['Eenheid'])\n",
    "data['Meettype'] = pd.Categorical(data['Meettype'])\n",
    "data['Type apparaat'] = pd.Categorical(data['Type apparaat'])\n",
    "print(data.info())"
   ]
  },
  {
   "cell_type": "markdown",
   "metadata": {},
   "source": [
    "Geef een lijst van alle kolomnamen die ontbrekende waarden bevatten.  Geef het resultaat als een pandas Series van strings (de namen van de kolommen met ontbrekende waarden)."
   ]
  },
  {
   "cell_type": "markdown",
   "metadata": {},
   "source": []
  },
  {
   "cell_type": "code",
   "execution_count": 33,
   "metadata": {},
   "outputs": [
    {
     "data": {
      "text/plain": [
       "0    Type apparaat\n",
       "dtype: object"
      ]
     },
     "execution_count": 33,
     "metadata": {},
     "output_type": "execute_result"
    }
   ],
   "source": [
    "kolommen = data.isna().any()\n",
    "pd.Series(kolommen.index[kolommen])"
   ]
  },
  {
   "cell_type": "markdown",
   "metadata": {},
   "source": [
    "Schrijf de gegevens nu weg naar een bestand \"smartDevices_resultaat.csv\".  Gebruik een \".\" voor decimale getallen en een tab als deliminator."
   ]
  },
  {
   "cell_type": "code",
   "execution_count": 35,
   "metadata": {},
   "outputs": [],
   "source": [
    "data.to_csv(\"./data/smartDevices_resultaat.csv\", decimal=\".\", sep=\"\\t\", index=False)"
   ]
  },
  {
   "cell_type": "markdown",
   "metadata": {},
   "source": [
    "Kijk na of het bestand juist bewaard werd.  Probeer het eventueel te importeren in een spreadsheet programma."
   ]
  }
 ],
 "metadata": {
  "kernelspec": {
   "display_name": "Python 3 (ipykernel)",
   "language": "python",
   "name": "python3"
  },
  "language_info": {
   "codemirror_mode": {
    "name": "ipython",
    "version": 3
   },
   "file_extension": ".py",
   "mimetype": "text/x-python",
   "name": "python",
   "nbconvert_exporter": "python",
   "pygments_lexer": "ipython3",
   "version": "3.11.2"
  }
 },
 "nbformat": 4,
 "nbformat_minor": 1
}
