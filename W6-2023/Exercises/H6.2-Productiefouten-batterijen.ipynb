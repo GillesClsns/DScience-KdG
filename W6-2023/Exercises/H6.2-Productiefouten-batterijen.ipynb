{
 "cells": [
  {
   "cell_type": "markdown",
   "source": [
    "# Samenhang"
   ],
   "metadata": {
    "collapsed": false
   }
  },
  {
   "cell_type": "code",
   "execution_count": 1,
   "outputs": [],
   "source": [
    "import math\n",
    "import numpy as np\n",
    "import pandas as pd\n",
    "import matplotlib.pyplot as plt\n",
    "from scipy import stats\n",
    "import matplotlib.cm as cm\n",
    "import statistics\n",
    "\n",
    "missing_values = ['n/a', 'na', 'nan', 'N/A', 'NA', 'NaN', 'NAN', '--', 'Missing', 'missing', 'MISSING', 'Unknown',\n",
    "                  'Weet ik niet', 'None', 'ONBEKEND', '\"ontbrekend\"', '\"onbekend\"', 'onbekend']"
   ],
   "metadata": {
    "collapsed": false
   }
  },
  {
   "cell_type": "code",
   "execution_count": 53,
   "outputs": [],
   "source": [
    "from sklearn.linear_model import LinearRegression\n",
    "from sklearn.pipeline import make_pipeline\n",
    "from sklearn.preprocessing import PolynomialFeatures\n",
    "from sklearn.metrics import mean_squared_error, r2_score as r2score\n",
    "class GeneralRegression:\n",
    "    def __init__(self, degree=1, exp=False, log=False):\n",
    "        self.degree = degree\n",
    "        self.exp = exp\n",
    "        self.log = log\n",
    "        self.model = None\n",
    "        self.x_orig = None\n",
    "        self.y_orig = None\n",
    "        self.X = None\n",
    "        self.y = None\n",
    "\n",
    "    def fit(self, x: np.array, y: np.array):\n",
    "        self.x_orig = x\n",
    "        self.y_orig = y\n",
    "        self.X = x.reshape(-1, 1)\n",
    "\n",
    "        if self.exp:\n",
    "            self.y = np.log(y)\n",
    "\n",
    "        else:\n",
    "            self.y = y\n",
    "\n",
    "        if self.log:\n",
    "            self.X = np.log(self.X)\n",
    "\n",
    "        self.model = make_pipeline(PolynomialFeatures(degree=self.degree), LinearRegression())\n",
    "        self.model.fit(self.X, self.y)\n",
    "\n",
    "    def predict(self, x: np.array):\n",
    "        X = x.reshape(-1, 1)\n",
    "\n",
    "        if self.exp:\n",
    "            return np.exp(self.model.predict(X))\n",
    "\n",
    "        if self.log:\n",
    "            return self.model.predict(np.log(X))\n",
    "\n",
    "        return self.model.predict(X)\n",
    "\n",
    "    @property\n",
    "    def r2_score(self):\n",
    "        return r2score(self.y_orig, self.predict(self.x_orig))\n",
    "\n",
    "    @property\n",
    "    def se_(self):\n",
    "        if self.exp:\n",
    "            return mean_squared_error(self.predict(self.X), np.exp(self.y), squared=False)\n",
    "        if self.log:\n",
    "            return mean_squared_error(self.predict(self.X), np.log(self.y), squared=False)\n",
    "        return mean_squared_error(self.predict(self.X), self.y, squared=False)\n",
    "\n",
    "    @property\n",
    "    def coef_(self):\n",
    "        return self.model.steps[1][1].coef_\n",
    "\n",
    "    @property\n",
    "    def intercept_(self):\n",
    "        return self.model.steps[1][1].intercept_"
   ],
   "metadata": {
    "collapsed": false
   }
  },
  {
   "cell_type": "code",
   "execution_count": 60,
   "outputs": [],
   "source": [
    "def outlier_boundaries(x, factor=1.5):\n",
    "    Q1 = x.quantile(0.25)\n",
    "    Q3 = x.quantile(0.75)\n",
    "    I = Q3 - Q1\n",
    "    return [Q1 - factor * I, Q3 + factor * I]\n",
    "\n",
    "\n",
    "def drop_outliers(df, row):\n",
    "    df['Z-Score'] = np.abs((df[row] - df[row].mean()) / df[row].std())\n",
    "    filtered_df = df[df['Z-Score'] <= 3]\n",
    "    filtered_df = filtered_df.drop('Z-Score', axis=1)\n",
    "    return filtered_df\n",
    "\n",
    "\n",
    "def aantal_klassen(series):\n",
    "    n = len(series)\n",
    "    print(\"Sturges (# klassen): \" + str(math.ceil(1 + math.log2(n))))  # Sturges\n",
    "    b = 3.5 * statistics.stdev(series) / (n ** (1 / 3))\n",
    "    print(\"Scott (klasse breedte): \" + str(math.ceil((series.max() - series.min()) / b)))  # Scott\n",
    "    print(\"Scott (# klassen): \" + str(math.ceil(math.sqrt(n))))\n",
    "    print(\"[√n]: \" + str(math.ceil(math.sqrt(n))))\n",
    "\n",
    "\n",
    "def kendall(x, y):\n",
    "    x = x.rank()\n",
    "    y = y.rank()\n",
    "    n = len(x)\n",
    "    aantal = 0\n",
    "\n",
    "    for i in range(1, n - 1):\n",
    "        for j in range(i + 1, n):\n",
    "            aantal = aantal + np.sign(x[i] - x[j]) * np.sign(y[i] - y[j])\n",
    "\n",
    "    return 2 * aantal / (n / (n - 1))\n",
    "\n",
    "\n",
    "def makescatter(x, y):\n",
    "    plt.scatter(x, y)\n",
    "    plt.xlabel(x.name)\n",
    "    plt.ylabel(y.name)\n",
    "    plt.show()\n",
    "\n",
    "def scatterWhitReg(X,y,se=0): #model moet aanwezig zijn\n",
    "    fig, ax = plt.subplots()\n",
    "    _ = ax.scatter(X, y)\n",
    "    xx = np.arange(X.min(), X.max(), (X.max() - X.min()) / 100)\n",
    "    yy = model.predict(xx.reshape(-1, 1))\n",
    "    _ = ax.fill_between(xx, yy - se, yy + se, color=\"yellow\", alpha=0.2)\n",
    "    _ = ax.plot(xx, yy, color='red')\n",
    "    _ = ax.set_xlabel(X.name)\n",
    "    _ = ax.set_ylabel(y.name)\n",
    "    plt.show()"
   ],
   "metadata": {
    "collapsed": false
   }
  },
  {
   "cell_type": "markdown",
   "source": [
    "## Productiefouten batterijen\n",
    "In een fabriek worden batterijen voor smartphones gefabriceerd. De vraag naar deze batterijen varieert\n",
    "nogal sterk. Men heeft het vermoeden dat als de vraag (en dus ook de productie) stijgt, het percentage\n",
    "ontploffende batterijen ook stijgt (en dus: de kwaliteit daalt onder de werkdruk). Dit wil men verifiëren.\n",
    "Er wordt een meting gedaan. Iedere dag wordt het aantal geproduceerde batterijen bijgehouden. Als er een\n",
    "defecte batterij terug wordt gebracht (of er een ontploft), wordt nagegaan op welke dag deze geproduceerd\n",
    "werd. De data vind je terug in het bestand \"batterijen.csv\".\n",
    "De eerste kolom geeft weer hoeveel er geproduceerd werd en de tweede kolom laat zien hoeveel batterijen\n",
    "er defect waren."
   ],
   "metadata": {
    "collapsed": false
   }
  },
  {
   "cell_type": "markdown",
   "source": [
    "1. Lees het bestand in. Er zijn lijnen met meer dan 2 waarden. Bekijk wat Python hiermee doet als je\n",
    "de waarden inleest. Verwijder deze lijnen uit de data. Er zijn uitschieters in de kolom aantalDefect.\n",
    "Verwijder deze. Hoeveel rijen hou je nu over?"
   ],
   "metadata": {
    "collapsed": false
   }
  },
  {
   "cell_type": "code",
   "execution_count": 31,
   "outputs": [
    {
     "name": "stdout",
     "output_type": "stream",
     "text": [
      "93\n"
     ]
    }
   ],
   "source": [
    "df = pd.read_csv(\"./data/batterijen.csv\", header=0, sep=\",\", decimal=\".\", na_values=missing_values)\n",
    "outliers_defect = outlier_boundaries(df.aantalDefect)\n",
    "# outliers_geproduceerd = outlier_boundaries(df.geproduceerd)\n",
    "\n",
    "# # Filter de rijen met uitschieters\n",
    "df = df[(df[\"aantalDefect\"] >= outliers_defect[0]) & (df[\"aantalDefect\"] <= outliers_defect[1])]\n",
    "# df = df[(df[\"geproduceerd\"] >= outliers_geproduceerd[0]) & (df[\"geproduceerd\"] <= outliers_geproduceerd[1])]\n",
    "\n",
    "df.dropna(inplace=True)\n",
    "print(len(df))"
   ],
   "metadata": {
    "collapsed": false
   }
  },
  {
   "cell_type": "markdown",
   "source": [
    "2. Maak een scatterplot van de twee variabelen. Is er een lineair verband?"
   ],
   "metadata": {
    "collapsed": false
   }
  },
  {
   "cell_type": "code",
   "execution_count": 33,
   "outputs": [
    {
     "name": "stdout",
     "output_type": "stream",
     "text": [
      "Er is geen lineair verband. De punten liggen op een kromme. We mogen hier dus geen lineaire regressie op toepassen.\n"
     ]
    },
    {
     "data": {
      "text/plain": "<Figure size 640x480 with 1 Axes>",
      "image/png": "[encoded data removed]"
     },
     "metadata": {},
     "output_type": "display_data"
    }
   ],
   "source": [
    "fig, ax = plt.subplots()\n",
    "ax.scatter(df.geproduceerd, df.aantalDefect)\n",
    "\n",
    "print(\n",
    "    \"Er is geen lineair verband. De punten liggen op een kromme. We mogen hier dus geen lineaire regressie op toepassen.\")"
   ],
   "metadata": {
    "collapsed": false
   }
  },
  {
   "cell_type": "markdown",
   "source": [
    "3. Welke correlatie vind je met de methode van Kendall?"
   ],
   "metadata": {
    "collapsed": false
   }
  },
  {
   "cell_type": "code",
   "execution_count": 35,
   "outputs": [
    {
     "name": "stdout",
     "output_type": "stream",
     "text": [
      "Correlatie methode Kendall: 0.814\n"
     ]
    }
   ],
   "source": [
    "print(f\"Correlatie methode Kendall: {df.geproduceerd.corr(df.aantalDefect, method='kendall').round(4)}\")"
   ],
   "metadata": {
    "collapsed": false
   }
  },
  {
   "cell_type": "markdown",
   "source": [
    "4. Eigenlijk zijn we niet geïnteresseerd in het absolute aantal defecte batterijen, maar wel in het\n",
    "percentage. Deel dus het aantal defecte door het aantal geproduceerde batterijen. Wat is het\n",
    "gemiddeld percentage defecte batterijen?"
   ],
   "metadata": {
    "collapsed": false
   }
  },
  {
   "cell_type": "code",
   "execution_count": 37,
   "outputs": [
    {
     "name": "stdout",
     "output_type": "stream",
     "text": [
      "Gemiddeld percentage defecte batterijen: 2.005238953480454%\n"
     ]
    }
   ],
   "source": [
    "print(f\"Gemiddeld percentage defecte batterijen: {(df.aantalDefect.sum() / df.geproduceerd.sum()) * 100}%\")"
   ],
   "metadata": {
    "collapsed": false
   }
  },
  {
   "cell_type": "markdown",
   "source": [
    "5. Maak terug een scatterplot met het percentage defecte batterijen. Zie je het verschil met de vorige\n",
    "grafiek?"
   ],
   "metadata": {
    "collapsed": false
   }
  },
  {
   "cell_type": "code",
   "execution_count": 44,
   "outputs": [
    {
     "data": {
      "text/plain": "<Figure size 640x480 with 1 Axes>",
      "image/png": "[encoded data removed]"
     },
     "metadata": {},
     "output_type": "display_data"
    },
    {
     "name": "stdout",
     "output_type": "stream",
     "text": [
      "De punten liggen niet meer op een kromme maar vormen meer een wolk die van links onder naar rechts boven gaat\n"
     ]
    }
   ],
   "source": [
    "makescatter(df.geproduceerd, (df.aantalDefect / df.geproduceerd) * 100)\n",
    "print(\"De punten liggen niet meer op een kromme maar vormen meer een wolk die van links onder naar rechts boven gaat\")"
   ],
   "metadata": {
    "collapsed": false
   }
  },
  {
   "cell_type": "markdown",
   "source": [
    "6. Bereken nu de correlatie tussen het aantal geproduceerde batterijen en het percentage defecte\n",
    "batterijen. Wat besluit je?"
   ],
   "metadata": {
    "collapsed": false
   }
  },
  {
   "cell_type": "code",
   "execution_count": 52,
   "outputs": [
    {
     "name": "stdout",
     "output_type": "stream",
     "text": [
      "Correlatie tussen variabelen: 85.03092015597007\n"
     ]
    }
   ],
   "source": [
    "print(f\"Correlatie tussen variabelen: {df.geproduceerd.corr(df.aantalDefect / df.geproduceerd) * 100}\")"
   ],
   "metadata": {
    "collapsed": false
   }
  },
  {
   "cell_type": "markdown",
   "source": [
    "7. Wat is de waarde van R²? Wat betekent dit?"
   ],
   "metadata": {
    "collapsed": false
   }
  },
  {
   "cell_type": "code",
   "execution_count": 58,
   "outputs": [
    {
     "name": "stdout",
     "output_type": "stream",
     "text": [
      "0.7230257382570956\n",
      "Dit wil zeggen dat 73,30% van de fouten dus door het tempo van de productie komt.\n"
     ]
    }
   ],
   "source": [
    "model = GeneralRegression(degree=1)\n",
    "model.fit(df.geproduceerd.to_numpy(), ((df.aantalDefect / df.geproduceerd) * 100).to_numpy())\n",
    "print(model.r2_score)\n",
    "\n",
    "print(\"Dit wil zeggen dat 73,30% van de fouten dus door het tempo van de productie komt.\")"
   ],
   "metadata": {
    "collapsed": false
   }
  },
  {
   "cell_type": "markdown",
   "source": [
    "8. Teken de regressielijn bij de scatterplot. Wat zijn de waarden voor slope en intercept?"
   ],
   "metadata": {
    "collapsed": false
   }
  },
  {
   "cell_type": "code",
   "execution_count": 62,
   "outputs": [
    {
     "name": "stdout",
     "output_type": "stream",
     "text": [
      "-0.05587171250994416\n",
      "0.0007439079104402141\n"
     ]
    },
    {
     "data": {
      "text/plain": "<Figure size 640x480 with 1 Axes>",
      "image/png": "[encoded data removed]"
     },
     "metadata": {},
     "output_type": "display_data"
    }
   ],
   "source": [
    "print(model.intercept_) # Intercept\n",
    "print(model.coef_[1]) # Slope\n",
    "\n",
    "scatterWhitReg(df.geproduceerd, (df.aantalDefect / df.geproduceerd) * 100)"
   ],
   "metadata": {
    "collapsed": false
   }
  },
  {
   "cell_type": "markdown",
   "source": [
    "9. Wat is de standaardschattingsfout? Wat betekent dit?"
   ],
   "metadata": {
    "collapsed": false
   }
  },
  {
   "cell_type": "code",
   "execution_count": 65,
   "outputs": [
    {
     "name": "stdout",
     "output_type": "stream",
     "text": [
      "0.44934746067827963\n",
      "Hoe kleiner de waarde, hoe beter de lijn erdoor gaat. Men noemt deze waarde de “standaard schattingsfout\n",
      "De gevonden lijn zit dus gemiddeld 0,45% naast de echte waarde\n"
     ]
    }
   ],
   "source": [
    "print(model.se_)\n",
    "print(\"Hoe kleiner de waarde, hoe beter de lijn erdoor gaat. Men noemt deze waarde de “standaard schattingsfout\\n\"\n",
    "      \"De gevonden lijn zit dus gemiddeld 0,45% naast de echte waarde\")"
   ],
   "metadata": {
    "collapsed": false
   }
  },
  {
   "cell_type": "markdown",
   "source": [
    "10. Als de productie opgedreven zou worden tot 8000 batterijen/dag. Hoeveel defecte batterijen zou je\n",
    "dan verwachten?"
   ],
   "metadata": {
    "collapsed": false
   }
  },
  {
   "cell_type": "code",
   "execution_count": 68,
   "outputs": [
    {
     "name": "stdout",
     "output_type": "stream",
     "text": [
      "[5.89539157]\n",
      "We verwachten dus 5,9% defecte kaarten.\n"
     ]
    }
   ],
   "source": [
    "print(model.predict(np.array([8000])))\n",
    "print(\"We verwachten dus 5,9% defecte kaarten.\")"
   ],
   "metadata": {
    "collapsed": false
   }
  }
 ],
 "metadata": {
  "kernelspec": {
   "display_name": "Python 3",
   "language": "python",
   "name": "python3"
  },
  "language_info": {
   "codemirror_mode": {
    "name": "ipython",
    "version": 2
   },
   "file_extension": ".py",
   "mimetype": "text/x-python",
   "name": "python",
   "nbconvert_exporter": "python",
   "pygments_lexer": "ipython2",
   "version": "2.7.6"
  }
 },
 "nbformat": 4,
 "nbformat_minor": 0
}
