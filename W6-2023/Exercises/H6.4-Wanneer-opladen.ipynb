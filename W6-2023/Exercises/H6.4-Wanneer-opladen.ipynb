{
 "cells": [
  {
   "cell_type": "markdown",
   "metadata": {},
   "source": [
    "# Samenhang"
   ]
  },
  {
   "cell_type": "code",
   "execution_count": 1,
   "metadata": {},
   "outputs": [],
   "source": [
    "import math\n",
    "import numpy as np\n",
    "import pandas as pd\n",
    "import matplotlib.pyplot as plt\n",
    "from scipy import stats\n",
    "import matplotlib.cm as cm\n",
    "import statistics\n",
    "\n",
    "missing_values = ['n/a', 'na', 'nan', 'N/A', 'NA', 'NaN', 'NAN', '--', 'Missing', 'missing', 'MISSING', 'Unknown',\n",
    "                  'Weet ik niet', 'None', 'ONBEKEND', '\"ontbrekend\"', '\"onbekend\"', 'onbekend']"
   ]
  },
  {
   "cell_type": "code",
   "execution_count": 2,
   "metadata": {},
   "outputs": [],
   "source": [
    "from sklearn.linear_model import LinearRegression\n",
    "from sklearn.pipeline import make_pipeline\n",
    "from sklearn.preprocessing import PolynomialFeatures\n",
    "from sklearn.metrics import mean_squared_error, r2_score as r2score\n",
    "class GeneralRegression:\n",
    "    def __init__(self, degree=1, exp=False, log=False):\n",
    "        self.degree = degree\n",
    "        self.exp = exp\n",
    "        self.log = log\n",
    "        self.model = None\n",
    "        self.x_orig = None\n",
    "        self.y_orig = None\n",
    "        self.X = None\n",
    "        self.y = None\n",
    "\n",
    "    def fit(self, x: np.array, y: np.array):\n",
    "        self.x_orig = x\n",
    "        self.y_orig = y\n",
    "        self.X = x.reshape(-1, 1)\n",
    "\n",
    "        if self.exp:\n",
    "            self.y = np.log(y)\n",
    "\n",
    "        else:\n",
    "            self.y = y\n",
    "\n",
    "        if self.log:\n",
    "            self.X = np.log(self.X)\n",
    "\n",
    "        self.model = make_pipeline(PolynomialFeatures(degree=self.degree), LinearRegression())\n",
    "        self.model.fit(self.X, self.y)\n",
    "\n",
    "    def predict(self, x: np.array):\n",
    "        X = x.reshape(-1, 1)\n",
    "\n",
    "        if self.exp:\n",
    "            return np.exp(self.model.predict(X))\n",
    "\n",
    "        if self.log:\n",
    "            return self.model.predict(np.log(X))\n",
    "\n",
    "        return self.model.predict(X)\n",
    "\n",
    "    @property\n",
    "    def r2_score(self):\n",
    "        return r2score(self.y_orig, self.predict(self.x_orig))\n",
    "\n",
    "    @property\n",
    "    def se_(self):\n",
    "        if self.exp:\n",
    "            return mean_squared_error(self.predict(self.X), np.exp(self.y), squared=False)\n",
    "        if self.log:\n",
    "            return mean_squared_error(self.predict(self.X), np.log(self.y), squared=False)\n",
    "        return mean_squared_error(self.predict(self.X), self.y, squared=False)\n",
    "\n",
    "    @property\n",
    "    def coef_(self):\n",
    "        return self.model.steps[1][1].coef_\n",
    "\n",
    "    @property\n",
    "    def intercept_(self):\n",
    "        return self.model.steps[1][1].intercept_"
   ]
  },
  {
   "cell_type": "code",
   "execution_count": 19,
   "metadata": {},
   "outputs": [],
   "source": [
    "def outlier_boundaries(x, factor=1.5):\n",
    "    Q1 = x.quantile(0.25)\n",
    "    Q3 = x.quantile(0.75)\n",
    "    I = Q3 - Q1\n",
    "    return [Q1 - factor * I, Q3 + factor * I]\n",
    "\n",
    "\n",
    "def drop_outliers(df, row):\n",
    "    df['Z-Score'] = np.abs((df[row] - df[row].mean()) / df[row].std())\n",
    "    filtered_df = df[df['Z-Score'] <= 3]\n",
    "    filtered_df = filtered_df.drop('Z-Score', axis=1)\n",
    "    return filtered_df\n",
    "\n",
    "\n",
    "def aantal_klassen(series):\n",
    "    n = len(series)\n",
    "    print(\"Sturges (# klassen): \" + str(math.ceil(1 + math.log2(n))))  # Sturges\n",
    "    b = 3.5 * statistics.stdev(series) / (n ** (1 / 3))\n",
    "    print(\"Scott (klasse breedte): \" + str(math.ceil((series.max() - series.min()) / b)))  # Scott\n",
    "    print(\"Scott (# klassen): \" + str(math.ceil(math.sqrt(n))))\n",
    "    print(\"[√n]: \" + str(math.ceil(math.sqrt(n))))\n",
    "\n",
    "\n",
    "def kendall(x, y):\n",
    "    x = x.rank()\n",
    "    y = y.rank()\n",
    "    n = len(x)\n",
    "    aantal = 0\n",
    "\n",
    "    for i in range(1, n - 1):\n",
    "        for j in range(i + 1, n):\n",
    "            aantal = aantal + np.sign(x[i] - x[j]) * np.sign(y[i] - y[j])\n",
    "\n",
    "    return 2 * aantal / (n / (n - 1))\n",
    "\n",
    "\n",
    "def makescatter(x, y):\n",
    "    plt.scatter(x, y)\n",
    "    plt.xlabel(x.name)\n",
    "    plt.ylabel(y.name)\n",
    "    plt.show()\n",
    "\n",
    "def scatterWhitReg(X,y,se=0): #model moet aanwezig zijn\n",
    "    fig, ax = plt.subplots()\n",
    "    _ = ax.scatter(X, y)\n",
    "    xx = np.arange(X.min(), X.max(), (X.max() - X.min()) / 100)\n",
    "    yy = model.predict(xx.reshape(-1, 1))\n",
    "    _ = ax.fill_between(xx, yy - se, yy + se, color=\"yellow\", alpha=0.2)\n",
    "    _ = ax.plot(xx, yy, color='red')\n",
    "    _ = ax.set_xlabel(X.name)\n",
    "    _ = ax.set_ylabel(y.name)\n",
    "    plt.show()\n",
    "\n",
    "def bestmodel(x,y):\n",
    "    modelD1 = GeneralRegression(degree=1)\n",
    "    modelD2 = GeneralRegression(degree=2)\n",
    "    modelD3 = GeneralRegression(degree=3)\n",
    "    modelL1 = GeneralRegression(degree=1, log=True)\n",
    "    modelE1 = GeneralRegression(degree=1, exp=True)\n",
    "\n",
    "    modelD1.fit(x.to_numpy(),y.to_numpy())\n",
    "    modelD2.fit(x.to_numpy(),y.to_numpy())\n",
    "    modelD3.fit(x.to_numpy(),y.to_numpy())\n",
    "    modelL1.fit(x.to_numpy(),y.to_numpy())\n",
    "    modelE1.fit(x.to_numpy(),y.to_numpy())\n",
    "    out = pd.Series(data=[modelD1.r2_score,modelD2.r2_score,modelD3.r2_score,modelL1.r2_score,modelE1.r2_score],index=[\"lineair:\",\"kwadratisch:\",\"kubisch:\",\"logaritmisch\",\"exponentieel\"])\n",
    "    return out.sort_values(ascending=False)"
   ]
  },
  {
   "cell_type": "markdown",
   "metadata": {},
   "source": [
    "## Wanneer laad ik mijn smartphone op?\n",
    "We weten dat de batterijlading van een smartphone sterk daalt als je hem veel gebruikt. Nu willen we dit in\n",
    "kaart brengen. We hebben een aantal testexemplaren volledig opgeladen en geven deze mee met\n",
    "personen die de smartphones gebruiken. Wanneer de batterijlading op 20% komt, noteren de personen het\n",
    "aantal uren standby en het aantal uren gebruikt. Je vindt deze data in \"smartphones.csv\"."
   ]
  },
  {
   "cell_type": "markdown",
   "metadata": {},
   "source": [
    "1. Lees de data in. Hoeveel rijen zijn er?"
   ]
  },
  {
   "cell_type": "code",
   "execution_count": 6,
   "metadata": {},
   "outputs": [
    {
     "name": "stdout",
     "output_type": "stream",
     "text": [
      "100\n"
     ]
    }
   ],
   "source": [
    "df = pd.read_csv(\"./data/smartphones.csv\", sep=\",\", decimal=\".\", header=0)\n",
    "print(len(df))"
   ]
  },
  {
   "cell_type": "markdown",
   "metadata": {},
   "source": [
    "2. Bereken per toestel het totaal aantal uren dat deze aan stond tot 20% (gebruikte uren en standby\n",
    "uren). Hoeveel uren vind je voor het eerste toestel?"
   ]
  },
  {
   "cell_type": "code",
   "execution_count": 8,
   "metadata": {},
   "outputs": [
    {
     "data": {
      "text/plain": [
       "96.50572737673546"
      ]
     },
     "execution_count": 8,
     "metadata": {},
     "output_type": "execute_result"
    }
   ],
   "source": [
    "df['total'] = df.usage + df.standby\n",
    "df.total[0]"
   ]
  },
  {
   "cell_type": "markdown",
   "metadata": {},
   "source": [
    "3. We zoeken nu een verband tussen het aantal uren dat de smartphone gebruikt werd en het totaal\n",
    "aantal uren totdat de batterij op 20% stond. Maak eerst een scatterplot van deze 2 variabelen. Wat\n",
    "zie je?"
   ]
  },
  {
   "cell_type": "code",
   "execution_count": 10,
   "metadata": {},
   "outputs": [
    {
     "data": {
      "image/png": "[encoded data removed]",
      "text/plain": [
       "<Figure size 640x480 with 1 Axes>"
      ]
     },
     "metadata": {},
     "output_type": "display_data"
    },
    {
     "name": "stdout",
     "output_type": "stream",
     "text": [
      "Neergaande trend, niet duidelijk of het lineair is.\n"
     ]
    }
   ],
   "source": [
    "makescatter(df.usage, df.total)\n",
    "print(\"Neergaande trend, niet duidelijk of het lineair is.\")"
   ]
  },
  {
   "cell_type": "markdown",
   "metadata": {},
   "source": [
    "4. Bereken de correlatie volgens Pearson en Kendall. Wat zeggen deze waarden?"
   ]
  },
  {
   "cell_type": "code",
   "execution_count": 12,
   "metadata": {},
   "outputs": [
    {
     "name": "stdout",
     "output_type": "stream",
     "text": [
      "-0.6969470236980841\n",
      "-0.5175757575757577\n",
      "Er is een redelijk negatief lineair verband tussen de twee.\n"
     ]
    }
   ],
   "source": [
    "print(df.usage.corr(df.total))\n",
    "print(df.usage.corr(df.total, method=\"kendall\"))\n",
    "\n",
    "print(\"Er is een redelijk negatief lineair verband tussen de twee.\")"
   ]
  },
  {
   "cell_type": "markdown",
   "metadata": {},
   "source": [
    "5. Teken de regressielijn bij de scatterplot. Wat zijn de waarden voor slope en intercept?"
   ]
  },
  {
   "cell_type": "code",
   "execution_count": 15,
   "metadata": {},
   "outputs": [
    {
     "data": {
      "image/png": "[encoded data removed]",
      "text/plain": [
       "<Figure size 640x480 with 1 Axes>"
      ]
     },
     "metadata": {},
     "output_type": "display_data"
    },
    {
     "name": "stdout",
     "output_type": "stream",
     "text": [
      "120.25878243961765\n",
      "-11.470288827370968\n"
     ]
    }
   ],
   "source": [
    "model = GeneralRegression(degree=1)\n",
    "model.fit(df.usage.to_numpy(), df.total.to_numpy())\n",
    "\n",
    "scatterWhitReg(df.usage, df.total)\n",
    "\n",
    "print(model.intercept_) # Intercept\n",
    "print(model.coef_[1]) # Slope"
   ]
  },
  {
   "cell_type": "markdown",
   "metadata": {},
   "source": [
    "6. Wat is de waarde van R²? Wat is de betekenis?\n",
    "\n",
    "(Antwoord =\n",
    "48,6% van de variantie in het totaal gebruik wordt verklaard door de variantie in het gebruik van de smartphone.  Het gebruik van de smartphone bepaalt dus voor 48,6% de tijd die je tussen 2 laadbeurten hebt.  Er is dus ook nog een ander aandeel dat niet aangetoond wordt (kwaliteit batterij, het soort gebruik, welke apps, temperatuur, instellingen, ..)."
   ]
  },
  {
   "cell_type": "code",
   "execution_count": 16,
   "metadata": {},
   "outputs": [
    {
     "data": {
      "text/plain": [
       "0.4857351538416179"
      ]
     },
     "execution_count": 16,
     "metadata": {},
     "output_type": "execute_result"
    }
   ],
   "source": [
    "model.r2_score"
   ]
  },
  {
   "cell_type": "markdown",
   "metadata": {},
   "source": [
    "7. Wat is de standaardschattingsfout? Wat betekent dit?\n",
    "\n",
    "(Antwoord = Als je de totale tijd wil voorspellen, zit je er gemiddeld 21,42 uur naast)"
   ]
  },
  {
   "cell_type": "code",
   "execution_count": 17,
   "metadata": {},
   "outputs": [
    {
     "data": {
      "text/plain": [
       "21.419935632281913"
      ]
     },
     "execution_count": 17,
     "metadata": {},
     "output_type": "execute_result"
    }
   ],
   "source": [
    "model.se_"
   ]
  },
  {
   "cell_type": "markdown",
   "metadata": {},
   "source": [
    "8. Als iemand een smartphone gedurende 3 uur nodig heeft, hoe lang zal het dan duren vooraleer de smartphone opgeladen moet worden?"
   ]
  },
  {
   "cell_type": "code",
   "execution_count": 18,
   "metadata": {},
   "outputs": [
    {
     "data": {
      "text/plain": [
       "array([85.84791596])"
      ]
     },
     "execution_count": 18,
     "metadata": {},
     "output_type": "execute_result"
    }
   ],
   "source": [
    "model.predict(np.array([3]))"
   ]
  },
  {
   "cell_type": "markdown",
   "metadata": {},
   "source": [
    "9. Stel dat je een verband zoekt tussen het gebruikspercentage en de totale tijd voordat je moet opladen. Zoek de juiste variabelen en maak een scatterplot.\n",
    "Wat zie je? Kan je hiervoor lineaire regressie gebruiken? Waarom wel of niet?\n",
    "Welk regressiemodel is in dit geval het beste? Wat is dan de uiteindelijke formule voor het model?"
   ]
  },
  {
   "cell_type": "code",
   "execution_count": 20,
   "metadata": {},
   "outputs": [
    {
     "name": "stdout",
     "output_type": "stream",
     "text": [
      "logaritmisch    0.793184\n",
      "kubisch:        0.780096\n",
      "kwadratisch:    0.724954\n",
      "exponentieel    0.643213\n",
      "lineair:        0.499673\n",
      "dtype: float64\n"
     ]
    }
   ],
   "source": [
    "print(bestmodel((df['usage']/df['total'])*100,df['total']))"
   ]
  },
  {
   "cell_type": "markdown",
   "metadata": {},
   "source": [
    "Beste: logaritmisch!"
   ]
  }
 ],
 "metadata": {
  "kernelspec": {
   "display_name": "Python 3 (ipykernel)",
   "language": "python",
   "name": "python3"
  },
  "language_info": {
   "codemirror_mode": {
    "name": "ipython",
    "version": 3
   },
   "file_extension": ".py",
   "mimetype": "text/x-python",
   "name": "python",
   "nbconvert_exporter": "python",
   "pygments_lexer": "ipython3",
   "version": "3.11.2"
  }
 },
 "nbformat": 4,
 "nbformat_minor": 1
}
