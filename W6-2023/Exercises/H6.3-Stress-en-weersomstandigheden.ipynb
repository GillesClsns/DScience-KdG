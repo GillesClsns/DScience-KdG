{
 "cells": [
  {
   "cell_type": "markdown",
   "source": [
    "# Samenhang"
   ],
   "metadata": {
    "collapsed": false
   }
  },
  {
   "cell_type": "code",
   "execution_count": 1,
   "outputs": [],
   "source": [
    "import math\n",
    "import numpy as np\n",
    "import pandas as pd\n",
    "import matplotlib.pyplot as plt\n",
    "from scipy import stats\n",
    "import matplotlib.cm as cm\n",
    "import statistics\n",
    "\n",
    "missing_values = ['n/a', 'na', 'nan', 'N/A', 'NA', 'NaN', 'NAN', '--', 'Missing', 'missing', 'MISSING', 'Unknown',\n",
    "                  'Weet ik niet', 'None', 'ONBEKEND', '\"ontbrekend\"', '\"onbekend\"', 'onbekend']"
   ],
   "metadata": {
    "collapsed": false
   }
  },
  {
   "cell_type": "code",
   "execution_count": 2,
   "outputs": [],
   "source": [
    "from sklearn.linear_model import LinearRegression\n",
    "from sklearn.pipeline import make_pipeline\n",
    "from sklearn.preprocessing import PolynomialFeatures\n",
    "from sklearn.metrics import mean_squared_error, r2_score as r2score\n",
    "class GeneralRegression:\n",
    "    def __init__(self, degree=1, exp=False, log=False):\n",
    "        self.degree = degree\n",
    "        self.exp = exp\n",
    "        self.log = log\n",
    "        self.model = None\n",
    "        self.x_orig = None\n",
    "        self.y_orig = None\n",
    "        self.X = None\n",
    "        self.y = None\n",
    "\n",
    "    def fit(self, x: np.array, y: np.array):\n",
    "        self.x_orig = x\n",
    "        self.y_orig = y\n",
    "        self.X = x.reshape(-1, 1)\n",
    "\n",
    "        if self.exp:\n",
    "            self.y = np.log(y)\n",
    "\n",
    "        else:\n",
    "            self.y = y\n",
    "\n",
    "        if self.log:\n",
    "            self.X = np.log(self.X)\n",
    "\n",
    "        self.model = make_pipeline(PolynomialFeatures(degree=self.degree), LinearRegression())\n",
    "        self.model.fit(self.X, self.y)\n",
    "\n",
    "    def predict(self, x: np.array):\n",
    "        X = x.reshape(-1, 1)\n",
    "\n",
    "        if self.exp:\n",
    "            return np.exp(self.model.predict(X))\n",
    "\n",
    "        if self.log:\n",
    "            return self.model.predict(np.log(X))\n",
    "\n",
    "        return self.model.predict(X)\n",
    "\n",
    "    @property\n",
    "    def r2_score(self):\n",
    "        return r2score(self.y_orig, self.predict(self.x_orig))\n",
    "\n",
    "    @property\n",
    "    def se_(self):\n",
    "        if self.exp:\n",
    "            return mean_squared_error(self.predict(self.X), np.exp(self.y), squared=False)\n",
    "        if self.log:\n",
    "            return mean_squared_error(self.predict(self.X), np.log(self.y), squared=False)\n",
    "        return mean_squared_error(self.predict(self.X), self.y, squared=False)\n",
    "\n",
    "    @property\n",
    "    def coef_(self):\n",
    "        return self.model.steps[1][1].coef_\n",
    "\n",
    "    @property\n",
    "    def intercept_(self):\n",
    "        return self.model.steps[1][1].intercept_"
   ],
   "metadata": {
    "collapsed": false
   }
  },
  {
   "cell_type": "code",
   "execution_count": 3,
   "outputs": [],
   "source": [
    "def outlier_boundaries(x, factor=1.5):\n",
    "    Q1 = x.quantile(0.25)\n",
    "    Q3 = x.quantile(0.75)\n",
    "    I = Q3 - Q1\n",
    "    return [Q1 - factor * I, Q3 + factor * I]\n",
    "\n",
    "\n",
    "def drop_outliers(df, row):\n",
    "    df['Z-Score'] = np.abs((df[row] - df[row].mean()) / df[row].std())\n",
    "    filtered_df = df[df['Z-Score'] <= 3]\n",
    "    filtered_df = filtered_df.drop('Z-Score', axis=1)\n",
    "    return filtered_df\n",
    "\n",
    "\n",
    "def aantal_klassen(series):\n",
    "    n = len(series)\n",
    "    print(\"Sturges (# klassen): \" + str(math.ceil(1 + math.log2(n))))  # Sturges\n",
    "    b = 3.5 * statistics.stdev(series) / (n ** (1 / 3))\n",
    "    print(\"Scott (klasse breedte): \" + str(math.ceil((series.max() - series.min()) / b)))  # Scott\n",
    "    print(\"Scott (# klassen): \" + str(math.ceil(math.sqrt(n))))\n",
    "    print(\"[√n]: \" + str(math.ceil(math.sqrt(n))))\n",
    "\n",
    "\n",
    "def kendall(x, y):\n",
    "    x = x.rank()\n",
    "    y = y.rank()\n",
    "    n = len(x)\n",
    "    aantal = 0\n",
    "\n",
    "    for i in range(1, n - 1):\n",
    "        for j in range(i + 1, n):\n",
    "            aantal = aantal + np.sign(x[i] - x[j]) * np.sign(y[i] - y[j])\n",
    "\n",
    "    return 2 * aantal / (n / (n - 1))\n",
    "\n",
    "\n",
    "def makescatter(x, y):\n",
    "    plt.scatter(x, y)\n",
    "    plt.xlabel(x.name)\n",
    "    plt.ylabel(y.name)\n",
    "    plt.show()\n",
    "\n",
    "def scatterWhitReg(X,y,se=0): #model moet aanwezig zijn\n",
    "    fig, ax = plt.subplots()\n",
    "    _ = ax.scatter(X, y)\n",
    "    xx = np.arange(X.min(), X.max(), (X.max() - X.min()) / 100)\n",
    "    yy = model.predict(xx.reshape(-1, 1))\n",
    "    _ = ax.fill_between(xx, yy - se, yy + se, color=\"yellow\", alpha=0.2)\n",
    "    _ = ax.plot(xx, yy, color='red')\n",
    "    _ = ax.set_xlabel(X.name)\n",
    "    _ = ax.set_ylabel(y.name)\n",
    "    plt.show()"
   ],
   "metadata": {
    "collapsed": false
   }
  },
  {
   "cell_type": "markdown",
   "source": [
    "## Stress en weersomstandigheden\n",
    "In deze studie vragen we ons af welke invloed het weer heeft op het stressgevoel. We vroegen een aantal\n",
    "personen om iedere dag hun stressgevoel te noteren. Bij deze gegevens noteerden we de gemiddelde\n",
    "temperatuur, luchtvochtigheid en hoeveelheid neerslag op die dag."
   ],
   "metadata": {
    "collapsed": false
   }
  },
  {
   "cell_type": "markdown",
   "source": [
    "1. lees de data in. Welke kolommen bevatten NA-waarden? Verwijder de rijen met NA-waarden.\n",
    "Verwijder de rijen met extreme uitschieters bij neerslag. De luchtvochtigheid mag niet hoger zijn dan 100. Verwijder de rijen waarbij dat zo is. Hoeveel rijen hou je nu over?"
   ],
   "metadata": {
    "collapsed": false
   }
  },
  {
   "cell_type": "code",
   "execution_count": 18,
   "outputs": [
    {
     "name": "stdout",
     "output_type": "stream",
     "text": [
      "1090\n"
     ]
    }
   ],
   "source": [
    "df = pd.read_csv(\"./data/stress.csv\", sep=\"\\t\", decimal=\",\", header=0, na_values=missing_values)\n",
    "df.drop(df[df['vochtigheid']>100].index,inplace=True)\n",
    "df.dropna(inplace=True)\n",
    "\n",
    "# # Filter de rijen met uitschieters\n",
    "# outliers_neerslag = outlier_boundaries(df.neerslag)\n",
    "# df = df[(df.neerslag >= outliers_neerslag[0]) & (df.neerslag <= outliers_neerslag[1])]\n",
    "\n",
    "df = drop_outliers(df, \"neerslag\")\n",
    "print(len(df))"
   ],
   "metadata": {
    "collapsed": false
   }
  },
  {
   "cell_type": "markdown",
   "source": [
    "2. Welk meetniveau hebben de kolommen?"
   ],
   "metadata": {
    "collapsed": false
   }
  },
  {
   "cell_type": "markdown",
   "source": [
    "Stress: ordinaal\n",
    "Temp: interval\n",
    "Neerslag: ratio\n",
    "Vochtigheid: ratio"
   ],
   "metadata": {
    "collapsed": false
   }
  },
  {
   "cell_type": "markdown",
   "source": [
    "3. Wat is de gemiddelde temperatuur, luchtvochtigheid en neerslag?"
   ],
   "metadata": {
    "collapsed": false
   }
  },
  {
   "cell_type": "code",
   "execution_count": 20,
   "outputs": [
    {
     "name": "stdout",
     "output_type": "stream",
     "text": [
      "10.32 79.88 2.37\n"
     ]
    }
   ],
   "source": [
    "gem_temp = df.temp.mean().round(2)\n",
    "gem_vocht = df.vochtigheid.mean().round(2)\n",
    "gem_neerslag = df.neerslag.mean().round(2)\n",
    "print(gem_temp, gem_vocht, gem_neerslag)"
   ],
   "metadata": {
    "collapsed": false
   }
  },
  {
   "cell_type": "markdown",
   "source": [
    "4. Zoek de correlatie tussen stress en temperatuur. Welke methode gebruik je best? Welke waarde\n",
    "vind je? Wat betekent deze?"
   ],
   "metadata": {
    "collapsed": false
   }
  },
  {
   "cell_type": "code",
   "execution_count": 25,
   "outputs": [
    {
     "name": "stdout",
     "output_type": "stream",
     "text": [
      "0.6533314631732314\n",
      "Aangezien stress ordinaal is en temperatuur interval, kunnen we Pearson niet gebruiken.\n",
      "Een betere maat is Kendall. een sterke positieve lineaire correlatie\n"
     ]
    }
   ],
   "source": [
    "print(df.stress.corr(df.temp, method=\"kendall\"))\n",
    "\n",
    "print(\"Aangezien stress ordinaal is en temperatuur interval, kunnen we Pearson niet gebruiken.\\nEen betere maat is Kendall. een sterke positieve lineaire correlatie\")"
   ],
   "metadata": {
    "collapsed": false
   }
  },
  {
   "cell_type": "markdown",
   "source": [
    "5. Zoek de correlatie tussen stress en luchtvochtigheid. Welke waarde vind je? Wat betekent deze?"
   ],
   "metadata": {
    "collapsed": false
   }
  },
  {
   "cell_type": "code",
   "execution_count": 27,
   "outputs": [
    {
     "name": "stdout",
     "output_type": "stream",
     "text": [
      "-0.3220206998144224\n",
      "Dit betekent een negatief zwak lineair verband.\n"
     ]
    }
   ],
   "source": [
    "print(df.stress.corr(df.vochtigheid, method=\"kendall\"))\n",
    "print(\"Dit betekent een negatief zwak lineair verband.\")"
   ],
   "metadata": {
    "collapsed": false
   }
  },
  {
   "cell_type": "markdown",
   "source": [
    "6. Zoek de correlatie tussen stress en neerslag. Welke waarde vind je? Wat betekent deze?"
   ],
   "metadata": {
    "collapsed": false
   }
  },
  {
   "cell_type": "code",
   "execution_count": 29,
   "outputs": [
    {
     "name": "stdout",
     "output_type": "stream",
     "text": [
      "0.0032704318362192096\n",
      "Dit betekent geen lineair verband.\n"
     ]
    }
   ],
   "source": [
    "print(df.stress.corr(df.neerslag, method=\"kendall\"))\n",
    "print(\"Dit betekent geen lineair verband.\")"
   ],
   "metadata": {
    "collapsed": false
   }
  },
  {
   "cell_type": "markdown",
   "source": [
    "7. Welke factoren spelen dus een rol in het stressgevoel?"
   ],
   "metadata": {
    "collapsed": false
   }
  },
  {
   "cell_type": "markdown",
   "source": [
    "Temperatuur speelt dus duidelijk een rol op het stressgevoel. Luchtvochtigheid\n",
    "slechts in heel kleine mate"
   ],
   "metadata": {
    "collapsed": false
   }
  }
 ],
 "metadata": {
  "kernelspec": {
   "display_name": "Python 3",
   "language": "python",
   "name": "python3"
  },
  "language_info": {
   "codemirror_mode": {
    "name": "ipython",
    "version": 2
   },
   "file_extension": ".py",
   "mimetype": "text/x-python",
   "name": "python",
   "nbconvert_exporter": "python",
   "pygments_lexer": "ipython2",
   "version": "2.7.6"
  }
 },
 "nbformat": 4,
 "nbformat_minor": 0
}
