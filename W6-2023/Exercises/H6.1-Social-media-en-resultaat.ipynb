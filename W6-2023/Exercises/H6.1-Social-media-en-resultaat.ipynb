{
 "cells": [
  {
   "cell_type": "markdown",
   "metadata": {},
   "source": [
    "# Samenhang"
   ]
  },
  {
   "cell_type": "code",
   "execution_count": 81,
   "metadata": {},
   "outputs": [],
   "source": [
    "import math\n",
    "import numpy as np\n",
    "import pandas as pd\n",
    "import matplotlib.pyplot as plt\n",
    "from scipy import stats\n",
    "import matplotlib.cm as cm\n",
    "import statistics\n",
    "\n",
    "missing_values = ['n/a', 'na', 'nan', 'N/A', 'NA', 'NaN', 'NAN', '--', 'Missing', 'missing', 'MISSING', 'Unknown',\n",
    "                  'Weet ik niet', 'None', 'ONBEKEND', '\"ontbrekend\"', '\"onbekend\"', 'onbekend']"
   ]
  },
  {
   "cell_type": "code",
   "execution_count": 82,
   "metadata": {},
   "outputs": [],
   "source": [
    "def outlier_boundaries(x, factor=1.5):\n",
    "    Q1 = x.quantile(0.25)\n",
    "    Q3 = x.quantile(0.75)\n",
    "    I = Q3 - Q1\n",
    "    return [Q1 - factor * I, Q3 + factor * I]\n",
    "\n",
    "\n",
    "def drop_outliers(df, row):\n",
    "    df['Z-Score'] = np.abs((df[row] - df[row].mean()) / df[row].std())\n",
    "    filtered_df = df[df['Z-Score'] <= 3]\n",
    "    filtered_df = filtered_df.drop('Z-Score', axis=1)\n",
    "    return filtered_df\n",
    "\n",
    "\n",
    "def aantal_klassen(series):\n",
    "    n = len(series)\n",
    "    print(\"Sturges (# klassen): \" + str(math.ceil(1 + math.log2(n))))  # Sturges\n",
    "    b = 3.5 * statistics.stdev(series) / (n ** (1 / 3))\n",
    "    print(\"Scott (klasse breedte): \" + str(math.ceil((series.max() - series.min()) / b)))  # Scott\n",
    "    print(\"Scott (# klassen): \" + str(math.ceil(math.sqrt(n))))\n",
    "    print(\"[√n]: \" + str(math.ceil(math.sqrt(n))))\n",
    "\n",
    "\n",
    "def kendall(x, y):\n",
    "    x = x.rank()\n",
    "    y = y.rank()\n",
    "    n = len(x)\n",
    "    aantal = 0\n",
    "\n",
    "    for i in range(1, n - 1):\n",
    "        for j in range(i + 1, n):\n",
    "            aantal = aantal + np.sign(x[i] - x[j]) * np.sign(y[i] - y[j])\n",
    "\n",
    "    return 2 * aantal / (n / (n - 1))"
   ]
  },
  {
   "cell_type": "markdown",
   "metadata": {},
   "source": [
    "## Sociale media en studieresultaat\n",
    "We willen nagaan of er een verband bestaat tussen het gebruik van sociale media en de prestaties van\n",
    "studenten.\n",
    "We vragen aan 1064 studenten hoeveel uren ze gemiddeld per dag met sociale media bezig zijn. Onder\n",
    "sociale media verstaan we Facebook, YouTube, blogs, Twitter, MySpace en LinkedIn.\n",
    "We gaan ook na wat de eindscore is van deze studenten op het einde van het jaar.\n",
    "Het resultaat van deze enquête vind je in het bestand \"socialeMediaVsPunten.csv\"."
   ]
  },
  {
   "cell_type": "markdown",
   "metadata": {},
   "source": [
    "1. Lees dit bestand in. Let erop dat het aantal uren als getallen wordt gelezen. Verwijder de rijen waar\n",
    "een onbekende waarde staat. Verwijder nu de rijen met uitschieters. Hoeveel rijen schieten er over?"
   ]
  },
  {
   "cell_type": "code",
   "execution_count": 85,
   "metadata": {},
   "outputs": [
    {
     "name": "stdout",
     "output_type": "stream",
     "text": [
      "1056\n"
     ]
    },
    {
     "data": {
      "text/html": [
       "<div>\n",
       "<style scoped>\n",
       "    .dataframe tbody tr th:only-of-type {\n",
       "        vertical-align: middle;\n",
       "    }\n",
       "\n",
       "    .dataframe tbody tr th {\n",
       "        vertical-align: top;\n",
       "    }\n",
       "\n",
       "    .dataframe thead th {\n",
       "        text-align: right;\n",
       "    }\n",
       "</style>\n",
       "<table border=\"1\" class=\"dataframe\">\n",
       "  <thead>\n",
       "    <tr style=\"text-align: right;\">\n",
       "      <th></th>\n",
       "      <th>uren</th>\n",
       "      <th>punten</th>\n",
       "    </tr>\n",
       "  </thead>\n",
       "  <tbody>\n",
       "    <tr>\n",
       "      <th>0</th>\n",
       "      <td>0.70</td>\n",
       "      <td>15</td>\n",
       "    </tr>\n",
       "    <tr>\n",
       "      <th>1</th>\n",
       "      <td>0.68</td>\n",
       "      <td>18</td>\n",
       "    </tr>\n",
       "    <tr>\n",
       "      <th>2</th>\n",
       "      <td>1.50</td>\n",
       "      <td>14</td>\n",
       "    </tr>\n",
       "    <tr>\n",
       "      <th>3</th>\n",
       "      <td>2.40</td>\n",
       "      <td>6</td>\n",
       "    </tr>\n",
       "    <tr>\n",
       "      <th>4</th>\n",
       "      <td>0.00</td>\n",
       "      <td>18</td>\n",
       "    </tr>\n",
       "    <tr>\n",
       "      <th>...</th>\n",
       "      <td>...</td>\n",
       "      <td>...</td>\n",
       "    </tr>\n",
       "    <tr>\n",
       "      <th>1059</th>\n",
       "      <td>2.64</td>\n",
       "      <td>15</td>\n",
       "    </tr>\n",
       "    <tr>\n",
       "      <th>1060</th>\n",
       "      <td>1.58</td>\n",
       "      <td>11</td>\n",
       "    </tr>\n",
       "    <tr>\n",
       "      <th>1061</th>\n",
       "      <td>1.53</td>\n",
       "      <td>18</td>\n",
       "    </tr>\n",
       "    <tr>\n",
       "      <th>1062</th>\n",
       "      <td>0.80</td>\n",
       "      <td>16</td>\n",
       "    </tr>\n",
       "    <tr>\n",
       "      <th>1063</th>\n",
       "      <td>1.04</td>\n",
       "      <td>17</td>\n",
       "    </tr>\n",
       "  </tbody>\n",
       "</table>\n",
       "<p>1056 rows × 2 columns</p>\n",
       "</div>"
      ],
      "text/plain": [
       "      uren  punten\n",
       "0     0.70      15\n",
       "1     0.68      18\n",
       "2     1.50      14\n",
       "3     2.40       6\n",
       "4     0.00      18\n",
       "...    ...     ...\n",
       "1059  2.64      15\n",
       "1060  1.58      11\n",
       "1061  1.53      18\n",
       "1062  0.80      16\n",
       "1063  1.04      17\n",
       "\n",
       "[1056 rows x 2 columns]"
      ]
     },
     "execution_count": 85,
     "metadata": {},
     "output_type": "execute_result"
    }
   ],
   "source": [
    "# Lees het CSV-bestand in een DataFrame\n",
    "df = pd.read_csv(\"./data/socialeMediaVsPunten.csv\", sep=\",\", decimal=\".\", header=0, na_values=missing_values)\n",
    "df.dropna(inplace=True)\n",
    "\n",
    "# Bepaal de uitschietergrenzen voor de kolom 'punten' & 'uren'\n",
    "outliers_punten = outlier_boundaries(df[\"punten\"])\n",
    "outliers_uren = outlier_boundaries(df[\"uren\"])\n",
    "\n",
    "# # Filter de rijen met uitschieters\n",
    "df = df[(df[\"punten\"] >= outliers_punten[0]) & (df[\"punten\"] <= outliers_punten[1])]\n",
    "df = df[(df[\"uren\"] >= outliers_uren[0]) & (df[\"uren\"] <= outliers_uren[1])]\n",
    "\n",
    "# df = drop_outliers(df, \"uren\")\n",
    "# df = drop_outliers(df, \"punten\")\n",
    "# df = drop_outliers(df, \"uren\")\n",
    "# df = drop_outliers(df, \"punten\")\n",
    "\n",
    "# Print het aantal overgebleven rijen\n",
    "print(len(df))\n",
    "df"
   ]
  },
  {
   "cell_type": "markdown",
   "metadata": {},
   "source": [
    "2. Maak een histogram van de uren en de punten apart. Gebruik de formule van Sturges om het aantal\n",
    "klassen te bepalen"
   ]
  },
  {
   "cell_type": "code",
   "execution_count": 45,
   "metadata": {},
   "outputs": [
    {
     "name": "stdout",
     "output_type": "stream",
     "text": [
      "Sturges (# klassen): 12\n",
      "Scott (klasse breedte): 14\n",
      "Scott (# klassen): 33\n",
      "[√n]: 33\n",
      "None\n"
     ]
    },
    {
     "data": {
      "image/png": "[encoded data removed]",
      "text/plain": [
       "<Figure size 1500x500 with 2 Axes>"
      ]
     },
     "metadata": {},
     "output_type": "display_data"
    }
   ],
   "source": [
    "# Bepaal het aantal klassen\n",
    "print(aantal_klassen(df.uren))\n",
    "klassen = 12\n",
    "\n",
    "# Maak subplots voor 'uren' en 'punten'\n",
    "fig, axes = plt.subplots(nrows=1, ncols=2, figsize=(15, 5))\n",
    "\n",
    "# Histogram voor 'uren'\n",
    "df['uren'].plot.hist(ax=axes[0], bins=12)\n",
    "axes[0].set_xlabel(\"Aantal uren op sociale media\")\n",
    "axes[0].set_ylabel(\"Frequentie\")\n",
    "axes[0].set_title(\"Uren op sociale media\")\n",
    "\n",
    "# Histogram voor 'punten'\n",
    "df['punten'].plot.hist(ax=axes[1], bins=12)\n",
    "axes[1].set_xlabel(\"Aantal punten op test\")\n",
    "axes[1].set_ylabel(\"Frequentie\")\n",
    "axes[1].set_title(\"Behaalde punten\")\n",
    "\n",
    "plt.tight_layout()\n",
    "plt.show()"
   ]
  },
  {
   "cell_type": "markdown",
   "metadata": {},
   "source": [
    "3. Wat is het gemiddeld aantal uren dat een student aan sociale media spendeert?"
   ]
  },
  {
   "cell_type": "code",
   "execution_count": 51,
   "metadata": {},
   "outputs": [
    {
     "name": "stdout",
     "output_type": "stream",
     "text": [
      "Gemiddeld aantal uren: 1.26 uur.\n"
     ]
    }
   ],
   "source": [
    "print(f\"Gemiddeld aantal uren: {df.uren.mean().round(2)} uur.\")"
   ]
  },
  {
   "cell_type": "markdown",
   "metadata": {},
   "source": [
    "4. Wat is de standaardafwijking van het aantal uren? Wat betekent dit?"
   ]
  },
  {
   "cell_type": "code",
   "execution_count": 54,
   "metadata": {},
   "outputs": [
    {
     "name": "stdout",
     "output_type": "stream",
     "text": [
      "Standaardafwijking aantal uren: 0.76.\n",
      "Dit wil zeggen dat de data veel varieert tegenover het gemiddelde.\n"
     ]
    }
   ],
   "source": [
    "print(\n",
    "    f\"Standaardafwijking aantal uren: {df.uren.std().round(2)}.\\nDit wil zeggen dat de data veel varieert tegenover het gemiddelde.\")"
   ]
  },
  {
   "cell_type": "markdown",
   "metadata": {},
   "source": [
    "5. Wat is de gemiddelde score van de studenten?"
   ]
  },
  {
   "cell_type": "code",
   "execution_count": 55,
   "metadata": {},
   "outputs": [
    {
     "name": "stdout",
     "output_type": "stream",
     "text": [
      "Gemiddelde score studenten: 10.81 punten.\n"
     ]
    }
   ],
   "source": [
    "print(f\"Gemiddelde score studenten: {df.punten.mean().round(2)} punten.\")"
   ]
  },
  {
   "cell_type": "markdown",
   "metadata": {},
   "source": [
    "6. Wat is de standaardafwijking van de score?"
   ]
  },
  {
   "cell_type": "code",
   "execution_count": 60,
   "metadata": {},
   "outputs": [
    {
     "name": "stdout",
     "output_type": "stream",
     "text": [
      "Standaardafwijking punten: 4.5\n"
     ]
    }
   ],
   "source": [
    "print(f\"Standaardafwijking punten: {df.punten.std().round(2)}\")"
   ]
  },
  {
   "cell_type": "markdown",
   "metadata": {},
   "source": [
    "### Hulp standaardafwijking:\n",
    "De standaardafwijking is een maat voor de spreiding of variabiliteit van de dataset. Het meet de gemiddelde afstand van elk datapunt tot het gemiddelde. Een lage standaardafwijking geeft aan dat de waarden in de dataset dicht bij het gemiddelde liggen en dat de gegevens minder variabel zijn. Een hoge standaardafwijking geeft daarentegen aan dat de waarden in de dataset verder van het gemiddelde liggen en dat de gegevens meer variabel zijn."
   ]
  },
  {
   "cell_type": "markdown",
   "metadata": {},
   "source": [
    "7. Maak een scatterplot van de 2 variabelen. Welke correlatie verwacht je?"
   ]
  },
  {
   "cell_type": "code",
   "execution_count": 63,
   "metadata": {},
   "outputs": [
    {
     "name": "stdout",
     "output_type": "stream",
     "text": [
      "We verwachten een lage correlatie.\n"
     ]
    },
    {
     "data": {
      "image/png": "[encoded data removed]",
      "text/plain": [
       "<Figure size 640x480 with 1 Axes>"
      ]
     },
     "metadata": {},
     "output_type": "display_data"
    }
   ],
   "source": [
    "fig, ax = plt.subplots()\n",
    "ax.scatter(df.uren, df.punten)\n",
    "\n",
    "print(\"We verwachten een lage correlatie.\")"
   ]
  },
  {
   "cell_type": "markdown",
   "metadata": {},
   "source": [
    "8. Bereken de correlatie tussen de 2 variabelen. Doe dit ook eens via de Z-scores (Pearson). Wat\n",
    "besluit je?"
   ]
  },
  {
   "cell_type": "code",
   "execution_count": 65,
   "metadata": {},
   "outputs": [
    {
     "name": "stdout",
     "output_type": "stream",
     "text": [
      "Correlatie tussen uren en punten: -0.014669282578565843\n",
      "Dit wil zeggen dat er geen lineair verband is aangetoond tussen de twee variabelen.\n"
     ]
    }
   ],
   "source": [
    "print(\n",
    "    f\"Correlatie tussen uren en punten: {df.uren.corr(df.punten)}\\nDit wil zeggen dat er geen lineair verband is aangetoond tussen de twee variabelen.\")"
   ]
  },
  {
   "cell_type": "markdown",
   "metadata": {},
   "source": [
    "9. Welke rangcorrelatie vind je volgens Kendall? Wat betekent deze waarde?"
   ]
  },
  {
   "cell_type": "code",
   "execution_count": 71,
   "metadata": {},
   "outputs": [
    {
     "name": "stdout",
     "output_type": "stream",
     "text": [
      "Rangcorrelatie tussen uren en punten: -0.006172414993231387\n",
      "Ook deze coëfficiënt geeft aan dat er geen verband is.\n"
     ]
    }
   ],
   "source": [
    "print(\n",
    "    f\"Rangcorrelatie tussen uren en punten: {df.uren.corr(df.punten, method='kendall')}\\nOok deze coëfficiënt geeft aan dat er geen verband is.\")"
   ]
  },
  {
   "cell_type": "markdown",
   "metadata": {},
   "source": [
    "10. Heeft het zin om hier een regressielijn te bepalen? Waarom wel/niet? Bepaal de regressielijn als dit\n",
    "zin heeft."
   ]
  },
  {
   "cell_type": "markdown",
   "metadata": {},
   "source": [
    "Nee, want er is geen correlatie. Een regressielijn zou maar 0.02152% (R²) van de variantie\n",
    "verklaren."
   ]
  }
 ],
 "metadata": {
  "kernelspec": {
   "display_name": "Python 3 (ipykernel)",
   "language": "python",
   "name": "python3"
  },
  "language_info": {
   "codemirror_mode": {
    "name": "ipython",
    "version": 2
   },
   "file_extension": ".py",
   "mimetype": "text/x-python",
   "name": "python",
   "nbconvert_exporter": "python",
   "pygments_lexer": "ipython2",
   "version": "2.7.6"
  }
 },
 "nbformat": 4,
 "nbformat_minor": 1
}
